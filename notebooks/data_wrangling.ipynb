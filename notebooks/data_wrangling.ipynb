{
 "cells": [
  {
   "cell_type": "code",
   "execution_count": null,
   "metadata": {},
   "outputs": [],
   "source": [
    "import numpy as np\n",
    "import os\n",
    "import glob\n",
    "import pandas as pd\n",
    "import shutil\n",
    "from tqdm import tqdm\n"
   ]
  },
  {
   "cell_type": "code",
   "execution_count": null,
   "metadata": {},
   "outputs": [],
   "source": [
    "\n",
    "file_path = '/data/rsg/chemistry/jyim/projects/flow-matching/notebooks/filenames.txt'\n",
    "all_genie_files = []\n",
    "with open(file_path, 'r') as file:\n",
    "    for line in file:\n",
    "        all_genie_files.append(line.strip())\n",
    "all_genie_files = set(all_genie_files)"
   ]
  },
  {
   "cell_type": "code",
   "execution_count": null,
   "metadata": {},
   "outputs": [],
   "source": [
    "scope_dir = '/data/rsg/chemistry/jyim/projects/genie/data/pdbstyle-2.08'\n",
    "write_dir = '/data/rsg/chemistry/jyim/large_data/scope'\n",
    "all_file_paths = glob.glob(\n",
    "    os.path.join(scope_dir, '**/*.ent')\n",
    ")\n",
    "\n",
    "for file_path in tqdm(all_file_paths):\n",
    "    filename = os.path.basename(file_path)\n",
    "    if filename.replace('.ent', '') in all_genie_files:\n",
    "        write_path = os.path.join(write_dir, filename.replace('.ent', '.pdb'))\n",
    "        shutil.copy(file_path, write_path)\n"
   ]
  },
  {
   "cell_type": "code",
   "execution_count": null,
   "metadata": {},
   "outputs": [],
   "source": []
  }
 ],
 "metadata": {
  "kernelspec": {
   "display_name": "fm",
   "language": "python",
   "name": "python3"
  },
  "language_info": {
   "codemirror_mode": {
    "name": "ipython",
    "version": 3
   },
   "file_extension": ".py",
   "mimetype": "text/x-python",
   "name": "python",
   "nbconvert_exporter": "python",
   "pygments_lexer": "ipython3",
   "version": "3.10.12"
  },
  "orig_nbformat": 4
 },
 "nbformat": 4,
 "nbformat_minor": 2
}
