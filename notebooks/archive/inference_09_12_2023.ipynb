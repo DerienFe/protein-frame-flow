{
 "cells": [
  {
   "cell_type": "code",
   "execution_count": 1,
   "metadata": {},
   "outputs": [],
   "source": [
    "%load_ext autoreload\n",
    "%autoreload 2"
   ]
  },
  {
   "cell_type": "code",
   "execution_count": 2,
   "metadata": {},
   "outputs": [],
   "source": [
    "import os\n",
    "from omegaconf import OmegaConf\n",
    "from models.flow_module import FlowModule\n",
    "import torch\n",
    "from data.pdb_dataloader import PdbDataModule\n",
    "import glob\n",
    "import GPUtil\n",
    "from data import utils as du\n",
    "from scipy.spatial.transform import Rotation\n",
    "import numpy as np\n",
    "import tree\n",
    "from data import so3_utils\n",
    "from data import all_atom\n",
    "from analysis import plotting\n",
    "from analysis import utils as au\n",
    "from openfold.utils.superimposition import superimpose\n",
    "import matplotlib.pyplot as plt\n",
    "from tqdm import tqdm\n"
   ]
  },
  {
   "cell_type": "code",
   "execution_count": 5,
   "metadata": {},
   "outputs": [
    {
     "name": "stdout",
     "output_type": "stream",
     "text": [
      "/data/rsg/chemistry/jyim/projects/flow-matching/ckpt/se3-fm/warm_start/2023-09-05_20-21-01/last.ckpt\n"
     ]
    }
   ],
   "source": [
    "# Setup lightning module\n",
    "\n",
    "# ckpt_dir = 'ckpt/se3-fm/warm_start_baseline/2023-09-04_15-13-01'\n",
    "# ckpt_dir = 'ckpt/se3-fm/flower/2023-09-04_20-54-39/'\n",
    "# ckpt_dir = 'ckpt/se3-fm/warm_start/2023-08-30_17-36-07'\n",
    "ckpt_dir = '/data/rsg/chemistry/jyim/projects/flow-matching/ckpt/se3-fm/warm_start/2023-09-05_20-21-01'\n",
    "ckpt_path = sorted(glob.glob(os.path.join(ckpt_dir, '*.ckpt')))[-1]\n",
    "print(ckpt_path)\n",
    "\n",
    "cfg_path = os.path.join(ckpt_dir, 'config.yaml')\n",
    "ckpt_cfg = OmegaConf.load(cfg_path)\n",
    "base_path = 'configs/base.yaml'\n",
    "base_cfg = OmegaConf.load(base_path)\n",
    "\n",
    "OmegaConf.set_struct(base_cfg, False)\n",
    "OmegaConf.set_struct(ckpt_cfg, False)\n",
    "cfg = OmegaConf.merge(base_cfg, ckpt_cfg)\n",
    "cfg.experiment.checkpointer.dirpath = './'\n",
    "\n",
    "flow = FlowModule.load_from_checkpoint(\n",
    "    checkpoint_path=ckpt_path,\n",
    "    model_cfg=cfg.model,\n",
    "    experiment_cfg=cfg.experiment\n",
    ") \n",
    "_ = flow.eval()"
   ]
  },
  {
   "cell_type": "code",
   "execution_count": 6,
   "metadata": {},
   "outputs": [],
   "source": [
    "# Set up data module\n",
    "data_module = PdbDataModule(cfg.data)\n",
    "data_module.setup('fit')\n",
    "train_dataloader = data_module.train_dataloader(\n",
    "    num_replicas=1,\n",
    "    rank=1\n",
    ")\n",
    "data_iter = iter(train_dataloader)\n"
   ]
  },
  {
   "cell_type": "code",
   "execution_count": 8,
   "metadata": {},
   "outputs": [
    {
     "name": "stdout",
     "output_type": "stream",
     "text": [
      "Found batch with 75 residues, 90 batch size\n",
      "Using device cuda:0\n",
      "torch.Size([90, 75, 3])\n",
      "torch.Size([90, 75, 3, 3])\n"
     ]
    }
   ],
   "source": [
    "# Search for a reasonable batch\n",
    "stop_search = False\n",
    "while not stop_search: \n",
    "    batch = next(data_iter)\n",
    "    num_batch, num_res, _ = batch['trans_1'].shape\n",
    "    if num_res > 70 and num_res < 100:\n",
    "        stop_search = True\n",
    "\n",
    "print(f'Found batch with {num_res} residues, {num_batch} batch size')\n",
    "\n",
    "# Set up device and cuda\n",
    "num_batch, num_res, _ = batch['trans_1'].shape\n",
    "# cuda_id = GPUtil.getAvailable(order='memory', limit = 8)[0]\n",
    "# device = f'cuda:{cuda_id}'\n",
    "device = 'cuda:0'\n",
    "# device = 'cpu'\n",
    "print(f'Using device {device}')\n",
    "flow.model = flow.model.to(device)\n",
    "batch = tree.map_structure(lambda x: x.to(device), batch)\n",
    "num_batch = batch['res_mask'].shape[0]\n",
    "\n",
    "print(batch['trans_1'].shape)\n",
    "print(batch['rotmats_1'].shape)"
   ]
  },
  {
   "cell_type": "code",
   "execution_count": 6,
   "metadata": {},
   "outputs": [
    {
     "data": {
      "text/plain": [
       "dict_keys(['aatype', 'res_idx', 'rotmats_1', 'trans_1', 'res_mask', 'csv_idx'])"
      ]
     },
     "execution_count": 6,
     "metadata": {},
     "output_type": "execute_result"
    }
   ],
   "source": [
    "batch.keys()"
   ]
  },
  {
   "cell_type": "code",
   "execution_count": 7,
   "metadata": {},
   "outputs": [
    {
     "data": {
      "text/plain": [
       "tensor([[ 1,  2,  3,  ..., 73, 74, 75],\n",
       "        [ 1,  2,  3,  ..., 73, 74, 75],\n",
       "        [ 1,  2,  3,  ..., 73, 74, 75],\n",
       "        ...,\n",
       "        [ 1,  2,  3,  ..., 73, 74, 75],\n",
       "        [ 1,  2,  3,  ..., 73, 74, 75],\n",
       "        [ 1,  2,  3,  ..., 73, 74, 75]], device='cuda:0')"
      ]
     },
     "execution_count": 7,
     "metadata": {},
     "output_type": "execute_result"
    }
   ],
   "source": [
    "batch['res_idx']"
   ]
  },
  {
   "cell_type": "code",
   "execution_count": 49,
   "metadata": {},
   "outputs": [
    {
     "name": "stdout",
     "output_type": "stream",
     "text": [
      "torch.Size([90, 75])\n",
      "torch.Size([90, 75])\n",
      "torch.Size([90, 75, 3, 3])\n",
      "torch.Size([90, 75, 3])\n",
      "torch.Size([90, 75])\n",
      "torch.Size([90, 1])\n",
      "torch.Size([90, 75, 3])\n",
      "torch.Size([90, 75, 3, 3])\n",
      "torch.Size([90, 1])\n"
     ]
    }
   ],
   "source": [
    "for key in batch.keys():\n",
    "    print(batch[key].shape)"
   ]
  },
  {
   "attachments": {},
   "cell_type": "markdown",
   "metadata": {},
   "source": [
    "# Utils"
   ]
  },
  {
   "cell_type": "code",
   "execution_count": 7,
   "metadata": {},
   "outputs": [],
   "source": [
    "def atom37_from_trans_rot(trans, rots, res_mask):\n",
    "        rigids = du.create_rigid(rots, trans)\n",
    "        atom37 = all_atom.compute_backbone(\n",
    "            rigids,\n",
    "            torch.zeros(\n",
    "                trans.shape[0],\n",
    "                trans.shape[1],\n",
    "                2,\n",
    "                device=trans.device\n",
    "            )\n",
    "        )[0]\n",
    "        atom37 = atom37.detach().cpu()\n",
    "        batch_atom37 = []\n",
    "        for i in range(num_batch):\n",
    "            batch_atom37.append(\n",
    "                du.adjust_oxygen_pos(atom37[i], res_mask[i])\n",
    "            )\n",
    "        return torch.stack(batch_atom37)\n",
    "\n",
    "def process_trans_rot_traj(trans_traj, rots_traj, res_mask):\n",
    "    res_mask = res_mask.detach().cpu()\n",
    "    atom37_traj = [\n",
    "         atom37_from_trans_rot(trans, rots, res_mask)\n",
    "         for trans, rots in zip(trans_traj, rots_traj) \n",
    "    ]\n",
    "    atom37_traj = torch.stack(atom37_traj).swapaxes(0, 1)\n",
    "    return atom37_traj \n",
    "\n",
    "def new_batch_size(n, batch):\n",
    "    return {key: batch[key][0:n, ...] for key in batch.keys()}"
   ]
  },
  {
   "attachments": {},
   "cell_type": "markdown",
   "metadata": {},
   "source": [
    "# SDE and ODE sampling"
   ]
  },
  {
   "cell_type": "code",
   "execution_count": 32,
   "metadata": {},
   "outputs": [
    {
     "name": "stderr",
     "output_type": "stream",
     "text": [
      "Global seed set to 42\n"
     ]
    },
    {
     "name": "stdout",
     "output_type": "stream",
     "text": [
      "1\n",
      "torch.Size([2, 128, 37, 3])\n"
     ]
    }
   ],
   "source": [
    "import pytorch_lightning as pl\n",
    "# seed everything to 42\n",
    "pl.seed_everything(42)\n",
    "\n",
    "res_mask = torch.zeros((2, 128), device=device)\n",
    "res_idx = torch.arange(1, 129, device=device).view(1, -1).repeat(2, 1)\n",
    "res_mask[0, 0:128] = 1.0\n",
    "res_mask[1, 0:128] = 1.0\n",
    "\n",
    "batch = ({'res_mask': res_mask, 'res_idx': res_idx}, 'sample')\n",
    "\n",
    "\n",
    "# small_batch = new_batch_size(5, batch)\n",
    "\n",
    "sampling_outputs = flow.run_sampling(batch, return_traj=False,\n",
    "                                     return_model_outputs=False, num_timesteps=100,\n",
    "                                     do_sde=False)\n",
    "prot_traj = sampling_outputs\n",
    "print(len(prot_traj))\n",
    "print(prot_traj[0].shape)\n",
    "# print(prot_traj[0][0, :, 1, 0])\n",
    "# print(prot_traj[0][1, :, 1, 0])\n",
    "atom37_traj = prot_traj[0]"
   ]
  },
  {
   "cell_type": "code",
   "execution_count": 39,
   "metadata": {},
   "outputs": [
    {
     "name": "stdout",
     "output_type": "stream",
     "text": [
      "tensor([[-2.3842e-06, -3.5763e-07, -2.3842e-06],\n",
      "        [-1.1921e-06,  0.0000e+00, -2.3842e-06],\n",
      "        [ 2.6226e-06, -2.5034e-06,  0.0000e+00],\n",
      "        [-2.9802e-07,  2.5034e-06,  4.7684e-07],\n",
      "        [ 1.1921e-06, -3.8147e-06, -9.5367e-07],\n",
      "        [ 1.4305e-06, -3.0994e-06,  3.3379e-06],\n",
      "        [ 1.4305e-06, -3.2783e-06,  1.4305e-06],\n",
      "        [ 1.9073e-06, -3.3379e-06,  1.4305e-06],\n",
      "        [-4.2915e-06, -5.4836e-06,  3.4571e-06],\n",
      "        [ 4.7684e-07, -5.4836e-06, -3.7253e-07],\n",
      "        [-4.7684e-07, -2.8610e-06,  1.4305e-06],\n",
      "        [ 2.8610e-06, -4.2915e-06,  1.4305e-06],\n",
      "        [-1.1921e-06, -2.1458e-06,  0.0000e+00],\n",
      "        [-1.1921e-07, -3.0994e-06,  9.5367e-07],\n",
      "        [-2.9802e-07,  4.7684e-07,  0.0000e+00],\n",
      "        [-1.4305e-06, -1.1921e-06,  1.9073e-06],\n",
      "        [ 7.1526e-07, -9.5367e-07,  9.5367e-07],\n",
      "        [-9.5367e-07, -4.7684e-07,  2.3842e-06],\n",
      "        [ 4.7684e-07,  0.0000e+00,  1.4305e-06],\n",
      "        [ 0.0000e+00, -1.9073e-06,  1.9968e-06],\n",
      "        [-9.5367e-07,  4.7684e-07,  1.9073e-06],\n",
      "        [ 0.0000e+00,  1.9073e-06,  2.8610e-06],\n",
      "        [-2.7418e-06,  7.1526e-07,  0.0000e+00],\n",
      "        [-1.5497e-06,  1.9073e-06, -1.9073e-06],\n",
      "        [-2.3842e-07,  1.1921e-06,  0.0000e+00],\n",
      "        [ 9.5367e-07, -1.7881e-07, -1.4305e-06],\n",
      "        [ 2.3842e-06,  2.9802e-06, -2.8610e-06],\n",
      "        [ 0.0000e+00, -2.3842e-07, -4.7684e-07],\n",
      "        [-9.5367e-07,  1.9073e-06,  2.6226e-06],\n",
      "        [ 2.8610e-06, -9.5367e-07,  1.9073e-06],\n",
      "        [ 5.7220e-06, -1.9073e-06,  2.8610e-06],\n",
      "        [ 4.2915e-06,  4.7684e-07, -9.5367e-07],\n",
      "        [ 5.2452e-06,  0.0000e+00,  4.7684e-07],\n",
      "        [ 6.6757e-06,  1.4305e-06,  0.0000e+00],\n",
      "        [ 5.2452e-06, -1.1921e-06,  4.7684e-07],\n",
      "        [ 7.3910e-06, -4.4703e-07, -1.9073e-06],\n",
      "        [ 2.3842e-06, -4.0531e-06, -2.8610e-06],\n",
      "        [ 9.5367e-07, -1.4305e-06,  9.5367e-07],\n",
      "        [-2.3842e-06, -3.8147e-06,  4.7684e-07],\n",
      "        [ 0.0000e+00, -5.2452e-06, -2.9802e-07],\n",
      "        [-4.7684e-07,  4.7684e-07,  4.7684e-07],\n",
      "        [-3.3379e-06,  4.7684e-06,  4.7684e-07],\n",
      "        [-2.3842e-06,  2.3842e-07, -2.8610e-06],\n",
      "        [-2.8610e-06,  9.5367e-07,  1.9073e-06],\n",
      "        [-5.0068e-06,  3.3379e-06, -1.4305e-06],\n",
      "        [-4.0531e-06,  1.9073e-06, -1.9073e-06],\n",
      "        [-2.3842e-06,  1.4305e-06, -2.8610e-06],\n",
      "        [-4.7684e-07,  9.5367e-07, -1.4305e-06],\n",
      "        [ 1.0133e-06,  4.7684e-07,  4.7684e-07],\n",
      "        [ 4.7684e-07, -2.8610e-06, -1.9073e-06],\n",
      "        [ 1.1921e-06, -1.9073e-06,  1.5646e-06],\n",
      "        [-3.3379e-06, -1.9073e-06, -8.3447e-07],\n",
      "        [-9.5367e-07,  4.7684e-07,  4.7684e-07],\n",
      "        [ 3.4571e-06,  0.0000e+00, -3.3379e-06],\n",
      "        [ 2.2650e-06,  1.9073e-06, -2.8610e-06],\n",
      "        [ 7.1526e-07, -2.6226e-06, -5.7220e-06],\n",
      "        [-1.9073e-06, -1.4305e-06, -8.5831e-06],\n",
      "        [-4.7684e-07,  3.8147e-06, -2.9802e-06],\n",
      "        [-9.5367e-07,  4.7684e-07, -3.6359e-06],\n",
      "        [-9.5367e-07, -1.4305e-06, -4.2915e-06],\n",
      "        [-9.5367e-07, -2.3842e-06, -2.3842e-06],\n",
      "        [ 9.5367e-07, -5.9605e-07, -4.2915e-06],\n",
      "        [ 0.0000e+00,  1.9670e-06, -5.2452e-06],\n",
      "        [ 1.9073e-06,  3.0994e-06, -1.4305e-06]], device='cuda:0',\n",
      "       grad_fn=<SubBackward0>)\n"
     ]
    },
    {
     "ename": "",
     "evalue": "",
     "output_type": "error",
     "traceback": [
      "\u001b[1;31mThe Kernel crashed while executing code in the the current cell or a previous cell. Please review the code in the cell(s) to identify a possible cause of the failure. Click <a href='https://aka.ms/vscodeJupyterKernelCrash'>here</a> for more info. View Jupyter <a href='command:jupyter.viewOutput'>log</a> for further details."
     ]
    }
   ],
   "source": [
    "\n",
    "\n",
    "num_batch = 2\n",
    "num_res = 128\n",
    "trans_0 = flow._centered_gaussian(\n",
    "    (num_batch, num_res, 3), device) * du.NM_TO_ANG_SCALE\n",
    "rots_0 = torch.tensor(\n",
    "    Rotation.random(num_batch*num_res).as_matrix(),\n",
    "    device=device,\n",
    "    dtype=torch.float32,\n",
    ").view(num_batch, num_res, 3, 3)\n",
    "\n",
    "# both 64\n",
    "\n",
    "res_mask = torch.zeros((2, 64), device=device)\n",
    "res_idx = torch.arange(1, 65, device=device).view(1, -1).repeat(2, 1)\n",
    "res_mask[0, 0:64] = 1.0\n",
    "res_mask[1, 0:64] = 1.0\n",
    "\n",
    "batch = {'res_mask': res_mask, 'res_idx': res_idx}\n",
    "\n",
    "batch['trans_t'] = trans_0[:, 0:64, ...]\n",
    "batch['rotmats_t'] = rots_0[:, 0:64, ...]\n",
    "batch['t'] = torch.ones((num_batch, 1)).to(device) * 0.5\n",
    "model_out = flow.forward(batch)\n",
    "pred_trans_1_64 = model_out['pred_trans'] # (2, 64, 3)\n",
    "\n",
    "\n",
    "# one 64, one 128\n",
    "\n",
    "res_mask = torch.zeros((2, 128), device=device)\n",
    "res_idx = torch.arange(1, 129, device=device).view(1, -1).repeat(2, 1)\n",
    "res_mask[0, 0:64] = 1.0\n",
    "res_mask[1, 0:128] = 1.0\n",
    "\n",
    "batch = {'res_mask': res_mask, 'res_idx': res_idx}\n",
    "\n",
    "batch['trans_t'] = trans_0\n",
    "batch['rotmats_t'] = rots_0\n",
    "batch['t'] = torch.ones((num_batch, 1)).to(device) * 0.5\n",
    "model_out = flow.forward(batch)\n",
    "pred_trans_1_128 = model_out['pred_trans'] # (2, 128, 3)\n",
    "\n",
    "# assert torch.allclose(pred_trans_1_64[0, 0:64, :], pred_trans_1_128[0, 0:64, :])\n",
    "# print(pred_trans_1_64[0, 0:64, :])\n",
    "# print(pred_trans_1_128[0, 0:64, :])\n",
    "print(pred_trans_1_64[0, 0:64, :] - pred_trans_1_128[0, 0:64, :])"
   ]
  },
  {
   "cell_type": "code",
   "execution_count": 7,
   "metadata": {},
   "outputs": [
    {
     "name": "stdout",
     "output_type": "stream",
     "text": [
      "sampling with device cuda:0\n",
      "rots_0 torch.Size([90, 75, 3, 3])\n"
     ]
    },
    {
     "name": "stderr",
     "output_type": "stream",
     "text": [
      "  0%|          | 0/99 [00:00<?, ?it/s]/Mounts/rbg-storage1/users/campbell/mamba/envs/fm/lib/python3.10/site-packages/torch/nn/modules/transformer.py:562: UserWarning: Converting mask without torch.bool dtype to bool; this will negatively affect performance. Prefer to use a boolean mask directly. (Triggered internally at /opt/conda/conda-bld/pytorch_1682343995026/work/aten/src/ATen/native/transformers/attention.cpp:150.)\n",
      "  return torch._transformer_encoder_layer_fwd(\n",
      "100%|██████████| 99/99 [00:22<00:00,  4.45it/s]\n"
     ]
    }
   ],
   "source": [
    "# ODE\n",
    "\n",
    "return_traj = False\n",
    "\n",
    "res_mask = batch['res_mask']\n",
    "device = res_mask.device\n",
    "print(\"sampling with device\", device)\n",
    "num_batch, num_res = res_mask.shape[:2]\n",
    "trans_0 = flow._centered_gaussian(\n",
    "    (num_batch, num_res, 3), device) * du.NM_TO_ANG_SCALE\n",
    "rots_0 = torch.tensor(\n",
    "    Rotation.random(num_batch*num_res).as_matrix(),\n",
    "    device=device,\n",
    "    dtype=torch.float32,\n",
    ").view(num_batch, num_res, 3, 3)\n",
    "print(\"rots_0\", rots_0.shape)\n",
    "if rots_0.ndim == 3:\n",
    "    rots_0 = rots_0[None]\n",
    "\n",
    "prot_traj = [(trans_0, rots_0)]\n",
    "num_timesteps = flow._sampling_cfg.num_timesteps\n",
    "ts = np.linspace(flow._sampling_cfg.min_t, 1.0, num_timesteps)\n",
    "t_1 = ts[0]\n",
    "model_traj = []\n",
    "for t_2 in tqdm(ts[1:]):\n",
    "    d_t = t_2 - t_1\n",
    "    trans_t_1, rots_t_1 = prot_traj[-1]\n",
    "    with torch.no_grad():\n",
    "        if flow._exp_cfg.noise_trans:\n",
    "            batch['trans_t'] = trans_t_1\n",
    "        else:\n",
    "            batch['trans_t'] = batch['trans_1']\n",
    "        if flow._exp_cfg.noise_rots:\n",
    "            batch['rotmats_t'] = rots_t_1\n",
    "        else:\n",
    "            batch['rotmats_t'] = batch['rotmats_1']\n",
    "        batch['t'] = torch.ones((num_batch, 1)).to(device) * t_1\n",
    "        model_out = flow.forward(batch)\n",
    "\n",
    "    pred_trans_1 = model_out['pred_trans']\n",
    "    pred_rots_1 = model_out['pred_rotmats']\n",
    "    pred_rots_vf = model_out['pred_rots_vf']\n",
    "\n",
    "    model_traj.append(\n",
    "        (pred_trans_1.detach().cpu(), pred_rots_1.detach().cpu())\n",
    "    )\n",
    "\n",
    "    trans_vf = (pred_trans_1 - trans_t_1) / (1 - t_1)\n",
    "    trans_t_2 = trans_t_1 + trans_vf * d_t\n",
    "    if flow._model_cfg.predict_rot_vf:\n",
    "        rots_t_2 = so3_utils.geodesic_t(\n",
    "            d_t / (1 - t_1), pred_rots_1, rots_t_1, rot_vf=pred_rots_vf)\n",
    "    else:\n",
    "        rots_t_2 = so3_utils.geodesic_t(\n",
    "            d_t / (1 - t_1), pred_rots_1, rots_t_1) \n",
    "    t_1 = t_2\n",
    "    if return_traj:\n",
    "        prot_traj.append((trans_t_2, rots_t_2))\n",
    "    else:\n",
    "        prot_traj[-1] = (trans_t_2, rots_t_2)\n",
    "\n",
    "atom37_traj = all_atom.transrot_to_atom37(prot_traj, res_mask)\n",
    "atom37_traj = atom37_traj[0]"
   ]
  },
  {
   "cell_type": "code",
   "execution_count": 16,
   "metadata": {},
   "outputs": [
    {
     "name": "stdout",
     "output_type": "stream",
     "text": [
      "sampling with device cuda:0\n",
      "rots_0 torch.Size([5, 75, 3, 3])\n"
     ]
    },
    {
     "name": "stderr",
     "output_type": "stream",
     "text": [
      "  0%|          | 0/999 [00:00<?, ?it/s]/Mounts/rbg-storage1/users/campbell/mamba/envs/fm/lib/python3.10/site-packages/torch/nn/modules/transformer.py:562: UserWarning: Converting mask without torch.bool dtype to bool; this will negatively affect performance. Prefer to use a boolean mask directly. (Triggered internally at /opt/conda/conda-bld/pytorch_1682343995026/work/aten/src/ATen/native/transformers/attention.cpp:150.)\n",
      "  return torch._transformer_encoder_layer_fwd(\n",
      "100%|██████████| 999/999 [00:28<00:00, 34.90it/s]\n"
     ]
    }
   ],
   "source": [
    "# SDE\n",
    "\n",
    "return_traj = True\n",
    "\n",
    "\n",
    "batch = new_batch_size(5, batch)\n",
    "res_mask = batch['res_mask']\n",
    "device = res_mask.device\n",
    "print(\"sampling with device\", device)\n",
    "num_batch, num_res = res_mask.shape[:2]\n",
    "trans_0 = flow._centered_gaussian(\n",
    "    (num_batch, num_res, 3), device) * du.NM_TO_ANG_SCALE\n",
    "rots_0 = torch.tensor(\n",
    "    Rotation.random(num_batch*num_res).as_matrix(),\n",
    "    device=device,\n",
    "    dtype=torch.float32,\n",
    ").view(num_batch, num_res, 3, 3)\n",
    "print(\"rots_0\", rots_0.shape)\n",
    "if rots_0.ndim == 3:\n",
    "    rots_0 = rots_0[None]\n",
    "\n",
    "prot_traj = [(trans_0, rots_0)]\n",
    "# num_timesteps = flow._sampling_cfg.num_timesteps\n",
    "num_timesteps = 1000\n",
    "ts = np.linspace(1.0 - flow._sampling_cfg.min_t, flow._sampling_cfg.min_t, num_timesteps)\n",
    "t_1 = ts[0]\n",
    "model_traj = []\n",
    "for t_2 in tqdm(ts[1:]):\n",
    "    d_t = t_2 - t_1\n",
    "    trans_t_1, rots_t_1 = prot_traj[-1]\n",
    "    with torch.no_grad():\n",
    "        if flow._exp_cfg.noise_trans:\n",
    "            batch['trans_t'] = trans_t_1\n",
    "        else:\n",
    "            batch['trans_t'] = batch['trans_1']\n",
    "        if flow._exp_cfg.noise_rots:\n",
    "            batch['rotmats_t'] = rots_t_1\n",
    "        else:\n",
    "            batch['rotmats_t'] = batch['rotmats_1']\n",
    "        batch['t'] = torch.ones((num_batch, 1)).to(device) * (1 - t_1)\n",
    "        model_out = flow.forward(batch)\n",
    "\n",
    "    pred_trans_1 = model_out['pred_trans']\n",
    "    pred_rots_1 = model_out['pred_rotmats']\n",
    "    pred_rots_vf = model_out['pred_rots_vf']\n",
    "\n",
    "    model_traj.append(\n",
    "        (pred_trans_1.detach().cpu(), pred_rots_1.detach().cpu())\n",
    "    )\n",
    "    assert d_t < 0\n",
    "\n",
    "    # sde\n",
    "    trans_score = ((1 - t_1) * pred_trans_1 - trans_t_1) / (t_1**2 * du.NM_TO_ANG_SCALE**2)\n",
    "    trans_t_2 = (((-1)/(1-t_1)) * trans_t_1 - du.NM_TO_ANG_SCALE**2 * ((2 * t_1) / (1 - t_1)) * trans_score) * d_t + trans_t_1\n",
    "    trans_t_2 = trans_t_2 + torch.randn_like(trans_t_2) * np.sqrt( (-d_t) * (2 * t_1) / (1 - t_1)  ) * du.NM_TO_ANG_SCALE\n",
    "\n",
    "    # ode\n",
    "    # trans_t_2 = trans_t_1 + ((pred_trans_1 - trans_t_1) / t_1) * (- d_t)\n",
    "\n",
    "    assert not flow._model_cfg.predict_rot_vf\n",
    "\n",
    "    # ODE for the rotations\n",
    "    rots_t_2 = so3_utils.geodesic_t(\n",
    "        (-d_t) / t_1, pred_rots_1, rots_t_1) \n",
    "\n",
    "    t_1 = t_2\n",
    "    if return_traj:\n",
    "        prot_traj.append((trans_t_2, rots_t_2))\n",
    "    else:\n",
    "        prot_traj[-1] = (trans_t_2, rots_t_2)\n",
    "\n",
    "# final prediction\n",
    "t_1 = ts[-1]\n",
    "trans_t_1, rots_t_1 = prot_traj[-1]\n",
    "with torch.no_grad():\n",
    "    if flow._exp_cfg.noise_trans:\n",
    "        batch['trans_t'] = trans_t_1\n",
    "    else:\n",
    "        batch['trans_t'] = batch['trans_1']\n",
    "    if flow._exp_cfg.noise_rots:\n",
    "        batch['rotmats_t'] = rots_t_1\n",
    "    else:\n",
    "        batch['rotmats_t'] = batch['rotmats_1']\n",
    "    batch['t'] = torch.ones((num_batch, 1)).to(device) * (1 - t_1)\n",
    "    model_out = flow.forward(batch)\n",
    "\n",
    "pred_trans_1 = model_out['pred_trans']\n",
    "pred_rots_1 = model_out['pred_rotmats']\n",
    "pred_rots_vf = model_out['pred_rots_vf']\n",
    "\n",
    "trans_t_2 = pred_trans_1\n",
    "rots_t_2 = pred_rots_1\n",
    "\n",
    "model_traj.append(\n",
    "    (pred_trans_1.detach().cpu(), pred_rots_1.detach().cpu())\n",
    ")\n",
    "\n",
    "if return_traj:\n",
    "    prot_traj.append((trans_t_2, rots_t_2))\n",
    "else:\n",
    "    prot_traj[-1] = (trans_t_2, rots_t_2)\n",
    "\n",
    "\n",
    "\n",
    "\n",
    "atom37_traj = all_atom.transrot_to_atom37(prot_traj, res_mask)\n",
    "atom37_traj = atom37_traj[-1]"
   ]
  },
  {
   "cell_type": "code",
   "execution_count": 80,
   "metadata": {},
   "outputs": [],
   "source": [
    "# Save x0 predictions\n",
    "b_idx = 0\n",
    "import shutil\n",
    "save_dir = 'notebook_samples/'\n",
    "shutil.rmtree(save_dir)\n",
    "os.makedirs(save_dir, exist_ok=True)\n",
    "model_atom37_traj = all_atom.transrot_to_atom37(model_traj, res_mask)\n",
    "model_atom37_traj_np = np.array([du.to_numpy(x) for x in model_atom37_traj])\n",
    "\n",
    "_, num_batch, num_res, _, _ = model_atom37_traj_np.shape\n",
    "\n",
    "save_bits = np.linspace(0, model_atom37_traj_np.shape[0]-1, 10, dtype=int)\n",
    "\n",
    "for save_bit in save_bits:\n",
    "    sample_path = au.write_prot_to_pdb(\n",
    "        model_atom37_traj_np[save_bit, 0, ...],\n",
    "        os.path.join(\n",
    "            save_dir,\n",
    "            f'x0_sample_{b_idx}_len_{num_res}_tidx_{save_bit}.pdb'),\n",
    "        no_indexing=True\n",
    "    )"
   ]
  },
  {
   "cell_type": "code",
   "execution_count": 21,
   "metadata": {},
   "outputs": [
    {
     "name": "stdout",
     "output_type": "stream",
     "text": [
      "prot_atom37_traj_np (1000, 5, 75, 37, 3)\n"
     ]
    }
   ],
   "source": [
    "# Save xt progression\n",
    "b_idx = 0\n",
    "import shutil\n",
    "save_dir = 'notebook_samples/'\n",
    "shutil.rmtree(save_dir)\n",
    "os.makedirs(save_dir, exist_ok=True)\n",
    "prot_atom37_traj = all_atom.transrot_to_atom37(prot_traj, res_mask)\n",
    "prot_atom37_traj_np = np.array([du.to_numpy(x) for x in prot_atom37_traj])\n",
    "print(\"prot_atom37_traj_np\", prot_atom37_traj_np.shape)\n",
    "\n",
    "_, num_batch, num_res, _, _ = prot_atom37_traj_np.shape\n",
    "\n",
    "save_bits = np.linspace(0, prot_atom37_traj_np.shape[0]-1, 10, dtype=int)\n",
    "\n",
    "for save_bit in save_bits:\n",
    "    sample_path = au.write_prot_to_pdb(\n",
    "        prot_atom37_traj_np[save_bit, 0, ...],\n",
    "        os.path.join(\n",
    "            save_dir,\n",
    "            f'xt_sample_{b_idx}_len_{num_res}_tidx_{save_bit}.pdb'),\n",
    "        no_indexing=True\n",
    "    )"
   ]
  },
  {
   "cell_type": "code",
   "execution_count": 33,
   "metadata": {},
   "outputs": [
    {
     "name": "stdout",
     "output_type": "stream",
     "text": [
      "atom37_traj_np shape (2, 128, 37, 3)\n"
     ]
    }
   ],
   "source": [
    "# Save final samples\n",
    "import shutil\n",
    "save_dir = 'notebook_samples/'\n",
    "shutil.rmtree(save_dir)\n",
    "os.makedirs(save_dir, exist_ok=True)\n",
    "\n",
    "atom37_traj_np = du.to_numpy(atom37_traj)\n",
    "print(\"atom37_traj_np shape\", atom37_traj_np.shape)\n",
    "num_batch, num_res, _, _ = atom37_traj_np.shape\n",
    "\n",
    "\n",
    "max_save = 2\n",
    "for i, sample_traj in enumerate(atom37_traj_np):\n",
    "    if i == 0:\n",
    "        sample_traj = sample_traj[0:64, ...]\n",
    "    if i >= max_save:\n",
    "        break\n",
    "    sample_path = au.write_prot_to_pdb(\n",
    "        sample_traj,\n",
    "        os.path.join(\n",
    "            save_dir,\n",
    "            f'sample_{i}_len_{num_res}.pdb'),\n",
    "        no_indexing=True\n",
    "    )"
   ]
  },
  {
   "cell_type": "code",
   "execution_count": 43,
   "metadata": {},
   "outputs": [
    {
     "name": "stdout",
     "output_type": "stream",
     "text": [
      "prot_traj_trans_np (1001, 75, 37, 3)\n"
     ]
    },
    {
     "data": {
      "image/png": "[encoded data removed]",
      "text/plain": [
       "<Figure size 640x480 with 1 Axes>"
      ]
     },
     "metadata": {},
     "output_type": "display_data"
    }
   ],
   "source": [
    "# plot some progression of positions\n",
    "prot_traj_trans_np = np.array([x[0].cpu().detach().numpy() for x in prot_traj])\n",
    "print(\"prot_traj_trans_np\", prot_traj_trans_np.shape)\n",
    "for i in range(prot_traj_trans_np.shape[0]):\n",
    "    prot_traj_trans_np[i] = prot_traj_trans_np[i] - np.mean(prot_traj_trans_np[i], axis=1, keepdims=True)\n",
    "for i in range(10):\n",
    "    plt.plot(prot_traj_trans_np[:, i, 1, :])\n",
    "# plt.xlim([-1, 10])\n",
    "plt.show()"
   ]
  },
  {
   "cell_type": "code",
   "execution_count": null,
   "metadata": {},
   "outputs": [],
   "source": []
  },
  {
   "attachments": {},
   "cell_type": "markdown",
   "metadata": {},
   "source": [
    "# Model prediction at different timesteps"
   ]
  },
  {
   "cell_type": "code",
   "execution_count": 7,
   "metadata": {},
   "outputs": [
    {
     "name": "stdout",
     "output_type": "stream",
     "text": [
      "On 0\n"
     ]
    },
    {
     "name": "stderr",
     "output_type": "stream",
     "text": [
      "/data/rsg/chemistry/campbell/flow-matching/data/utils.py:329: UserWarning: Specified kernel cache directory is not writable! This disables kernel caching. Specified directory is /afs/csail.mit.edu/u/c/campbell/.cache/torch/kernels. This warning will appear only once per process. (Triggered internally at /opt/conda/conda-bld/pytorch_1682343995026/work/aten/src/ATen/native/cuda/jit_utils.cpp:1460.)\n",
      "  sign_correction = torch.sign(torch.linalg.det(torch.bmm(v, u_t)))\n",
      "/Mounts/rbg-storage1/users/campbell/mamba/envs/fm/lib/python3.10/site-packages/torch/nn/modules/transformer.py:562: UserWarning: Converting mask without torch.bool dtype to bool; this will negatively affect performance. Prefer to use a boolean mask directly. (Triggered internally at /opt/conda/conda-bld/pytorch_1682343995026/work/aten/src/ATen/native/transformers/attention.cpp:150.)\n",
      "  return torch._transformer_encoder_layer_fwd(\n"
     ]
    },
    {
     "name": "stdout",
     "output_type": "stream",
     "text": [
      "On 1\n",
      "On 2\n",
      "On 3\n",
      "On 4\n",
      "On 5\n",
      "On 6\n",
      "On 7\n",
      "On 8\n",
      "On 9\n",
      "On 10\n",
      "On 11\n",
      "On 12\n",
      "On 13\n",
      "On 14\n",
      "On 15\n",
      "On 16\n",
      "On 17\n",
      "On 18\n",
      "On 19\n",
      "On 20\n",
      "On 21\n",
      "On 22\n",
      "On 23\n",
      "On 24\n",
      "On 25\n",
      "On 26\n",
      "On 27\n",
      "On 28\n",
      "On 29\n",
      "On 30\n",
      "On 31\n",
      "On 32\n",
      "On 33\n",
      "On 34\n",
      "On 35\n",
      "On 36\n",
      "On 37\n",
      "On 38\n",
      "On 39\n",
      "On 40\n",
      "On 41\n",
      "On 42\n",
      "On 43\n",
      "On 44\n",
      "On 45\n",
      "On 46\n",
      "On 47\n",
      "On 48\n",
      "On 49\n",
      "On 50\n",
      "On 51\n",
      "On 52\n",
      "On 53\n",
      "On 54\n",
      "On 55\n",
      "On 56\n",
      "On 57\n",
      "On 58\n",
      "On 59\n",
      "On 60\n",
      "On 61\n",
      "On 62\n",
      "On 63\n",
      "On 64\n",
      "On 65\n",
      "On 66\n",
      "On 67\n",
      "On 68\n",
      "On 69\n",
      "On 70\n",
      "On 71\n",
      "On 72\n",
      "On 73\n",
      "On 74\n",
      "On 75\n",
      "On 76\n",
      "On 77\n",
      "On 78\n",
      "On 79\n",
      "On 80\n",
      "On 81\n",
      "On 82\n",
      "On 83\n",
      "On 84\n",
      "On 85\n",
      "On 86\n",
      "On 87\n",
      "On 88\n",
      "On 89\n",
      "On 90\n",
      "On 91\n",
      "On 92\n",
      "On 93\n",
      "On 94\n",
      "On 95\n",
      "On 96\n",
      "On 97\n",
      "On 98\n",
      "On 99\n"
     ]
    }
   ],
   "source": [
    "gt_ca_pos = batch['trans_1']\n",
    "device = gt_ca_pos.device\n",
    "num_batch = gt_ca_pos.shape[0]\n",
    "ts = np.linspace(1e-3, 1.0, 100)\n",
    "all_pred_ca = []\n",
    "for i,t in enumerate(ts):\n",
    "    print(f'On {i}')\n",
    "    batch_t = torch.ones(num_batch, 1, 1, device=device) * t\n",
    "    noisy_batch = flow._corrupt_batch(batch, t=batch_t)\n",
    "    with torch.no_grad():\n",
    "        model_out = flow.forward(noisy_batch)\n",
    "    all_pred_ca.append(du.to_numpy(model_out['pred_trans']))\n",
    "all_pred_ca = np.stack(all_pred_ca)"
   ]
  },
  {
   "cell_type": "code",
   "execution_count": 8,
   "metadata": {},
   "outputs": [
    {
     "name": "stderr",
     "output_type": "stream",
     "text": [
      "/tmp/ipykernel_149982/870693686.py:3: UserWarning: To copy construct from a tensor, it is recommended to use sourceTensor.clone().detach() or sourceTensor.clone().detach().requires_grad_(True), rather than torch.tensor(sourceTensor).\n",
      "  torch.tensor(gt_ca_pos)[None].repeat(100, 1, 1, 1),\n"
     ]
    },
    {
     "data": {
      "text/plain": [
       "tensor(2.3538, device='cuda:1')"
      ]
     },
     "execution_count": 8,
     "metadata": {},
     "output_type": "execute_result"
    }
   ],
   "source": [
    "res_mask = batch['res_mask']\n",
    "aligned_sample_ca, aligned_rmsd = superimpose(\n",
    "    torch.tensor(gt_ca_pos)[None].repeat(100, 1, 1, 1),\n",
    "    torch.tensor(all_pred_ca).to(gt_ca_pos.device),\n",
    "    res_mask[None].repeat(100, 1, 1)\n",
    ")\n",
    "torch.mean(aligned_rmsd)"
   ]
  },
  {
   "cell_type": "code",
   "execution_count": 9,
   "metadata": {},
   "outputs": [],
   "source": [
    "ts_rmsd = du.to_numpy(torch.mean(aligned_rmsd, dim=-1))"
   ]
  },
  {
   "cell_type": "code",
   "execution_count": 10,
   "metadata": {},
   "outputs": [
    {
     "data": {
      "text/plain": [
       "[<matplotlib.lines.Line2D at 0x7f88f897ccd0>]"
      ]
     },
     "execution_count": 10,
     "metadata": {},
     "output_type": "execute_result"
    },
    {
     "data": {
      "image/png": "[encoded data removed]",
      "text/plain": [
       "<Figure size 640x480 with 1 Axes>"
      ]
     },
     "metadata": {},
     "output_type": "display_data"
    }
   ],
   "source": [
    "plt.plot(ts, ts_rmsd)\n",
    "# plt.plot(ts, noisy_rmsds)"
   ]
  },
  {
   "cell_type": "code",
   "execution_count": null,
   "metadata": {},
   "outputs": [],
   "source": []
  },
  {
   "attachments": {},
   "cell_type": "markdown",
   "metadata": {},
   "source": [
    "# Partial sampling"
   ]
  },
  {
   "cell_type": "code",
   "execution_count": 11,
   "metadata": {},
   "outputs": [],
   "source": [
    "min_t = 1e-3\n",
    "t = torch.ones(num_batch, 1, 1, device=device) * min_t\n",
    "noisy_batch = flow._corrupt_batch(batch, t=t)\n",
    "batch_trunc = 5\n",
    "trans_in = du.to_numpy(noisy_batch['trans_t'][:batch_trunc])\n",
    "gt = du.to_numpy(noisy_batch['trans_1'][:batch_trunc])\n"
   ]
  },
  {
   "cell_type": "code",
   "execution_count": 12,
   "metadata": {},
   "outputs": [],
   "source": [
    "# Run sampling\n",
    "trans_traj = [noisy_batch['trans_t']]\n",
    "rots_traj = [noisy_batch['rotmats_t']]\n",
    "num_timesteps = 100\n",
    "ts = np.linspace(min_t, 1.0, num_timesteps)\n",
    "t_1 = ts[0]\n",
    "model_outputs = []\n",
    "trans_vf_traj = []\n",
    "for i,t_2 in enumerate(ts[1:]):\n",
    "    if (i+1) % 100 == 0:\n",
    "        print(f\"Step {i+1} / {len(ts)}\")\n",
    "    d_t = t_2 - t_1\n",
    "    trans_t_1 = trans_traj[-1]\n",
    "    rots_t_1 = rots_traj[-1]\n",
    "    with torch.no_grad():\n",
    "        batch['trans_t'] = trans_t_1\n",
    "        batch['rotmats_t'] = rots_t_1\n",
    "        batch['t'] = torch.ones((num_batch, 1)).to(device) * t_1\n",
    "        model_out = flow.forward(batch)\n",
    "        model_outputs.append(\n",
    "            tree.map_structure(lambda x: du.to_numpy(x), model_out)\n",
    "        )\n",
    "\n",
    "    pred_trans_1 = model_out['pred_trans']\n",
    "    pred_rots_1 = model_out['pred_rotmats']\n",
    "    pred_rots_vf = model_out['pred_rots_vf']\n",
    "\n",
    "    trans_vf = (pred_trans_1 - trans_t_1) / (1 - t_1)\n",
    "    trans_t_2 = trans_t_1 + trans_vf * d_t\n",
    "    rots_t_2 = so3_utils.geodesic_t(\n",
    "        d_t / (1 - t_1), pred_rots_1, rots_t_1, rot_vf=pred_rots_vf)\n",
    "    t_1 = t_2\n",
    "    trans_traj.append(trans_t_2)\n",
    "    rots_traj.append(rots_t_2)\n",
    "\n",
    "res_mask = batch['res_mask']\n",
    "atom37_traj = process_trans_rot_traj(trans_traj, rots_traj, res_mask)\n",
    "final_ca_pos = atom37_traj[:, -1, :, 1]\n",
    "gt_ca_pos = batch['trans_1']"
   ]
  },
  {
   "cell_type": "code",
   "execution_count": 13,
   "metadata": {},
   "outputs": [
    {
     "data": {
      "text/plain": [
       "tensor(12.1245, device='cuda:1')"
      ]
     },
     "execution_count": 13,
     "metadata": {},
     "output_type": "execute_result"
    }
   ],
   "source": [
    "aligned_sample_ca, aligned_rmsd = superimpose(\n",
    "    gt_ca_pos,\n",
    "    final_ca_pos.to(gt_ca_pos.device),\n",
    "    res_mask\n",
    ")\n",
    "torch.mean(aligned_rmsd)"
   ]
  },
  {
   "cell_type": "code",
   "execution_count": 15,
   "metadata": {},
   "outputs": [
    {
     "ename": "ValueError",
     "evalue": "not enough values to unpack (expected 5, got 4)",
     "output_type": "error",
     "traceback": [
      "\u001b[0;31m---------------------------------------------------------------------------\u001b[0m",
      "\u001b[0;31mValueError\u001b[0m                                Traceback (most recent call last)",
      "Cell \u001b[0;32mIn[15], line 5\u001b[0m\n\u001b[1;32m      3\u001b[0m os\u001b[39m.\u001b[39mmakedirs(save_dir, exist_ok\u001b[39m=\u001b[39m\u001b[39mTrue\u001b[39;00m)\n\u001b[1;32m      4\u001b[0m atom37_traj \u001b[39m=\u001b[39m du\u001b[39m.\u001b[39mto_numpy(atom37_traj)\n\u001b[0;32m----> 5\u001b[0m num_batch, num_timesteps, num_res, _, _ \u001b[39m=\u001b[39m atom37_traj\u001b[39m.\u001b[39mshape\n\u001b[1;32m      6\u001b[0m max_save \u001b[39m=\u001b[39m \u001b[39m5\u001b[39m\n\u001b[1;32m      7\u001b[0m \u001b[39mfor\u001b[39;00m i, sample_traj \u001b[39min\u001b[39;00m \u001b[39menumerate\u001b[39m(atom37_traj):\n",
      "\u001b[0;31mValueError\u001b[0m: not enough values to unpack (expected 5, got 4)"
     ]
    }
   ],
   "source": [
    "# Save samples\n",
    "save_dir = 'notebook_samples/'\n",
    "os.makedirs(save_dir, exist_ok=True)\n",
    "atom37_traj = du.to_numpy(atom37_traj)\n",
    "num_batch, num_timesteps, num_res, _, _ = atom37_traj.shape\n",
    "max_save = 5\n",
    "for i, sample_traj in enumerate(atom37_traj):\n",
    "    if i >= max_save:\n",
    "        break\n",
    "    # traj_path = au.write_prot_to_pdb(\n",
    "    #     sample_traj,\n",
    "    #     os.path.join(\n",
    "    #         save_dir,\n",
    "    #         f'traj_{i}_len_{num_res}_ts_{num_timesteps}.pdb'),\n",
    "    #     no_indexing=True\n",
    "    # )\n",
    "    sample_path = au.write_prot_to_pdb(\n",
    "        sample_traj[-1],\n",
    "        os.path.join(\n",
    "            save_dir,\n",
    "            f'sample_{i}_len_{num_res}_ts_{num_timesteps}.pdb'),\n",
    "        no_indexing=True\n",
    "    )\n",
    "    print(f'Done with sample {i}')"
   ]
  },
  {
   "cell_type": "code",
   "execution_count": null,
   "metadata": {},
   "outputs": [],
   "source": [
    "gt_trans_1 = batch['trans_1']\n",
    "gt_rotmats_1 = batch['rotmats_1']\n",
    "\n",
    "gt_atom37 = atom37_from_trans_rot(\n",
    "    gt_trans_1.detach().cpu(),\n",
    "    gt_rotmats_1.detach().cpu(),\n",
    "    res_mask.detach().cpu()\n",
    ")\n",
    "gt_atom37 = du.to_numpy(gt_atom37)"
   ]
  },
  {
   "cell_type": "code",
   "execution_count": null,
   "metadata": {},
   "outputs": [],
   "source": [
    "for i, gt_coords in enumerate(gt_atom37):\n",
    "    if i >= max_save:\n",
    "        break\n",
    "    sample_path = au.write_prot_to_pdb(\n",
    "        gt_coords,\n",
    "        os.path.join(\n",
    "            save_dir,\n",
    "            f'gt_{i}_len_{num_res}.pdb'),\n",
    "        no_indexing=True\n",
    "    )\n",
    "    print(f'Done with sample {i}')"
   ]
  },
  {
   "cell_type": "code",
   "execution_count": null,
   "metadata": {},
   "outputs": [],
   "source": []
  },
  {
   "attachments": {},
   "cell_type": "markdown",
   "metadata": {},
   "source": [
    "## Calculate SNR"
   ]
  },
  {
   "cell_type": "code",
   "execution_count": null,
   "metadata": {},
   "outputs": [],
   "source": [
    "gt_ca_pos = batch['trans_1']\n",
    "device = gt_ca_pos.device\n",
    "num_batch = gt_ca_pos.shape[0]\n",
    "all_noise = {}\n",
    "for i,t in enumerate(ts):\n",
    "    print(f'On {i}')\n",
    "    noisy_ca_pos = []\n",
    "    batch_t = torch.ones(num_batch, 1, 1, device=device) * t \n",
    "    for _ in range(10):\n",
    "        noisy_batch = flow._corrupt_batch(batch, t=batch_t)\n",
    "        noisy_ca_pos.append(noisy_batch['trans_t'])\n",
    "    noisy_ca_pos = torch.stack(noisy_ca_pos)\n",
    "    all_noise[i] = noisy_ca_pos"
   ]
  },
  {
   "cell_type": "code",
   "execution_count": null,
   "metadata": {},
   "outputs": [],
   "source": [
    "def calc_rmsd(x, y):\n",
    "    return torch.mean(torch.linalg.norm(x - y, dim=-1))"
   ]
  },
  {
   "cell_type": "code",
   "execution_count": null,
   "metadata": {},
   "outputs": [],
   "source": [
    "noisy_rmsds = []\n",
    "for i in range(len(all_noise)):\n",
    "    noisy_ca_pos = all_noise[i]\n",
    "    rmsd = calc_rmsd(noisy_ca_pos, gt_ca_pos[None])\n",
    "    noisy_rmsds.append(rmsd)\n",
    "noisy_rmsds = du.to_numpy(torch.stack(noisy_rmsds))"
   ]
  },
  {
   "cell_type": "code",
   "execution_count": null,
   "metadata": {},
   "outputs": [],
   "source": [
    "plt.plot(ts, noisy_rmsds)"
   ]
  },
  {
   "cell_type": "code",
   "execution_count": null,
   "metadata": {},
   "outputs": [],
   "source": []
  },
  {
   "cell_type": "code",
   "execution_count": null,
   "metadata": {},
   "outputs": [],
   "source": []
  },
  {
   "cell_type": "code",
   "execution_count": null,
   "metadata": {},
   "outputs": [],
   "source": []
  },
  {
   "attachments": {},
   "cell_type": "markdown",
   "metadata": {},
   "source": [
    "## Process and save samples"
   ]
  },
  {
   "cell_type": "code",
   "execution_count": null,
   "metadata": {},
   "outputs": [],
   "source": [
    "save_dir = 'notebook_samples/'\n",
    "os.makedirs(save_dir, exist_ok=True)\n",
    "atom37_traj = du.to_numpy(atom37_traj)\n",
    "num_batch, num_timesteps, num_res, _, _ = atom37_traj.shape\n",
    "max_save = 5\n",
    "for i, sample_traj in enumerate(atom37_traj):\n",
    "    if i >= max_save:\n",
    "        break\n",
    "    traj_path = au.write_prot_to_pdb(\n",
    "        sample_traj,\n",
    "        os.path.join(\n",
    "            save_dir,\n",
    "            f'traj_{i}_len_{num_res}_ts_{num_timesteps}.pdb'),\n",
    "        no_indexing=True\n",
    "    )\n",
    "    sample_path = au.write_prot_to_pdb(\n",
    "        sample_traj[-1],\n",
    "        os.path.join(\n",
    "            save_dir,\n",
    "            f'sample_{i}_len_{num_res}_ts_{num_timesteps}.pdb'),\n",
    "        no_indexing=True\n",
    "    )\n",
    "    print(f'Done with sample {i}')"
   ]
  },
  {
   "cell_type": "code",
   "execution_count": null,
   "metadata": {},
   "outputs": [],
   "source": []
  },
  {
   "cell_type": "code",
   "execution_count": null,
   "metadata": {},
   "outputs": [],
   "source": []
  },
  {
   "attachments": {},
   "cell_type": "markdown",
   "metadata": {},
   "source": [
    "## Visualize structures"
   ]
  },
  {
   "cell_type": "code",
   "execution_count": null,
   "metadata": {},
   "outputs": [],
   "source": [
    "idx = 0\n",
    "model_out_ca = model_outputs[-1]['pred_trans'][idx]\n",
    "sample_bb_3d = plotting.create_scatter(model_out_ca, mode='lines+markers', marker_size=3, opacity=1.0)\n",
    "plotting.plot_traces([sample_bb_3d])"
   ]
  },
  {
   "cell_type": "code",
   "execution_count": null,
   "metadata": {},
   "outputs": [],
   "source": [
    "idx = 0\n",
    "t_idx = -1\n",
    "model_out_ca = model_outputs[t_idx]['pred_trans'][idx]\n",
    "model_in_ca = trans_in[idx]\n",
    "gt_ca = gt[idx]\n",
    "\n",
    "out_bb_3d = plotting.create_scatter(\n",
    "    model_out_ca, mode='lines+markers', marker_size=3, opacity=1.0, name='pred')\n",
    "in_bb_3d = plotting.create_scatter(\n",
    "    model_in_ca, mode='lines+markers', marker_size=3, opacity=1.0, name=f'input t={ts[t_idx]:.2f}')\n",
    "gt_bb_3d = plotting.create_scatter(\n",
    "    gt_ca, mode='lines+markers', marker_size=3, opacity=1.0, name='gt')\n",
    "plotting.plot_traces([\n",
    "    out_bb_3d,\n",
    "    # in_bb_3d,\n",
    "    gt_bb_3d\n",
    "])\n"
   ]
  },
  {
   "cell_type": "code",
   "execution_count": null,
   "metadata": {},
   "outputs": [],
   "source": []
  },
  {
   "cell_type": "code",
   "execution_count": 22,
   "metadata": {},
   "outputs": [
    {
     "name": "stdout",
     "output_type": "stream",
     "text": [
      "[ 64  74  84  94 104 114 124 129]\n"
     ]
    }
   ],
   "source": [
    "import numpy as np\n",
    "seq = np.concatenate([np.arange(64, 129, 10), [129]])\n",
    "print(seq)"
   ]
  }
 ],
 "metadata": {
  "kernelspec": {
   "display_name": "fm",
   "language": "python",
   "name": "python3"
  },
  "language_info": {
   "codemirror_mode": {
    "name": "ipython",
    "version": 3
   },
   "file_extension": ".py",
   "mimetype": "text/x-python",
   "name": "python",
   "nbconvert_exporter": "python",
   "pygments_lexer": "ipython3",
   "version": "3.10.12"
  },
  "orig_nbformat": 4
 },
 "nbformat": 4,
 "nbformat_minor": 2
}
