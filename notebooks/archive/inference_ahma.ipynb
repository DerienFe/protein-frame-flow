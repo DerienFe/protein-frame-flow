{
 "cells": [
  {
   "cell_type": "code",
   "execution_count": 22,
   "metadata": {},
   "outputs": [
    {
     "name": "stdout",
     "output_type": "stream",
     "text": [
      "The autoreload extension is already loaded. To reload it, use:\n",
      "  %reload_ext autoreload\n"
     ]
    }
   ],
   "source": [
    "%load_ext autoreload\n",
    "%autoreload 2\n"
   ]
  },
  {
   "cell_type": "code",
   "execution_count": 23,
   "metadata": {},
   "outputs": [],
   "source": [
    "import os\n",
    "from omegaconf import OmegaConf\n",
    "from models.flow_module import FlowModule\n",
    "import torch\n",
    "from data.pdb_dataloader import PdbDataModule\n",
    "import GPUtil\n",
    "from data import utils as du\n",
    "import numpy as np\n",
    "import tree\n",
    "from data import so3_utils\n",
    "from data import all_atom\n",
    "from analysis import utils as au\n",
    "from openfold.utils.superimposition import superimpose\n",
    "import matplotlib.pyplot as plt\n",
    " "
   ]
  },
  {
   "cell_type": "code",
   "execution_count": 24,
   "metadata": {},
   "outputs": [],
   "source": [
    "save_dir = 'notebook_samples/'\n",
    "num_timesteps = 100\n",
    "os.makedirs(save_dir, exist_ok=True)\n"
   ]
  },
  {
   "cell_type": "code",
   "execution_count": 25,
   "metadata": {},
   "outputs": [
    {
     "name": "stdout",
     "output_type": "stream",
     "text": [
      "ckpt/se3-fm/baseline_faster/2023-09-21_23-35-40/last.ckpt\n"
     ]
    }
   ],
   "source": [
    "# Setup lightning module\n",
    "\n",
    "ckpt_dir = 'ckpt/se3-fm/baseline_faster/2023-09-21_23-35-40'\n",
    "# ckpt_dir = 'ckpt/se3-fm/t_clip_trans_weight_2/2023-09-21_19-53-00'\n",
    "# ckpt_dir = 'ckpt/se3-fm/t_clip_trans_weight_2/2023-09-21_19-53-00'\n",
    "# ckpt_dir = 'ckpt/se3-fm/clip_max_t_trans_loss_weight_2/2023-09-20_21-27-04'\n",
    "# ckpt_dir = './ckpt/se3-fm/self_correcting/2023-09-20_22-38-33'\n",
    "# ckpt_dir = './ckpt/se3-fm/se3_vf_loss_rescaled/2023-09-20_05-48-51'\n",
    "# ckpt_dir = './ckpt/se3-fm/se3_vf_loss_no_repeats/2023-09-20_10-28-37'\n",
    "ckpt_path = os.path.join(ckpt_dir, 'last.ckpt')\n",
    "\n",
    "print(ckpt_path)\n",
    "base_path = 'configs/base.yaml'\n",
    "base_cfg = OmegaConf.load(base_path)\n",
    "\n",
    "cfg_path = os.path.join(ckpt_dir, 'config.yaml')\n",
    "ckpt_cfg = OmegaConf.load(cfg_path)\n",
    "\n",
    "OmegaConf.set_struct(base_cfg, False)\n",
    "OmegaConf.set_struct(ckpt_cfg, False)\n",
    "cfg = OmegaConf.merge(base_cfg, ckpt_cfg)\n",
    "cfg.experiment.checkpointer.dirpath = './'\n",
    "cfg.experiment.rescale_time = False\n",
    "cfg.data.dataset.csv_path = 'preprocessed/metadata.csv'\n",
    "\n",
    "flow = FlowModule.load_from_checkpoint(\n",
    "    checkpoint_path=ckpt_path,\n",
    "    model_cfg=cfg.model,\n",
    "    experiment_cfg=cfg.experiment\n",
    ")\n",
    "_ = flow.eval()\n"
   ]
  },
  {
   "cell_type": "code",
   "execution_count": 26,
   "metadata": {},
   "outputs": [],
   "source": [
    "# Set up data module\n",
    "data_module = PdbDataModule(cfg.data)\n",
    "data_module.setup('fit')\n",
    "train_dataloader = data_module.train_dataloader(\n",
    "    num_replicas=1,\n",
    "    rank=1\n",
    ")\n",
    "data_iter = iter(train_dataloader)\n"
   ]
  },
  {
   "cell_type": "code",
   "execution_count": 27,
   "metadata": {},
   "outputs": [
    {
     "name": "stdout",
     "output_type": "stream",
     "text": [
      "Found batch with 108 residues, 62 batch size\n",
      "Using device cuda:4\n"
     ]
    }
   ],
   "source": [
    "# Search for a reasonable batch\n",
    "stop_search = False\n",
    "while not stop_search: \n",
    "    batch = next(data_iter)\n",
    "    num_batch, num_res, _ = batch['trans_1'].shape\n",
    "    if num_res > 80:\n",
    "        stop_search = True\n",
    "\n",
    "print(f'Found batch with {num_res} residues, {num_batch} batch size')\n",
    "\n",
    "# Set up device and cuda\n",
    "num_batch, num_res, _ = batch['trans_1'].shape\n",
    "cuda_id = GPUtil.getAvailable(order='memory', limit = 8)[0]\n",
    "device = f'cuda:{cuda_id}'\n",
    "# device = 'cpu'\n",
    "print(f'Using device {device}')\n",
    "flow.model = flow.model.to(device)\n",
    "batch = tree.map_structure(lambda x: x.to(device), batch)\n",
    "num_batch = batch['res_mask'].shape[0]"
   ]
  },
  {
   "cell_type": "code",
   "execution_count": null,
   "metadata": {},
   "outputs": [],
   "source": []
  },
  {
   "cell_type": "markdown",
   "metadata": {},
   "source": [
    "# Model prediction at different timesteps"
   ]
  },
  {
   "cell_type": "code",
   "execution_count": 28,
   "metadata": {},
   "outputs": [
    {
     "name": "stdout",
     "output_type": "stream",
     "text": [
      "On t=0.00\n"
     ]
    },
    {
     "name": "stderr",
     "output_type": "stream",
     "text": [
      "/data/rsg/chemistry/jyim/mambaforge/envs/fm/lib/python3.10/site-packages/torch/nn/modules/transformer.py:562: UserWarning: Converting mask without torch.bool dtype to bool; this will negatively affect performance. Prefer to use a boolean mask directly. (Triggered internally at ../aten/src/ATen/native/transformers/attention.cpp:150.)\n",
      "  return torch._transformer_encoder_layer_fwd(\n"
     ]
    }
   ],
   "source": [
    "gt_ca_pos = batch['trans_1']\n",
    "device = gt_ca_pos.device\n",
    "num_batch = gt_ca_pos.shape[0]\n",
    "ts = np.linspace(1e-3, 1.0, num_timesteps)\n",
    "all_pred_ca = []\n",
    "all_pred_transrot = []\n",
    "all_pred_rots_vf = []\n",
    "all_gt_atom37 = []\n",
    "all_gt_rots_vf = []\n",
    "\n",
    "for i,t in enumerate(ts):\n",
    "    if i % 100 == 0:\n",
    "        print(f'On t={t:.2f}')\n",
    "    batch_t = torch.ones(num_batch, 1, 1, device=device) * t\n",
    "    noisy_batch = flow._corrupt_batch(batch, t=batch_t)\n",
    "    noisy_batch['t']\n",
    "    with torch.no_grad():\n",
    "        model_out = flow.forward(noisy_batch)\n",
    "    all_pred_rots_vf.append(du.to_numpy(model_out['pred_rots_vf']))\n",
    "    all_pred_transrot.append((model_out['pred_trans'], model_out['pred_rots'].get_rot_mats()))\n",
    "    all_pred_ca.append(du.to_numpy(model_out['pred_trans']))\n",
    "\n",
    "    gt_trans_t = noisy_batch['trans_t']\n",
    "    gt_rotmats_t = noisy_batch['rotmats_t']\n",
    "\n",
    "    gt_rot_vf = so3_utils.calc_rot_vf(\n",
    "        noisy_batch['rotmats_t'].type(torch.float32),\n",
    "        noisy_batch['rotmats_1'].type(torch.float32)\n",
    "    )\n",
    "    all_gt_rots_vf.append(du.to_numpy(gt_rot_vf))\n",
    "\n",
    "    noisy_gt_atom37 = all_atom.atom37_from_trans_rot(\n",
    "        gt_trans_t.detach().cpu(),\n",
    "        gt_rotmats_t.detach().cpu(),\n",
    "        noisy_batch['res_mask'].detach().cpu()\n",
    "    )\n",
    "    noisy_gt_atom37 = du.to_numpy(noisy_gt_atom37)\n",
    "    all_gt_atom37.append(noisy_gt_atom37)\n",
    "\n",
    "all_gt_rots_vf = np.stack(all_gt_rots_vf)\n",
    "all_pred_rots_vf = np.stack(all_pred_rots_vf)"
   ]
  },
  {
   "cell_type": "code",
   "execution_count": 8,
   "metadata": {},
   "outputs": [],
   "source": [
    "# # Save samples\n",
    "# all_pred_ca = np.stack(all_pred_ca)\n",
    "# all_pred_atom37 = np.stack(all_atom.transrot_to_atom37(\n",
    "#     all_pred_transrot,\n",
    "#     noisy_batch['res_mask']\n",
    "# ))\n",
    "\n",
    "# os.makedirs(save_dir, exist_ok=True)\n",
    "# num_timesteps, num_batch, num_res, _, _ = all_pred_atom37.shape\n",
    "\n",
    "# for i in list(np.linspace(0, num_timesteps-1, 10).astype(int)):\n",
    "#     t = ts[i]\n",
    "#     atom37_t = all_pred_atom37[i]\n",
    "#     _ = au.write_prot_to_pdb(\n",
    "#         atom37_t,\n",
    "#         os.path.join(\n",
    "#             save_dir,\n",
    "#             f'model_out_len_{num_res}_t_{t:.2f}.pdb'),\n",
    "#         no_indexing=True\n",
    "#     )\n",
    "#     _ = au.write_prot_to_pdb(\n",
    "#         all_gt_atom37[i],\n",
    "#         os.path.join(\n",
    "#             save_dir,\n",
    "#             f'gt_len_{num_res}_t_{t:.2f}.pdb'),\n",
    "#         no_indexing=True)\n",
    "    \n",
    "#     print(f'Done with sample {i}, t={t:.2f}')"
   ]
  },
  {
   "cell_type": "code",
   "execution_count": 29,
   "metadata": {},
   "outputs": [
    {
     "name": "stderr",
     "output_type": "stream",
     "text": [
      "/tmp/ipykernel_855758/373818533.py:7: UserWarning: To copy construct from a tensor, it is recommended to use sourceTensor.clone().detach() or sourceTensor.clone().detach().requires_grad_(True), rather than torch.tensor(sourceTensor).\n",
      "  torch.tensor(gt_ca_pos)[None].repeat(num_timesteps, 1, 1, 1) * 0.1 * torch.tensor(t_weight, device=device)[:, None, None, None],\n"
     ]
    }
   ],
   "source": [
    "t_weight = np.ones_like(ts)# 1 / (1 - 0.98*ts)\n",
    "rots_vf_rmsd = np.linalg.norm(\n",
    "    (all_gt_rots_vf - all_pred_rots_vf) * t_weight[:, None, None, None], axis=-1).reshape(num_timesteps, -1)\n",
    "rots_rmsd = np.mean(rots_vf_rmsd, axis=-1)\n",
    "res_mask = batch['res_mask']\n",
    "_, aligned_rmsd = superimpose(\n",
    "    torch.tensor(gt_ca_pos)[None].repeat(num_timesteps, 1, 1, 1) * 0.1 * torch.tensor(t_weight, device=device)[:, None, None, None],\n",
    "    torch.tensor(all_pred_ca).to(gt_ca_pos.device) * 0.1 * torch.tensor(t_weight, device=device)[:, None, None, None],\n",
    "    res_mask[None].repeat(num_timesteps, 1, 1)\n",
    ")\n",
    "aligned_trans_rmsd = du.to_numpy(torch.mean(aligned_rmsd, dim=-1))\n",
    "unaligned_trans_rmsd = np.mean(np.linalg.norm((np.stack(all_pred_ca) - du.to_numpy(gt_ca_pos)[None]) * 0.1, axis=-1), axis=(-1, -2))\n"
   ]
  },
  {
   "cell_type": "code",
   "execution_count": 30,
   "metadata": {},
   "outputs": [],
   "source": [
    "# new_ts = torch.minimum(torch.linspace(1e-3, 1.0, num_timesteps), torch.tensor(0.8))\n",
    "# plt.plot(ts, du.to_numpy(1 / (1 - new_ts)**2))\n",
    "# plt.xlabel(r'$t$')\n",
    "# plt.ylabel(r'$\\frac{1}{(1-t)^2}$')\n",
    "# plt.title('Clipped loss t weighting')"
   ]
  },
  {
   "cell_type": "code",
   "execution_count": 31,
   "metadata": {},
   "outputs": [
    {
     "data": {
      "text/plain": [
       "Text(0.5, 1.0, 'Model prediction error across time t')"
      ]
     },
     "execution_count": 31,
     "metadata": {},
     "output_type": "execute_result"
    },
    {
     "data": {
      "image/png": "[encoded data removed]",
      "text/plain": [
       "<Figure size 640x480 with 1 Axes>"
      ]
     },
     "metadata": {},
     "output_type": "display_data"
    }
   ],
   "source": [
    "plt.plot(ts, rots_rmsd, label='Rotations')\n",
    "plt.plot(ts, aligned_trans_rmsd, label='Aligned translations')\n",
    "# plt.plot(ts, unaligned_trans_rmsd, label='Unaligned translations')\n",
    "plt.legend()\n",
    "plt.grid()\n",
    "plt.xlabel('t')\n",
    "plt.ylabel('RMSD')\n",
    "plt.title('Model prediction error across time t')"
   ]
  },
  {
   "cell_type": "code",
   "execution_count": null,
   "metadata": {},
   "outputs": [],
   "source": []
  },
  {
   "cell_type": "markdown",
   "metadata": {},
   "source": [
    "# Full sampling"
   ]
  },
  {
   "cell_type": "code",
   "execution_count": 37,
   "metadata": {},
   "outputs": [],
   "source": [
    "min_t = 0.9\n",
    "num_timesteps = 100\n",
    "t = torch.ones(num_batch, 1, 1, device=device) * min_t\n",
    "res_mask = batch['res_mask']\n",
    "noisy_batch = flow._corrupt_batch(batch, t=t)\n",
    "noisy_batch['t'] = t\n",
    "do_sde = False\n",
    "\n",
    "gt_trans_1 = batch['trans_1']\n",
    "gt_rotmats_1 = batch['rotmats_1']\n",
    "\n",
    "gt_atom37 = all_atom.atom37_from_trans_rot(\n",
    "    gt_trans_1.detach().cpu(),\n",
    "    gt_rotmats_1.detach().cpu(),\n",
    "    res_mask.detach().cpu()\n",
    ")\n",
    "gt_atom37 = du.to_numpy(gt_atom37)\n"
   ]
  },
  {
   "cell_type": "markdown",
   "metadata": {
    "jp-MarkdownHeadingCollapsed": true
   },
   "source": [
    "## Sampling with class"
   ]
  },
  {
   "cell_type": "code",
   "execution_count": 17,
   "metadata": {},
   "outputs": [
    {
     "name": "stderr",
     "output_type": "stream",
     "text": [
      "/data/rsg/chemistry/jyim/mambaforge/envs/fm/lib/python3.10/site-packages/torch/nn/modules/transformer.py:562: UserWarning: Converting mask without torch.bool dtype to bool; this will negatively affect performance. Prefer to use a boolean mask directly. (Triggered internally at ../aten/src/ATen/native/transformers/attention.cpp:150.)\n",
      "  return torch._transformer_encoder_layer_fwd(\n"
     ]
    }
   ],
   "source": [
    "atom37_traj, model_traj = flow.run_sampling(\n",
    "    (noisy_batch, None),\n",
    "    return_traj=True,\n",
    "    return_model_outputs=True,\n",
    "    num_timesteps=num_timesteps,\n",
    "    do_sde=do_sde,\n",
    ")\n",
    "atom37_traj = np.stack(atom37_traj).swapaxes(0, 1)\n",
    "all_pred_atom37 = np.stack(model_traj).swapaxes(0, 1)"
   ]
  },
  {
   "cell_type": "code",
   "execution_count": null,
   "metadata": {},
   "outputs": [],
   "source": []
  },
  {
   "cell_type": "markdown",
   "metadata": {},
   "source": [
    "## Manual sampling"
   ]
  },
  {
   "cell_type": "code",
   "execution_count": 38,
   "metadata": {},
   "outputs": [],
   "source": [
    "# Run sampling\n",
    "trans_traj = [noisy_batch['trans_t']]\n",
    "rots_traj = [noisy_batch['rotmats_t']]\n",
    "\n",
    "ts = np.linspace(min_t, 1.0, num_timesteps)\n",
    "t_1 = ts[0]\n",
    "all_pred_transrot = []\n",
    "trans_vf_traj = []\n",
    "all_gt_rots_vf = []\n",
    "all_pred_rots_vf = []\n",
    "for i,t_2 in enumerate(ts[1:]):\n",
    "    if (i+1) % 100 == 0:\n",
    "        print(f\"Step {i+1} / {len(ts)}\")\n",
    "    d_t = t_2 - t_1\n",
    "    trans_t_1 = trans_traj[-1]\n",
    "    rots_t_1 = rots_traj[-1]\n",
    "    with torch.no_grad():\n",
    "        noisy_batch['trans_t'] = trans_t_1\n",
    "        noisy_batch['rotmats_t'] = rots_t_1\n",
    "        noisy_batch['t'] = torch.ones((num_batch, 1)).to(device) * t_1\n",
    "        model_out = flow.forward(noisy_batch)\n",
    "\n",
    "    pred_trans_1 = model_out['pred_trans']\n",
    "    # pred_trans_1 = batch['trans_1']\n",
    "    pred_rots_1 = model_out['pred_rots'].get_rot_mats()\n",
    "    # pred_rots_1 = batch['rotmats_1']\n",
    "    pred_rots_vf = model_out['pred_rots_vf']\n",
    "    all_pred_rots_vf.append(du.to_numpy(pred_rots_vf))\n",
    "    gt_rot_vf = so3_utils.calc_rot_vf(\n",
    "        noisy_batch['rotmats_t'].type(torch.float32),\n",
    "        noisy_batch['rotmats_1'].type(torch.float32)\n",
    "    )\n",
    "    all_gt_rots_vf.append(du.to_numpy(gt_rot_vf))\n",
    "    \n",
    "    all_pred_transrot.append((pred_trans_1, pred_rots_1))\n",
    "\n",
    "    trans_vf = (pred_trans_1 - trans_t_1) / (1 - t_1)\n",
    "    trans_t_2 = trans_t_1 + trans_vf * d_t\n",
    "    rots_t_2 = so3_utils.geodesic_t(\n",
    "        d_t / (1 - t_1), None, rots_t_1, rot_vf=pred_rots_vf)\n",
    "    t_1 = t_2\n",
    "    trans_traj.append(trans_t_2)\n",
    "    rots_traj.append(rots_t_2)\n",
    "\n",
    "res_mask = noisy_batch['res_mask']\n",
    "all_pred_atom37 = np.stack(all_atom.transrot_to_atom37(\n",
    "    all_pred_transrot,\n",
    "    res_mask\n",
    "))\n",
    "atom37_traj = all_atom.process_trans_rot_traj(trans_traj, rots_traj, res_mask)\n",
    "final_ca_pos = atom37_traj[:, -1, :, 1]\n",
    "gt_ca_pos = noisy_batch['trans_1']\n",
    "atom37_traj = du.to_numpy(atom37_traj)\n",
    "\n",
    "gt_trans_1 = batch['trans_1']\n",
    "gt_rotmats_1 = batch['rotmats_1']\n",
    "\n",
    "gt_atom37 = all_atom.atom37_from_trans_rot(\n",
    "    gt_trans_1.detach().cpu(),\n",
    "    gt_rotmats_1.detach().cpu(),\n",
    "    res_mask.detach().cpu()\n",
    ")\n",
    "gt_atom37 = du.to_numpy(gt_atom37)\n"
   ]
  },
  {
   "cell_type": "markdown",
   "metadata": {},
   "source": [
    "## Error analysis"
   ]
  },
  {
   "cell_type": "code",
   "execution_count": 39,
   "metadata": {},
   "outputs": [],
   "source": [
    "ca_error_ts = du.to_numpy(torch.linalg.norm((torch.stack(trans_traj) - gt_ca_pos[None])*0.1, dim=-1))\n",
    "ca_rmsd_ts = np.mean(ca_error_ts, axis=(-1, -2))\n",
    "\n",
    "traj_gt_rots_vf = np.stack(all_gt_rots_vf)\n",
    "traj_pred_rots_vf = np.stack(all_pred_rots_vf)\n",
    "\n",
    "rots_error_ts = np.linalg.norm(traj_pred_rots_vf - traj_gt_rots_vf, axis=-1)\n",
    "rots_rmsd_ts = np.mean(rots_error_ts, axis=(-1, -2))\n"
   ]
  },
  {
   "cell_type": "code",
   "execution_count": 40,
   "metadata": {},
   "outputs": [
    {
     "data": {
      "text/plain": [
       "Text(0, 0.5, 'RMSD')"
      ]
     },
     "execution_count": 40,
     "metadata": {},
     "output_type": "execute_result"
    },
    {
     "data": {
      "image/png": "[encoded data removed]",
      "text/plain": [
       "<Figure size 1200x500 with 2 Axes>"
      ]
     },
     "metadata": {},
     "output_type": "display_data"
    }
   ],
   "source": [
    "fig, axes = plt.subplots(1, 2, figsize=(12, 5))\n",
    "fig.suptitle(f'Model error when sampling from t={min_t:.2f} to 1.0')\n",
    "\n",
    "axes[0].plot(ts, ca_rmsd_ts, label='Translations VF')\n",
    "axes[0].set_xlabel('t')\n",
    "axes[0].set_title('Translations VF')\n",
    "axes[0].set_ylabel('RMSD (nm)')\n",
    "\n",
    "axes[1].plot(ts[1:], rots_rmsd_ts, label='Rotation VF')\n",
    "axes[1].set_xlabel('t')\n",
    "axes[1].set_title('Rotation VF')\n",
    "axes[1].set_ylabel('RMSD')\n"
   ]
  },
  {
   "cell_type": "code",
   "execution_count": null,
   "metadata": {},
   "outputs": [],
   "source": [
    "fig, axes = plt.subplots(1, 2, figsize=(12, 5))\n",
    "fig.suptitle(f'Model error when sampling from t={min_t:.2f} to 1.0')\n",
    "num_batch = rots_error_ts.shape[1]\n",
    "\n",
    "rots_error_batch = np.mean(rots_error_ts, axis=-1)\n",
    "ca_error_batch = np.mean(ca_error_ts, axis=-1)\n",
    "\n",
    "for i in range(num_batch):\n",
    "\n",
    "    axes[0].plot(ts, ca_error_batch[:,i])\n",
    "    axes[0].set_xlabel('t')\n",
    "    axes[0].set_title('Translations VF')\n",
    "    axes[0].set_ylabel('RMSD (nm)')\n",
    "\n",
    "    axes[1].plot(ts[1:], rots_error_batch[:,i])\n",
    "    axes[1].set_xlabel('t')\n",
    "    axes[1].set_title('Rotation VF')\n",
    "    axes[1].set_ylabel('RMSD')\n"
   ]
  },
  {
   "cell_type": "code",
   "execution_count": null,
   "metadata": {},
   "outputs": [],
   "source": []
  },
  {
   "cell_type": "code",
   "execution_count": 44,
   "metadata": {},
   "outputs": [
    {
     "data": {
      "text/plain": [
       "(99, 62, 108)"
      ]
     },
     "execution_count": 44,
     "metadata": {},
     "output_type": "execute_result"
    }
   ],
   "source": [
    "fig, axes = plt.subplots(1, 2, figsize=(12, 5))\n",
    "fig.suptitle(f'Model error when sampling from t={min_t:.2f} to 1.0')\n",
    "\n",
    "\n",
    "axes[0].plot(ts, ca_rmsd_ts, label='Translations VF')\n",
    "axes[0].set_xlabel('t')\n",
    "axes[0].set_title('Translations VF')\n",
    "axes[0].set_ylabel('RMSD (nm)')\n",
    "\n",
    "axes[1].plot(ts[1:], rots_rmsd_ts, label='Rotation VF')\n",
    "axes[1].set_xlabel('t')\n",
    "axes[1].set_title('Rotation VF')\n",
    "axes[1].set_ylabel('RMSD')\n"
   ]
  },
  {
   "cell_type": "code",
   "execution_count": null,
   "metadata": {},
   "outputs": [],
   "source": [
    "# Save samples\n",
    "os.makedirs(save_dir, exist_ok=True)\n",
    "num_batch, num_timesteps, num_res, _, _ = atom37_traj.shape\n",
    "max_save = 5\n",
    "for i, sample_traj in enumerate(atom37_traj):\n",
    "    if i >= max_save:\n",
    "        break\n",
    "    sample_path = au.write_prot_to_pdb(\n",
    "        sample_traj[-1],\n",
    "        os.path.join(\n",
    "            save_dir,\n",
    "            f'sample_{i}_len_{num_res}_ts_{num_timesteps}.pdb'),\n",
    "        no_indexing=True\n",
    "    )\n",
    "    _ = au.write_prot_to_pdb(\n",
    "        all_pred_atom37[-1, i],\n",
    "        os.path.join(\n",
    "            save_dir,\n",
    "            f'final_model_out_{i}_len_{num_res}_ts_{num_timesteps}.pdb'),\n",
    "        no_indexing=True\n",
    "    )\n",
    "    _ = au.write_prot_to_pdb(\n",
    "        all_pred_atom37[:, i],\n",
    "        os.path.join(\n",
    "            save_dir,\n",
    "            f'pred_traj_{i}_len_{num_res}_ts_{num_timesteps}.pdb'),\n",
    "        no_indexing=True\n",
    "    )\n",
    "    _ = au.write_prot_to_pdb(\n",
    "        gt_atom37[i],\n",
    "        os.path.join(\n",
    "            save_dir,\n",
    "            f'gt_{i}_len_{num_res}_ts_{num_timesteps}.pdb',\n",
    "        ),\n",
    "        no_indexing=True\n",
    "    )\n",
    "    print(f'Done with sample {i}')\n",
    "\n",
    "final_samples = atom37_traj[:, -1]\n",
    "_ = au.write_prot_to_pdb(\n",
    "    final_samples,\n",
    "    os.path.join(\n",
    "        save_dir,\n",
    "        'all_samples.pdb'),\n",
    "    no_indexing=True\n",
    ")\n"
   ]
  },
  {
   "cell_type": "markdown",
   "metadata": {},
   "source": [
    "## Save samples"
   ]
  },
  {
   "cell_type": "code",
   "execution_count": 39,
   "metadata": {},
   "outputs": [
    {
     "name": "stdout",
     "output_type": "stream",
     "text": [
      "Done with sample 0\n",
      "Done with sample 1\n",
      "Done with sample 2\n",
      "Done with sample 3\n",
      "Done with sample 4\n"
     ]
    }
   ],
   "source": [
    "# Save samples\n",
    "os.makedirs(save_dir, exist_ok=True)\n",
    "num_batch, num_timesteps, num_res, _, _ = atom37_traj.shape\n",
    "max_save = 5\n",
    "for i, sample_traj in enumerate(atom37_traj):\n",
    "    if i >= max_save:\n",
    "        break\n",
    "    traj_path = au.write_prot_to_pdb(\n",
    "        sample_traj,\n",
    "        os.path.join(\n",
    "            save_dir,\n",
    "            f'traj_{i}_len_{num_res}_t_{num_timesteps}.pdb'),\n",
    "        no_indexing=True\n",
    "    )\n",
    "    sample_path = au.write_prot_to_pdb(\n",
    "        sample_traj[-1],\n",
    "        os.path.join(\n",
    "            save_dir,\n",
    "            f'sample_{i}_len_{num_res}_ts_{num_timesteps}.pdb'),\n",
    "        no_indexing=True\n",
    "    )\n",
    "    _ = au.write_prot_to_pdb(\n",
    "        all_pred_atom37[-1, i],\n",
    "        os.path.join(\n",
    "            save_dir,\n",
    "            f'final_model_out_{i}_len_{num_res}_ts_{num_timesteps}.pdb'),\n",
    "        no_indexing=True\n",
    "    )\n",
    "    _ = au.write_prot_to_pdb(\n",
    "        all_pred_atom37[:, i],\n",
    "        os.path.join(\n",
    "            save_dir,\n",
    "            f'pred_traj_{i}_len_{num_res}_ts_{num_timesteps}.pdb'),\n",
    "        no_indexing=True\n",
    "    )\n",
    "    _ = au.write_prot_to_pdb(\n",
    "        gt_atom37[i],\n",
    "        os.path.join(\n",
    "            save_dir,\n",
    "            f'gt_{i}_len_{num_res}_ts_{num_timesteps}.pdb',\n",
    "        ),\n",
    "        no_indexing=True\n",
    "    )\n",
    "    print(f'Done with sample {i}')\n",
    "\n",
    "final_samples = atom37_traj[:, -1]\n",
    "_ = au.write_prot_to_pdb(\n",
    "    final_samples,\n",
    "    os.path.join(\n",
    "        save_dir,\n",
    "        'all_samples.pdb'),\n",
    "    no_indexing=True\n",
    ")\n"
   ]
  },
  {
   "cell_type": "code",
   "execution_count": null,
   "metadata": {},
   "outputs": [],
   "source": []
  },
  {
   "cell_type": "code",
   "execution_count": null,
   "metadata": {},
   "outputs": [],
   "source": []
  }
 ],
 "metadata": {
  "kernelspec": {
   "display_name": "Python 3 (ipykernel)",
   "language": "python",
   "name": "python3"
  },
  "language_info": {
   "codemirror_mode": {
    "name": "ipython",
    "version": 3
   },
   "file_extension": ".py",
   "mimetype": "text/x-python",
   "name": "python",
   "nbconvert_exporter": "python",
   "pygments_lexer": "ipython3",
   "version": "3.10.12"
  }
 },
 "nbformat": 4,
 "nbformat_minor": 4
}
