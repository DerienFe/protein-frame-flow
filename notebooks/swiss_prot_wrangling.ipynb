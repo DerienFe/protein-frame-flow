{
 "cells": [
  {
   "cell_type": "code",
   "execution_count": 2,
   "metadata": {},
   "outputs": [],
   "source": [
    "import numpy as np\n",
    "import os\n",
    "import glob\n",
    "import pandas as pd\n",
    "import shutil\n",
    "from tqdm import tqdm\n",
    "import mdtraj as md\n",
    "import seaborn as sns\n",
    "import matplotlib.pyplot as plt"
   ]
  },
  {
   "cell_type": "code",
   "execution_count": 1,
   "metadata": {},
   "outputs": [],
   "source": [
    "swissprot_dir = '/Mounts/rbg-storage1/users/jyim/large_data/swiss_prot_processed'"
   ]
  },
  {
   "cell_type": "code",
   "execution_count": 8,
   "metadata": {},
   "outputs": [],
   "source": [
    "all_files = glob.glob(swissprot_dir + '/**/*.cif.gz')"
   ]
  },
  {
   "cell_type": "code",
   "execution_count": 9,
   "metadata": {},
   "outputs": [
    {
     "data": {
      "text/plain": [
       "['/Mounts/rbg-storage1/users/jyim/large_data/swiss_prot_processed/36/AF-W7MLD1-F1-model_v4.cif.gz']"
      ]
     },
     "execution_count": 9,
     "metadata": {},
     "output_type": "execute_result"
    }
   ],
   "source": [
    "all_files"
   ]
  },
  {
   "cell_type": "code",
   "execution_count": 6,
   "metadata": {},
   "outputs": [
    {
     "data": {
      "text/plain": [
       "69"
      ]
     },
     "execution_count": 6,
     "metadata": {},
     "output_type": "execute_result"
    }
   ],
   "source": [
    "len(all_files)"
   ]
  },
  {
   "cell_type": "code",
   "execution_count": 4,
   "metadata": {},
   "outputs": [
    {
     "data": {
      "text/plain": [
       "542301"
      ]
     },
     "execution_count": 4,
     "metadata": {},
     "output_type": "execute_result"
    }
   ],
   "source": [
    "len(all_files)"
   ]
  },
  {
   "cell_type": "code",
   "execution_count": null,
   "metadata": {},
   "outputs": [],
   "source": []
  },
  {
   "cell_type": "code",
   "execution_count": 30,
   "metadata": {},
   "outputs": [],
   "source": [
    "all_prefixes = list(range(350, 544)) + list(range(1, 100))\n",
    "with open('all_files.sh', 'w') as f:\n",
    "    for i, prefix in enumerate(all_prefixes):\n",
    "        f.write(\n",
    "            f'gunzip -df {prefix}/*.gz &\\n'\n",
    "        )\n",
    "        if (i + 1) % 50 == 0:\n",
    "            f.write('wait\\n')\n",
    "    # for i in range(350, 544):\n",
    "    #     f.write(f'{i}/*.gz ')\n",
    "    # for i in range(100):\n",
    "    #     f.write(f'{i}/*.gz ')"
   ]
  },
  {
   "cell_type": "code",
   "execution_count": null,
   "metadata": {},
   "outputs": [],
   "source": [
    "\n",
    "echo -e $args | xargs -I \"{}\" -P 2 ./process {}.\n"
   ]
  },
  {
   "cell_type": "code",
   "execution_count": null,
   "metadata": {},
   "outputs": [],
   "source": []
  },
  {
   "cell_type": "code",
   "execution_count": null,
   "metadata": {},
   "outputs": [],
   "source": []
  },
  {
   "cell_type": "code",
   "execution_count": 2,
   "metadata": {},
   "outputs": [],
   "source": [
    "swissprot_dir = '/Mounts/rbg-storage1/users/jyim/large_data/swiss_prot'"
   ]
  },
  {
   "cell_type": "code",
   "execution_count": 29,
   "metadata": {},
   "outputs": [],
   "source": [
    "all_swissprot_files = [x for x in glob.glob(swissprot_dir + '/*') if x.endswith('.cif.gz')]\n",
    "subdir_prefix = []\n",
    "prefix = 0\n",
    "for i in range(len(all_swissprot_files)):\n",
    "    if (i % 1000) == 0:\n",
    "        prefix += 1\n",
    "    subdir_prefix.append(prefix)\n",
    "\n",
    "swissprot_df = pd.DataFrame({\n",
    "    'path': all_swissprot_files,\n",
    "    'prefix': subdir_prefix,\n",
    "})"
   ]
  },
  {
   "cell_type": "code",
   "execution_count": null,
   "metadata": {},
   "outputs": [],
   "source": [
    "write_dir = '/Mounts/rbg-storage1/users/jyim/large_data/swiss_prot_processed'\n",
    "for i, row in swissprot_df.iterrows():\n",
    "    path = row.path\n",
    "    fname = os.path.basename(path)\n",
    "    prefix = str(row.prefix)\n",
    "    prefix_dir = os.path.join(write_dir, prefix)\n",
    "    os.makedirs(prefix_dir, exist_ok=True)\n",
    "    write_path = os.path.join(prefix_dir, fname)\n",
    "    shutil.copy(path, write_path)\n",
    "    if i % 100 == 0:\n",
    "        print(f'On {i}')"
   ]
  },
  {
   "cell_type": "code",
   "execution_count": 21,
   "metadata": {},
   "outputs": [],
   "source": [
    "write_dir = '/Mounts/rbg-storage1/users/jyim/large_data/swiss_prot_processed'\n",
    "all_paths = glob.glob(os.path.join(write_dir, '*', '*'), recursive=True)"
   ]
  },
  {
   "cell_type": "code",
   "execution_count": 22,
   "metadata": {},
   "outputs": [
    {
     "data": {
      "text/plain": [
       "521933"
      ]
     },
     "execution_count": 22,
     "metadata": {},
     "output_type": "execute_result"
    }
   ],
   "source": [
    "len(all_paths)"
   ]
  },
  {
   "cell_type": "code",
   "execution_count": null,
   "metadata": {},
   "outputs": [],
   "source": []
  },
  {
   "cell_type": "code",
   "execution_count": 27,
   "metadata": {},
   "outputs": [],
   "source": []
  },
  {
   "cell_type": "code",
   "execution_count": null,
   "metadata": {},
   "outputs": [],
   "source": []
  }
 ],
 "metadata": {
  "kernelspec": {
   "display_name": "Python 3 (ipykernel)",
   "language": "python",
   "name": "python3"
  },
  "language_info": {
   "codemirror_mode": {
    "name": "ipython",
    "version": 3
   },
   "file_extension": ".py",
   "mimetype": "text/x-python",
   "name": "python",
   "nbconvert_exporter": "python",
   "pygments_lexer": "ipython3",
   "version": "3.10.12"
  }
 },
 "nbformat": 4,
 "nbformat_minor": 4
}
