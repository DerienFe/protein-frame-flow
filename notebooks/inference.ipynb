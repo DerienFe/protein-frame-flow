{
 "cells": [
  {
   "cell_type": "code",
   "execution_count": null,
   "metadata": {},
   "outputs": [],
   "source": [
    "%load_ext autoreload\n",
    "%autoreload 2"
   ]
  },
  {
   "cell_type": "code",
   "execution_count": null,
   "metadata": {},
   "outputs": [],
   "source": [
    "import os\n",
    "from omegaconf import OmegaConf\n",
    "from models.flow_module import FlowModule\n",
    "import torch\n",
    "from data.pdb_dataloader import PdbDataModule\n",
    "import glob\n",
    "import GPUtil\n",
    "from data import utils as du\n",
    "from scipy.spatial.transform import Rotation\n",
    "import numpy as np\n",
    "import tree\n",
    "from data import so3_utils\n",
    "from data import all_atom\n",
    "from analysis import plotting\n",
    "from analysis import utils as au\n",
    "from openfold.utils.superimposition import superimpose\n",
    "import matplotlib.pyplot as plt\n"
   ]
  },
  {
   "cell_type": "code",
   "execution_count": null,
   "metadata": {},
   "outputs": [],
   "source": [
    "# Setup lightning module\n",
    "\n",
    "# ckpt_dir = 'ckpt/se3-fm/warm_start_baseline/2023-09-04_15-13-01'\n",
    "# ckpt_dir = 'ckpt/se3-fm/flower/2023-09-04_20-54-39/'\n",
    "ckpt_dir = 'ckpt/se3-fm/warm_start/2023-08-30_17-36-07'\n",
    "ckpt_path = sorted(glob.glob(os.path.join(ckpt_dir, '*.ckpt')))[-1]\n",
    "print(ckpt_path)\n",
    "\n",
    "cfg_path = os.path.join(ckpt_dir, 'config.yaml')\n",
    "ckpt_cfg = OmegaConf.load(cfg_path)\n",
    "base_path = 'configs/base.yaml'\n",
    "base_cfg = OmegaConf.load(base_path)\n",
    "\n",
    "OmegaConf.set_struct(base_cfg, False)\n",
    "OmegaConf.set_struct(ckpt_cfg, False)\n",
    "cfg = OmegaConf.merge(base_cfg, ckpt_cfg)\n",
    "cfg.experiment.checkpointer.dirpath = './'\n",
    "\n",
    "flow = FlowModule.load_from_checkpoint(\n",
    "    checkpoint_path=ckpt_path,\n",
    "    model_cfg=cfg.model,\n",
    "    experiment_cfg=cfg.experiment\n",
    ") \n",
    "_ = flow.eval()"
   ]
  },
  {
   "cell_type": "code",
   "execution_count": null,
   "metadata": {},
   "outputs": [],
   "source": [
    "# Set up data module\n",
    "data_module = PdbDataModule(cfg.data)\n",
    "data_module.setup('fit')\n",
    "train_dataloader = data_module.train_dataloader(\n",
    "    num_replicas=1,\n",
    "    rank=1\n",
    ")\n",
    "data_iter = iter(train_dataloader)\n"
   ]
  },
  {
   "cell_type": "code",
   "execution_count": null,
   "metadata": {},
   "outputs": [],
   "source": [
    "# Search for a reasonable batch\n",
    "stop_search = False\n",
    "while not stop_search: \n",
    "    batch = next(data_iter)\n",
    "    num_batch, num_res, _ = batch['trans_1'].shape\n",
    "    if num_res > 70 and num_res < 100:\n",
    "        stop_search = True\n",
    "\n",
    "print(f'Found batch with {num_res} residues, {num_batch} batch size')\n",
    "\n",
    "# Set up device and cuda\n",
    "num_batch, num_res, _ = batch['trans_1'].shape\n",
    "# cuda_id = GPUtil.getAvailable(order='memory', limit = 8)[0]\n",
    "# device = f'cuda:{cuda_id}'\n",
    "device = 'cpu'\n",
    "print(f'Using device {device}')\n",
    "flow.model = flow.model.to(device)\n",
    "batch = tree.map_structure(lambda x: x.to(device), batch)\n",
    "num_batch = batch['res_mask'].shape[0]"
   ]
  },
  {
   "cell_type": "code",
   "execution_count": null,
   "metadata": {},
   "outputs": [],
   "source": [
    "batch.keys()"
   ]
  },
  {
   "cell_type": "code",
   "execution_count": null,
   "metadata": {},
   "outputs": [],
   "source": [
    "batch['res_idx']"
   ]
  },
  {
   "cell_type": "code",
   "execution_count": null,
   "metadata": {},
   "outputs": [],
   "source": []
  },
  {
   "cell_type": "markdown",
   "metadata": {},
   "source": [
    "# Utils"
   ]
  },
  {
   "cell_type": "code",
   "execution_count": null,
   "metadata": {},
   "outputs": [],
   "source": [
    "def atom37_from_trans_rot(trans, rots, res_mask):\n",
    "        rigids = du.create_rigid(rots, trans)\n",
    "        atom37 = all_atom.compute_backbone(\n",
    "            rigids,\n",
    "            torch.zeros(\n",
    "                trans.shape[0],\n",
    "                trans.shape[1],\n",
    "                2,\n",
    "                device=trans.device\n",
    "            )\n",
    "        )[0]\n",
    "        atom37 = atom37.detach().cpu()\n",
    "        batch_atom37 = []\n",
    "        for i in range(num_batch):\n",
    "            batch_atom37.append(\n",
    "                du.adjust_oxygen_pos(atom37[i], res_mask[i])\n",
    "            )\n",
    "        return torch.stack(batch_atom37)\n",
    "\n",
    "def process_trans_rot_traj(trans_traj, rots_traj, res_mask):\n",
    "    res_mask = res_mask.detach().cpu()\n",
    "    atom37_traj = [\n",
    "         atom37_from_trans_rot(trans, rots, res_mask)\n",
    "         for trans, rots in zip(trans_traj, rots_traj) \n",
    "    ]\n",
    "    atom37_traj = torch.stack(atom37_traj).swapaxes(0, 1)\n",
    "    return atom37_traj "
   ]
  },
  {
   "cell_type": "code",
   "execution_count": null,
   "metadata": {},
   "outputs": [],
   "source": []
  },
  {
   "cell_type": "markdown",
   "metadata": {},
   "source": [
    "# Model prediction at different timesteps"
   ]
  },
  {
   "cell_type": "code",
   "execution_count": null,
   "metadata": {},
   "outputs": [],
   "source": [
    "gt_ca_pos = batch['trans_1']\n",
    "device = gt_ca_pos.device\n",
    "num_batch = gt_ca_pos.shape[0]\n",
    "ts = np.linspace(1e-3, 1.0, 100)\n",
    "all_pred_ca = []\n",
    "for i,t in enumerate(ts):\n",
    "    print(f'On {i}')\n",
    "    batch_t = torch.ones(num_batch, 1, 1, device=device) * t\n",
    "    noisy_batch = flow._corrupt_batch(batch, t=batch_t)\n",
    "    with torch.no_grad():\n",
    "        model_out = flow.forward(noisy_batch)\n",
    "    all_pred_ca.append(du.to_numpy(model_out['pred_trans']))\n",
    "all_pred_ca = np.stack(all_pred_ca)"
   ]
  },
  {
   "cell_type": "code",
   "execution_count": null,
   "metadata": {},
   "outputs": [],
   "source": [
    "res_mask = batch['res_mask']\n",
    "aligned_sample_ca, aligned_rmsd = superimpose(\n",
    "    torch.tensor(gt_ca_pos)[None].repeat(100, 1, 1, 1),\n",
    "    torch.tensor(all_pred_ca).to(gt_ca_pos.device),\n",
    "    res_mask[None].repeat(100, 1, 1)\n",
    ")\n",
    "torch.mean(aligned_rmsd)"
   ]
  },
  {
   "cell_type": "code",
   "execution_count": null,
   "metadata": {},
   "outputs": [],
   "source": [
    "ts_rmsd = du.to_numpy(torch.mean(aligned_rmsd, dim=-1))"
   ]
  },
  {
   "cell_type": "code",
   "execution_count": null,
   "metadata": {},
   "outputs": [],
   "source": [
    "plt.plot(ts, ts_rmsd)\n",
    "# plt.plot(ts, noisy_rmsds)"
   ]
  },
  {
   "cell_type": "code",
   "execution_count": null,
   "metadata": {},
   "outputs": [],
   "source": []
  },
  {
   "cell_type": "markdown",
   "metadata": {},
   "source": [
    "# Partial sampling"
   ]
  },
  {
   "cell_type": "code",
   "execution_count": null,
   "metadata": {},
   "outputs": [],
   "source": [
    "min_t = 1e-3\n",
    "t = torch.ones(num_batch, 1, 1, device=device) * min_t\n",
    "noisy_batch = flow._corrupt_batch(batch, t=t)\n",
    "batch_trunc = 5\n",
    "trans_in = du.to_numpy(noisy_batch['trans_t'][:batch_trunc])\n",
    "gt = du.to_numpy(noisy_batch['trans_1'][:batch_trunc])\n"
   ]
  },
  {
   "cell_type": "code",
   "execution_count": null,
   "metadata": {},
   "outputs": [],
   "source": [
    "# Run sampling\n",
    "trans_traj = [noisy_batch['trans_t']]\n",
    "rots_traj = [noisy_batch['rotmats_t']]\n",
    "num_timesteps = 100\n",
    "ts = np.linspace(min_t, 1.0, num_timesteps)\n",
    "t_1 = ts[0]\n",
    "model_outputs = []\n",
    "trans_vf_traj = []\n",
    "for i,t_2 in enumerate(ts[1:]):\n",
    "    if (i+1) % 100 == 0:\n",
    "        print(f\"Step {i+1} / {len(ts)}\")\n",
    "    d_t = t_2 - t_1\n",
    "    trans_t_1 = trans_traj[-1]\n",
    "    rots_t_1 = rots_traj[-1]\n",
    "    with torch.no_grad():\n",
    "        batch['trans_t'] = trans_t_1\n",
    "        batch['rotmats_t'] = rots_t_1\n",
    "        batch['t'] = torch.ones((num_batch, 1)).to(device) * t_1\n",
    "        model_out = flow.forward(batch)\n",
    "        model_outputs.append(\n",
    "            tree.map_structure(lambda x: du.to_numpy(x), model_out)\n",
    "        )\n",
    "\n",
    "    pred_trans_1 = model_out['pred_trans']\n",
    "    pred_rots_1 = model_out['pred_rotmats']\n",
    "    pred_rots_vf = model_out['pred_rots_vf']\n",
    "\n",
    "    trans_vf = (pred_trans_1 - trans_t_1) / (1 - t_1)\n",
    "    trans_t_2 = trans_t_1 + trans_vf * d_t\n",
    "    rots_t_2 = so3_utils.geodesic_t(\n",
    "        d_t / (1 - t_1), pred_rots_1, rots_t_1, rot_vf=pred_rots_vf)\n",
    "    t_1 = t_2\n",
    "    trans_traj.append(trans_t_2)\n",
    "    rots_traj.append(rots_t_2)\n",
    "\n",
    "res_mask = batch['res_mask']\n",
    "atom37_traj = process_trans_rot_traj(trans_traj, rots_traj, res_mask)\n",
    "final_ca_pos = atom37_traj[:, -1, :, 1]\n",
    "gt_ca_pos = batch['trans_1']"
   ]
  },
  {
   "cell_type": "code",
   "execution_count": null,
   "metadata": {},
   "outputs": [],
   "source": [
    "aligned_sample_ca, aligned_rmsd = superimpose(\n",
    "    gt_ca_pos,\n",
    "    final_ca_pos.to(gt_ca_pos.device),\n",
    "    res_mask\n",
    ")\n",
    "torch.mean(aligned_rmsd)"
   ]
  },
  {
   "cell_type": "code",
   "execution_count": null,
   "metadata": {},
   "outputs": [],
   "source": [
    "# Save samples\n",
    "save_dir = 'notebook_samples/'\n",
    "os.makedirs(save_dir, exist_ok=True)\n",
    "atom37_traj = du.to_numpy(atom37_traj)\n",
    "num_batch, num_timesteps, num_res, _, _ = atom37_traj.shape\n",
    "max_save = 5\n",
    "for i, sample_traj in enumerate(atom37_traj):\n",
    "    if i >= max_save:\n",
    "        break\n",
    "    # traj_path = au.write_prot_to_pdb(\n",
    "    #     sample_traj,\n",
    "    #     os.path.join(\n",
    "    #         save_dir,\n",
    "    #         f'traj_{i}_len_{num_res}_ts_{num_timesteps}.pdb'),\n",
    "    #     no_indexing=True\n",
    "    # )\n",
    "    sample_path = au.write_prot_to_pdb(\n",
    "        sample_traj[-1],\n",
    "        os.path.join(\n",
    "            save_dir,\n",
    "            f'sample_{i}_len_{num_res}_ts_{num_timesteps}.pdb'),\n",
    "        no_indexing=True\n",
    "    )\n",
    "    print(f'Done with sample {i}')"
   ]
  },
  {
   "cell_type": "code",
   "execution_count": null,
   "metadata": {},
   "outputs": [],
   "source": [
    "gt_trans_1 = batch['trans_1']\n",
    "gt_rotmats_1 = batch['rotmats_1']\n",
    "\n",
    "gt_atom37 = atom37_from_trans_rot(\n",
    "    gt_trans_1.detach().cpu(),\n",
    "    gt_rotmats_1.detach().cpu(),\n",
    "    res_mask.detach().cpu()\n",
    ")\n",
    "gt_atom37 = du.to_numpy(gt_atom37)"
   ]
  },
  {
   "cell_type": "code",
   "execution_count": null,
   "metadata": {},
   "outputs": [],
   "source": [
    "for i, gt_coords in enumerate(gt_atom37):\n",
    "    if i >= max_save:\n",
    "        break\n",
    "    sample_path = au.write_prot_to_pdb(\n",
    "        gt_coords,\n",
    "        os.path.join(\n",
    "            save_dir,\n",
    "            f'gt_{i}_len_{num_res}.pdb'),\n",
    "        no_indexing=True\n",
    "    )\n",
    "    print(f'Done with sample {i}')"
   ]
  },
  {
   "cell_type": "code",
   "execution_count": null,
   "metadata": {},
   "outputs": [],
   "source": []
  },
  {
   "cell_type": "markdown",
   "metadata": {},
   "source": [
    "## Calculate SNR"
   ]
  },
  {
   "cell_type": "code",
   "execution_count": null,
   "metadata": {},
   "outputs": [],
   "source": [
    "gt_ca_pos = batch['trans_1']\n",
    "device = gt_ca_pos.device\n",
    "num_batch = gt_ca_pos.shape[0]\n",
    "all_noise = {}\n",
    "for i,t in enumerate(ts):\n",
    "    print(f'On {i}')\n",
    "    noisy_ca_pos = []\n",
    "    batch_t = torch.ones(num_batch, 1, 1, device=device) * t \n",
    "    for _ in range(10):\n",
    "        noisy_batch = flow._corrupt_batch(batch, t=batch_t)\n",
    "        noisy_ca_pos.append(noisy_batch['trans_t'])\n",
    "    noisy_ca_pos = torch.stack(noisy_ca_pos)\n",
    "    all_noise[i] = noisy_ca_pos"
   ]
  },
  {
   "cell_type": "code",
   "execution_count": null,
   "metadata": {},
   "outputs": [],
   "source": [
    "def calc_rmsd(x, y):\n",
    "    return torch.mean(torch.linalg.norm(x - y, dim=-1))"
   ]
  },
  {
   "cell_type": "code",
   "execution_count": null,
   "metadata": {},
   "outputs": [],
   "source": [
    "noisy_rmsds = []\n",
    "for i in range(len(all_noise)):\n",
    "    noisy_ca_pos = all_noise[i]\n",
    "    rmsd = calc_rmsd(noisy_ca_pos, gt_ca_pos[None])\n",
    "    noisy_rmsds.append(rmsd)\n",
    "noisy_rmsds = du.to_numpy(torch.stack(noisy_rmsds))"
   ]
  },
  {
   "cell_type": "code",
   "execution_count": null,
   "metadata": {},
   "outputs": [],
   "source": [
    "plt.plot(ts, noisy_rmsds)"
   ]
  },
  {
   "cell_type": "code",
   "execution_count": null,
   "metadata": {},
   "outputs": [],
   "source": []
  },
  {
   "cell_type": "code",
   "execution_count": null,
   "metadata": {},
   "outputs": [],
   "source": []
  },
  {
   "cell_type": "code",
   "execution_count": null,
   "metadata": {},
   "outputs": [],
   "source": []
  },
  {
   "cell_type": "markdown",
   "metadata": {},
   "source": [
    "## Process and save samples"
   ]
  },
  {
   "cell_type": "code",
   "execution_count": null,
   "metadata": {},
   "outputs": [],
   "source": [
    "save_dir = 'notebook_samples/'\n",
    "os.makedirs(save_dir, exist_ok=True)\n",
    "atom37_traj = du.to_numpy(atom37_traj)\n",
    "num_batch, num_timesteps, num_res, _, _ = atom37_traj.shape\n",
    "max_save = 5\n",
    "for i, sample_traj in enumerate(atom37_traj):\n",
    "    if i >= max_save:\n",
    "        break\n",
    "    traj_path = au.write_prot_to_pdb(\n",
    "        sample_traj,\n",
    "        os.path.join(\n",
    "            save_dir,\n",
    "            f'traj_{i}_len_{num_res}_ts_{num_timesteps}.pdb'),\n",
    "        no_indexing=True\n",
    "    )\n",
    "    sample_path = au.write_prot_to_pdb(\n",
    "        sample_traj[-1],\n",
    "        os.path.join(\n",
    "            save_dir,\n",
    "            f'sample_{i}_len_{num_res}_ts_{num_timesteps}.pdb'),\n",
    "        no_indexing=True\n",
    "    )\n",
    "    print(f'Done with sample {i}')"
   ]
  },
  {
   "cell_type": "code",
   "execution_count": null,
   "metadata": {},
   "outputs": [],
   "source": []
  },
  {
   "cell_type": "code",
   "execution_count": null,
   "metadata": {},
   "outputs": [],
   "source": []
  },
  {
   "cell_type": "markdown",
   "metadata": {},
   "source": [
    "## Visualize structures"
   ]
  },
  {
   "cell_type": "code",
   "execution_count": null,
   "metadata": {},
   "outputs": [],
   "source": [
    "idx = 0\n",
    "model_out_ca = model_outputs[-1]['pred_trans'][idx]\n",
    "sample_bb_3d = plotting.create_scatter(model_out_ca, mode='lines+markers', marker_size=3, opacity=1.0)\n",
    "plotting.plot_traces([sample_bb_3d])"
   ]
  },
  {
   "cell_type": "code",
   "execution_count": null,
   "metadata": {},
   "outputs": [],
   "source": [
    "idx = 0\n",
    "t_idx = -1\n",
    "model_out_ca = model_outputs[t_idx]['pred_trans'][idx]\n",
    "model_in_ca = trans_in[idx]\n",
    "gt_ca = gt[idx]\n",
    "\n",
    "out_bb_3d = plotting.create_scatter(\n",
    "    model_out_ca, mode='lines+markers', marker_size=3, opacity=1.0, name='pred')\n",
    "in_bb_3d = plotting.create_scatter(\n",
    "    model_in_ca, mode='lines+markers', marker_size=3, opacity=1.0, name=f'input t={ts[t_idx]:.2f}')\n",
    "gt_bb_3d = plotting.create_scatter(\n",
    "    gt_ca, mode='lines+markers', marker_size=3, opacity=1.0, name='gt')\n",
    "plotting.plot_traces([\n",
    "    out_bb_3d,\n",
    "    # in_bb_3d,\n",
    "    gt_bb_3d\n",
    "])\n"
   ]
  },
  {
   "cell_type": "code",
   "execution_count": null,
   "metadata": {},
   "outputs": [],
   "source": []
  },
  {
   "cell_type": "code",
   "execution_count": null,
   "metadata": {},
   "outputs": [],
   "source": []
  }
 ],
 "metadata": {
  "kernelspec": {
   "display_name": "fm",
   "language": "python",
   "name": "python3"
  },
  "language_info": {
   "codemirror_mode": {
    "name": "ipython",
    "version": 3
   },
   "file_extension": ".py",
   "mimetype": "text/x-python",
   "name": "python",
   "nbconvert_exporter": "python",
   "pygments_lexer": "ipython3",
   "version": "3.10.12"
  },
  "orig_nbformat": 4
 },
 "nbformat": 4,
 "nbformat_minor": 2
}
