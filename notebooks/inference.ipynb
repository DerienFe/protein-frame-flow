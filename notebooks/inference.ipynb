{
 "cells": [
  {
   "cell_type": "code",
   "execution_count": null,
   "metadata": {},
   "outputs": [],
   "source": [
    "%load_ext autoreload\n",
    "%autoreload 2"
   ]
  },
  {
   "cell_type": "code",
   "execution_count": null,
   "metadata": {},
   "outputs": [],
   "source": [
    "import os\n",
    "from omegaconf import OmegaConf\n",
    "from models.flow_module import FlowModule\n",
    "import torch\n",
    "from data.pdb_dataloader import PdbDataModule\n",
    "import glob\n",
    "import GPUtil\n",
    "from data import utils as du\n",
    "from scipy.spatial.transform import Rotation\n",
    "import numpy as np\n",
    "import tree\n",
    "from data import so3_utils\n",
    "from data import all_atom\n",
    "from analysis import plotting"
   ]
  },
  {
   "cell_type": "code",
   "execution_count": null,
   "metadata": {},
   "outputs": [],
   "source": [
    "# Setup lightning module\n",
    "\n",
    "ckpt_dir = '/data/rsg/chemistry/jyim/projects/flow-matching/ckpt/se3-fm/baseline/2023-08-28_12-04-39/'\n",
    "# ckpt_dir = '/data/rsg/chemistry/jyim/projects/flow-matching/ckpt/se3-fm/baseline/2023-08-28_17-12-28'\n",
    "ckpt_path = glob.glob(os.path.join(ckpt_dir, '*.ckpt'))[0]\n",
    "print(ckpt_path)\n",
    "\n",
    "cfg = OmegaConf.load(\"configs/base.yaml\")\n",
    "cfg.experiment.checkpointer.dirpath = './'\n",
    "flow = FlowModule.load_from_checkpoint(\n",
    "    checkpoint_path=ckpt_path,\n",
    "    model_cfg=cfg.model,\n",
    "    experiment_cfg=cfg.experiment\n",
    ") \n",
    "_ = flow.eval()\n"
   ]
  },
  {
   "cell_type": "code",
   "execution_count": null,
   "metadata": {},
   "outputs": [],
   "source": [
    "# Set up data module\n",
    "data_module = PdbDataModule(cfg.data)\n",
    "data_module.setup('fit')\n",
    "train_dataloader = data_module.train_dataloader(\n",
    "    num_replicas=1,\n",
    "    rank=1\n",
    ")\n",
    "data_iter = iter(train_dataloader)\n"
   ]
  },
  {
   "cell_type": "code",
   "execution_count": null,
   "metadata": {},
   "outputs": [],
   "source": [
    "# Search for a reasonable batch\n",
    "stop_search = False\n",
    "while not stop_search: \n",
    "    batch = next(data_iter)\n",
    "    num_batch, num_res, _ = batch['trans_1'].shape\n",
    "    if num_res > 60 and num_res < 100:\n",
    "        stop_search = True\n"
   ]
  },
  {
   "cell_type": "code",
   "execution_count": null,
   "metadata": {},
   "outputs": [],
   "source": [
    "# Set up device and cuda\n",
    "num_batch, num_res, _ = batch['trans_1'].shape\n",
    "cuda_id = GPUtil.getAvailable(order='memory', limit = 8)[0]\n",
    "device = f'cuda:{cuda_id}'\n",
    "flow.model = flow.model.to(device)\n",
    "batch = tree.map_structure(lambda x: x.to(device), batch)\n",
    "num_batch = batch['res_mask'].shape[0]"
   ]
  },
  {
   "cell_type": "code",
   "execution_count": null,
   "metadata": {},
   "outputs": [],
   "source": []
  },
  {
   "cell_type": "markdown",
   "metadata": {},
   "source": [
    "# Model preduction at different timesteps"
   ]
  },
  {
   "cell_type": "code",
   "execution_count": null,
   "metadata": {},
   "outputs": [],
   "source": [
    "t = torch.ones(num_batch, 1, 1, device=device) * 0.1\n",
    "noisy_batch = flow._corrupt_batch(batch, t=t)\n",
    "\n",
    "model_out = flow.forward(noisy_batch)\n",
    "trans_out = du.to_numpy(model_out['pred_trans'])\n",
    "trans_in = du.to_numpy(noisy_batch['trans_t'])\n",
    "gt = du.to_numpy(noisy_batch['trans_1'])\n",
    "t = du.to_numpy(noisy_batch['t'][:, 0])\n",
    "num_batch = trans_out.shape[0]\n",
    "print(num_batch)\n",
    "print(t)"
   ]
  },
  {
   "cell_type": "code",
   "execution_count": null,
   "metadata": {},
   "outputs": [],
   "source": [
    "idx = 0\n",
    "model_out_ca = trans_out[idx]\n",
    "model_in_ca = trans_in[idx]\n",
    "gt_ca = gt[idx]\n",
    "\n",
    "out_bb_3d = plotting.create_scatter(\n",
    "    model_out_ca, mode='lines+markers', marker_size=3, opacity=1.0, name='pred')\n",
    "in_bb_3d = plotting.create_scatter(\n",
    "    model_in_ca, mode='lines+markers', marker_size=3, opacity=1.0, name=f'input t={t[idx]:.2f}')\n",
    "gt_bb_3d = plotting.create_scatter(\n",
    "    gt_ca, mode='lines+markers', marker_size=3, opacity=1.0, name='gt')\n",
    "plotting.plot_traces([\n",
    "    out_bb_3d,\n",
    "    #in_bb_3d,\n",
    "    gt_bb_3d\n",
    "])\n"
   ]
  },
  {
   "cell_type": "code",
   "execution_count": null,
   "metadata": {},
   "outputs": [],
   "source": []
  },
  {
   "cell_type": "markdown",
   "metadata": {},
   "source": [
    "# Partial sampling"
   ]
  },
  {
   "cell_type": "code",
   "execution_count": null,
   "metadata": {},
   "outputs": [],
   "source": [
    "min_t = 1e-3\n",
    "t = torch.ones(num_batch, 1, 1, device=device) * min_t\n",
    "noisy_batch = flow._corrupt_batch(batch, t=t)\n",
    "batch_trunc = 5\n",
    "trans_in = du.to_numpy(noisy_batch['trans_t'][:batch_trunc])\n",
    "gt = du.to_numpy(noisy_batch['trans_1'][:batch_trunc])"
   ]
  },
  {
   "cell_type": "code",
   "execution_count": null,
   "metadata": {},
   "outputs": [],
   "source": [
    "# Run sampling\n",
    "trans_traj = [noisy_batch['trans_t']]\n",
    "rots_traj = [noisy_batch['rotmats_t']]\n",
    "num_timesteps = 1000\n",
    "ts = np.linspace(min_t, 1.0, num_timesteps)\n",
    "t_1 = ts[0]\n",
    "model_outputs = []\n",
    "for i,t_2 in enumerate(ts[1:]):\n",
    "    if (i+1) % 100 == 0:\n",
    "        print(f\"Step {i+1} / {len(ts)}\")\n",
    "    d_t = t_2 - t_1\n",
    "    trans_t_1 = trans_traj[-1]\n",
    "    rots_t_1 = rots_traj[-1]\n",
    "    with torch.no_grad():\n",
    "        batch['trans_t'] = trans_t_1\n",
    "        batch['rotmats_t'] = rots_t_1\n",
    "        batch['t'] = torch.ones((num_batch, 1)).to(device) * t_1\n",
    "        model_out = flow.forward(batch)\n",
    "        model_outputs.append(\n",
    "            tree.map_structure(lambda x: du.to_numpy(x), model_out)\n",
    "        )\n",
    "\n",
    "    pred_trans_1 = model_out['pred_trans']\n",
    "    pred_rots_1 = model_out['pred_rotmats']\n",
    "    pred_rots_vf = model_out['pred_rots_vf']\n",
    "\n",
    "    trans_vf = (pred_trans_1 - trans_t_1) / (1 - t_1)\n",
    "    trans_t_2 = trans_t_1 + trans_vf * d_t\n",
    "    rots_t_2 = so3_utils.geodesic_t(\n",
    "        d_t / (1 - t_1), pred_rots_1, rots_t_1, rot_vf=pred_rots_vf)\n",
    "    t_1 = t_2\n",
    "    trans_traj.append(trans_t_2)\n",
    "    rots_traj.append(rots_t_2)\n"
   ]
  },
  {
   "cell_type": "code",
   "execution_count": null,
   "metadata": {},
   "outputs": [],
   "source": [
    "idx = 6\n",
    "model_out_ca = model_outputs[-1]['pred_trans'][idx]\n",
    "sample_bb_3d = plotting.create_scatter(model_out_ca, mode='lines+markers', marker_size=3, opacity=1.0)\n",
    "plotting.plot_traces([sample_bb_3d])"
   ]
  },
  {
   "cell_type": "code",
   "execution_count": null,
   "metadata": {},
   "outputs": [],
   "source": []
  },
  {
   "cell_type": "code",
   "execution_count": null,
   "metadata": {},
   "outputs": [],
   "source": []
  },
  {
   "cell_type": "code",
   "execution_count": null,
   "metadata": {},
   "outputs": [],
   "source": []
  },
  {
   "cell_type": "code",
   "execution_count": null,
   "metadata": {},
   "outputs": [],
   "source": []
  },
  {
   "cell_type": "code",
   "execution_count": null,
   "metadata": {},
   "outputs": [],
   "source": []
  },
  {
   "cell_type": "code",
   "execution_count": null,
   "metadata": {},
   "outputs": [],
   "source": []
  },
  {
   "cell_type": "code",
   "execution_count": null,
   "metadata": {},
   "outputs": [],
   "source": []
  },
  {
   "cell_type": "code",
   "execution_count": null,
   "metadata": {},
   "outputs": [],
   "source": []
  },
  {
   "cell_type": "code",
   "execution_count": null,
   "metadata": {},
   "outputs": [],
   "source": []
  },
  {
   "cell_type": "code",
   "execution_count": null,
   "metadata": {},
   "outputs": [],
   "source": []
  },
  {
   "cell_type": "code",
   "execution_count": null,
   "metadata": {},
   "outputs": [],
   "source": []
  },
  {
   "cell_type": "code",
   "execution_count": null,
   "metadata": {},
   "outputs": [],
   "source": []
  },
  {
   "cell_type": "code",
   "execution_count": null,
   "metadata": {},
   "outputs": [],
   "source": [
    "idx = 0\n",
    "t_idx = -1\n",
    "model_out_ca = model_outputs[t_idx]['pred_trans'][idx]\n",
    "model_in_ca = trans_in[idx]\n",
    "gt_ca = gt[idx]\n",
    "\n",
    "out_bb_3d = plotting.create_scatter(\n",
    "    model_out_ca, mode='lines+markers', marker_size=3, opacity=1.0, name='pred')\n",
    "in_bb_3d = plotting.create_scatter(\n",
    "    model_in_ca, mode='lines+markers', marker_size=3, opacity=1.0, name=f'input t={ts[t_idx]:.2f}')\n",
    "gt_bb_3d = plotting.create_scatter(\n",
    "    gt_ca, mode='lines+markers', marker_size=3, opacity=1.0, name='gt')\n",
    "plotting.plot_traces([\n",
    "    out_bb_3d,\n",
    "    # in_bb_3d,\n",
    "    gt_bb_3d\n",
    "])\n"
   ]
  },
  {
   "cell_type": "code",
   "execution_count": null,
   "metadata": {},
   "outputs": [],
   "source": []
  },
  {
   "cell_type": "code",
   "execution_count": null,
   "metadata": {},
   "outputs": [],
   "source": []
  },
  {
   "cell_type": "code",
   "execution_count": null,
   "metadata": {},
   "outputs": [],
   "source": []
  },
  {
   "cell_type": "code",
   "execution_count": null,
   "metadata": {},
   "outputs": [],
   "source": []
  },
  {
   "cell_type": "code",
   "execution_count": null,
   "metadata": {},
   "outputs": [],
   "source": []
  },
  {
   "cell_type": "code",
   "execution_count": null,
   "metadata": {},
   "outputs": [],
   "source": []
  },
  {
   "cell_type": "code",
   "execution_count": null,
   "metadata": {},
   "outputs": [],
   "source": []
  },
  {
   "cell_type": "code",
   "execution_count": null,
   "metadata": {},
   "outputs": [],
   "source": []
  },
  {
   "cell_type": "code",
   "execution_count": null,
   "metadata": {},
   "outputs": [],
   "source": []
  },
  {
   "cell_type": "code",
   "execution_count": null,
   "metadata": {},
   "outputs": [],
   "source": []
  },
  {
   "cell_type": "code",
   "execution_count": null,
   "metadata": {},
   "outputs": [],
   "source": []
  },
  {
   "cell_type": "code",
   "execution_count": null,
   "metadata": {},
   "outputs": [],
   "source": []
  },
  {
   "cell_type": "code",
   "execution_count": null,
   "metadata": {},
   "outputs": [],
   "source": []
  },
  {
   "cell_type": "markdown",
   "metadata": {},
   "source": [
    "# Sampling"
   ]
  },
  {
   "cell_type": "code",
   "execution_count": null,
   "metadata": {},
   "outputs": [],
   "source": [
    "# Run sampling\n",
    "trans_0 = flow._centered_gaussian(batch['trans_1'].shape, device) * du.NM_TO_ANG_SCALE\n",
    "rots_0 = torch.tensor(\n",
    "    Rotation.random(num_batch*num_res).as_matrix(),\n",
    "    device=device,\n",
    "    dtype=torch.float32,\n",
    ").reshape(num_batch, num_res, 3, 3)\n",
    "\n",
    "trans_traj = [trans_0]\n",
    "rots_traj = [rots_0]\n",
    "ts = np.linspace(1e-3, 1.0, 500)\n",
    "t_1 = ts[0]\n",
    "model_outputs = []\n",
    "for i,t_2 in enumerate(ts[1:]):\n",
    "    if i % 100 == 0:\n",
    "        print(f\"Step {i+1} / {len(ts)}\")\n",
    "    d_t = t_2 - t_1\n",
    "    trans_t_1 = trans_traj[-1]\n",
    "    rots_t_1 = rots_traj[-1]\n",
    "    with torch.no_grad():\n",
    "        batch['trans_t'] = trans_t_1\n",
    "        batch['rotmats_t'] = rots_t_1\n",
    "        batch['t'] = torch.ones((num_batch, 1)).to(device) * t_1\n",
    "        model_out = flow.forward(batch)\n",
    "        model_outputs.append(\n",
    "            tree.map_structure(lambda x: du.to_numpy(x), model_out)\n",
    "        )\n",
    "\n",
    "    pred_trans_1 = model_out['pred_trans']\n",
    "    pred_rots_1 = model_out['pred_rotmats']\n",
    "\n",
    "    trans_vf = (pred_trans_1 - trans_t_1) / (1 - t_1)\n",
    "    trans_t_2 = trans_t_1 + trans_vf * d_t\n",
    "    rots_t_2 = so3_utils.geodesic_t(d_t / (1 - t_1), pred_rots_1, rots_t_1)\n",
    "    t_1 = t_2\n",
    "    trans_traj.append(trans_t_2)\n",
    "    rots_traj.append(rots_t_2)\n"
   ]
  },
  {
   "cell_type": "code",
   "execution_count": null,
   "metadata": {},
   "outputs": [],
   "source": [
    "model_out_ca = model_outputs[-1]['pred_trans'][0]\n",
    "sample_bb_3d = plotting.create_scatter(model_out_ca, mode='lines+markers', marker_size=3, opacity=1.0)\n",
    "plotting.plot_traces([sample_bb_3d])"
   ]
  },
  {
   "cell_type": "code",
   "execution_count": null,
   "metadata": {},
   "outputs": [],
   "source": []
  },
  {
   "cell_type": "code",
   "execution_count": null,
   "metadata": {},
   "outputs": [],
   "source": []
  },
  {
   "cell_type": "code",
   "execution_count": null,
   "metadata": {},
   "outputs": [],
   "source": []
  },
  {
   "cell_type": "code",
   "execution_count": null,
   "metadata": {},
   "outputs": [],
   "source": []
  },
  {
   "cell_type": "code",
   "execution_count": null,
   "metadata": {},
   "outputs": [],
   "source": []
  },
  {
   "cell_type": "code",
   "execution_count": null,
   "metadata": {},
   "outputs": [],
   "source": [
    "gt_trans_1 = du.to_numpy(batch['trans_1'])"
   ]
  },
  {
   "cell_type": "code",
   "execution_count": null,
   "metadata": {},
   "outputs": [],
   "source": [
    "noisy_batch = flow._corrupt_batch(batch)"
   ]
  },
  {
   "cell_type": "code",
   "execution_count": null,
   "metadata": {},
   "outputs": [],
   "source": []
  },
  {
   "cell_type": "code",
   "execution_count": null,
   "metadata": {},
   "outputs": [],
   "source": [
    "gt_trans_1 = du.to_numpy(noisy_batch['trans_1'])\n",
    "gt_trans_t = du.to_numpy(noisy_batch['trans_t'])\n",
    "noisy_batch['t'][1]"
   ]
  },
  {
   "cell_type": "code",
   "execution_count": null,
   "metadata": {},
   "outputs": [],
   "source": []
  },
  {
   "cell_type": "code",
   "execution_count": null,
   "metadata": {},
   "outputs": [],
   "source": [
    "du.to_numpy(noisy_batch['t'])[:, 0]"
   ]
  },
  {
   "cell_type": "code",
   "execution_count": null,
   "metadata": {},
   "outputs": [],
   "source": [
    "idx = 5\n",
    "t = noisy_batch['t'][idx]\n",
    "print(t)\n",
    "gt_trans_1_3d = plotting.create_scatter(gt_trans_1[idx], mode='lines+markers', marker_size=3, opacity=1.0)\n",
    "gt_trans_t_3d = plotting.create_scatter(gt_trans_t[idx], mode='lines+markers', marker_size=3, opacity=1.0)\n",
    "plotting.plot_traces([\n",
    "    gt_trans_1_3d,\n",
    "    gt_trans_t_3d\n",
    "])"
   ]
  },
  {
   "cell_type": "code",
   "execution_count": null,
   "metadata": {},
   "outputs": [],
   "source": []
  },
  {
   "cell_type": "code",
   "execution_count": null,
   "metadata": {},
   "outputs": [],
   "source": []
  },
  {
   "cell_type": "code",
   "execution_count": null,
   "metadata": {},
   "outputs": [],
   "source": []
  },
  {
   "cell_type": "code",
   "execution_count": null,
   "metadata": {},
   "outputs": [],
   "source": []
  },
  {
   "cell_type": "code",
   "execution_count": null,
   "metadata": {},
   "outputs": [],
   "source": []
  },
  {
   "cell_type": "code",
   "execution_count": null,
   "metadata": {},
   "outputs": [],
   "source": []
  },
  {
   "cell_type": "code",
   "execution_count": null,
   "metadata": {},
   "outputs": [],
   "source": []
  },
  {
   "cell_type": "code",
   "execution_count": null,
   "metadata": {},
   "outputs": [],
   "source": []
  },
  {
   "cell_type": "code",
   "execution_count": null,
   "metadata": {},
   "outputs": [],
   "source": []
  },
  {
   "cell_type": "code",
   "execution_count": null,
   "metadata": {},
   "outputs": [],
   "source": [
    "model_out_ca = model_outputs[0]['pred_trans'][3]\n",
    "sample_bb_3d = plotting.create_scatter(model_out_ca, mode='lines+markers', marker_size=3, opacity=1.0)\n",
    "plotting.plot_traces([sample_bb_3d])"
   ]
  },
  {
   "cell_type": "code",
   "execution_count": null,
   "metadata": {},
   "outputs": [],
   "source": []
  },
  {
   "cell_type": "code",
   "execution_count": null,
   "metadata": {},
   "outputs": [],
   "source": []
  },
  {
   "cell_type": "code",
   "execution_count": null,
   "metadata": {},
   "outputs": [],
   "source": []
  },
  {
   "cell_type": "code",
   "execution_count": null,
   "metadata": {},
   "outputs": [],
   "source": []
  },
  {
   "cell_type": "code",
   "execution_count": null,
   "metadata": {},
   "outputs": [],
   "source": []
  },
  {
   "cell_type": "code",
   "execution_count": null,
   "metadata": {},
   "outputs": [],
   "source": []
  },
  {
   "cell_type": "code",
   "execution_count": null,
   "metadata": {},
   "outputs": [],
   "source": []
  },
  {
   "cell_type": "code",
   "execution_count": null,
   "metadata": {},
   "outputs": [],
   "source": []
  },
  {
   "cell_type": "code",
   "execution_count": null,
   "metadata": {},
   "outputs": [],
   "source": []
  },
  {
   "cell_type": "code",
   "execution_count": null,
   "metadata": {},
   "outputs": [],
   "source": [
    "ca_pos = du.to_numpy(trans_traj[0][0])\n",
    "sample_bb_3d = plotting.create_scatter(ca_pos, mode='lines+markers', marker_size=3, opacity=1.0)\n",
    "plotting.plot_traces([sample_bb_3d])"
   ]
  },
  {
   "cell_type": "code",
   "execution_count": null,
   "metadata": {},
   "outputs": [],
   "source": []
  },
  {
   "cell_type": "code",
   "execution_count": null,
   "metadata": {},
   "outputs": [],
   "source": []
  },
  {
   "cell_type": "code",
   "execution_count": null,
   "metadata": {},
   "outputs": [],
   "source": []
  },
  {
   "cell_type": "code",
   "execution_count": null,
   "metadata": {},
   "outputs": [],
   "source": [
    "# Process outputs\n",
    "res_mask = batch['res_mask']\n",
    "atom37_traj = []\n",
    "res_mask = res_mask.detach().cpu()\n",
    "for trans, rots in zip(trans_traj, rots_traj):\n",
    "    rigids = du.create_rigid(rots, trans)\n",
    "    atom37 = all_atom.compute_backbone(\n",
    "        rigids,\n",
    "        torch.zeros(\n",
    "            trans.shape[0],\n",
    "            trans.shape[1],\n",
    "            2,\n",
    "            device=trans.device\n",
    "        )\n",
    "    )[0]\n",
    "    atom37 = atom37.detach().cpu()\n",
    "    batch_atom37 = []\n",
    "    for i in range(num_batch):\n",
    "        batch_atom37.append(\n",
    "            du.adjust_oxygen_pos(atom37[i], res_mask[i])\n",
    "        )\n",
    "    atom37_traj.append(torch.stack(batch_atom37))\n"
   ]
  },
  {
   "cell_type": "code",
   "execution_count": null,
   "metadata": {},
   "outputs": [],
   "source": []
  },
  {
   "cell_type": "code",
   "execution_count": null,
   "metadata": {},
   "outputs": [],
   "source": []
  },
  {
   "cell_type": "code",
   "execution_count": null,
   "metadata": {},
   "outputs": [],
   "source": []
  },
  {
   "cell_type": "code",
   "execution_count": null,
   "metadata": {},
   "outputs": [],
   "source": []
  },
  {
   "cell_type": "code",
   "execution_count": null,
   "metadata": {},
   "outputs": [],
   "source": []
  },
  {
   "cell_type": "code",
   "execution_count": null,
   "metadata": {},
   "outputs": [],
   "source": [
    "saved_path = au.write_prot_to_pdb(\n",
    "    final_pos,\n",
    "    os.path.join(\n",
    "        self._sample_write_dir,\n",
    "        f'sample_{i}_len_{num_res}_epoch_{self.current_epoch}.pdb'),\n",
    "    no_indexing=False\n",
    ")"
   ]
  },
  {
   "cell_type": "code",
   "execution_count": null,
   "metadata": {},
   "outputs": [],
   "source": []
  },
  {
   "cell_type": "code",
   "execution_count": null,
   "metadata": {},
   "outputs": [],
   "source": []
  },
  {
   "cell_type": "code",
   "execution_count": null,
   "metadata": {},
   "outputs": [],
   "source": []
  },
  {
   "cell_type": "code",
   "execution_count": null,
   "metadata": {},
   "outputs": [],
   "source": []
  },
  {
   "cell_type": "code",
   "execution_count": null,
   "metadata": {},
   "outputs": [],
   "source": [
    "    batch, pdb_names = batch\n",
    "    if self.current_epoch == 0:\n",
    "        self._print_logger.info(f'Running eval on batches from {pdb_names}')\n",
    "    res_mask = batch['res_mask']\n",
    "    device = res_mask.device\n",
    "    num_batch, num_res = res_mask.shape[:2]\n",
    "    trans_0 = self._centered_gaussian(batch['trans_1'].shape, device) * du.NM_TO_ANG_SCALE\n",
    "    rots_0 = torch.tensor(\n",
    "        Rotation.random(num_batch*num_res).as_matrix(),\n",
    "        device=device,\n",
    "        dtype=torch.float32,\n",
    "    )\n",
    "    if rots_0.ndim == 3:\n",
    "        rots_0 = rots_0[None]\n",
    "    \n",
    "    trans_traj = [trans_0]\n",
    "    rots_traj = [rots_0]\n",
    "    ts = np.linspace(self._sampling_cfg.min_t, 1.0, self._sampling_cfg.num_timesteps)\n",
    "    t_1 = ts[0]\n",
    "    model_outputs = []\n",
    "    for t_2 in ts[1:]:\n",
    "        d_t = t_2 - t_1\n",
    "        trans_t_1 = trans_traj[-1]\n",
    "        rots_t_1 = rots_traj[-1]\n",
    "        with torch.no_grad():\n",
    "            if self._exp_cfg.noise_trans:\n",
    "                batch['trans_t'] = trans_t_1\n",
    "            else:\n",
    "                batch['trans_t'] = batch['trans_1']\n",
    "            if self._exp_cfg.noise_rots:\n",
    "                batch['rotmats_t'] = rots_t_1\n",
    "            else:\n",
    "                batch['rotmats_t'] = batch['rotmats_1']\n",
    "            batch['t'] = torch.ones((num_batch, 1)).to(device) * t_1\n",
    "            model_out = self.forward(batch)\n",
    "            model_outputs.append(\n",
    "                tree.map_structure(lambda x: du.to_numpy(x), model_out)\n",
    "            )\n",
    "\n",
    "        pred_trans_1 = model_out['pred_trans']\n",
    "        pred_rots_1 = model_out['pred_rotmats']\n",
    "\n",
    "        trans_vf = (pred_trans_1 - trans_t_1) / (1 - t_1)\n",
    "        trans_t_2 = trans_t_1 + trans_vf * d_t\n",
    "        rots_t_2 = so3_utils.geodesic_t(d_t / (1 - t_1), pred_rots_1, rots_t_1)\n",
    "        t_1 = t_2\n",
    "        if return_traj:\n",
    "            trans_traj.append(trans_t_2)\n",
    "            rots_traj.append(rots_t_2)\n",
    "        else:\n",
    "            trans_traj[-1] = trans_t_2\n",
    "            rots_traj[-1] = rots_t_2\n",
    "\n",
    "    atom37_traj = []\n",
    "    res_mask = res_mask.detach().cpu()\n",
    "    for trans, rots in zip(trans_traj, rots_traj):\n",
    "        rigids = du.create_rigid(rots, trans)\n",
    "        atom37 = all_atom.compute_backbone(\n",
    "            rigids,\n",
    "            torch.zeros(\n",
    "                trans.shape[0],\n",
    "                trans.shape[1],\n",
    "                2,\n",
    "                device=trans.device\n",
    "            )\n",
    "        )[0]\n",
    "        atom37 = atom37.detach().cpu()\n",
    "        batch_atom37 = []\n",
    "        for i in range(num_batch):\n",
    "            batch_atom37.append(\n",
    "                du.adjust_oxygen_pos(atom37[i], res_mask[i])\n",
    "            )\n",
    "        atom37_traj.append(torch.stack(batch_atom37))\n",
    "\n",
    "    if return_model_outputs:\n",
    "        return atom37_traj, model_outputs\n",
    "    return atom37_traj"
   ]
  },
  {
   "cell_type": "code",
   "execution_count": null,
   "metadata": {},
   "outputs": [],
   "source": []
  },
  {
   "cell_type": "code",
   "execution_count": null,
   "metadata": {},
   "outputs": [],
   "source": [
    "\n",
    "@torch.no_grad()\n",
    "def run_sampling(self, batch: Any, return_traj=False, return_model_outputs=False):\n"
   ]
  },
  {
   "cell_type": "code",
   "execution_count": null,
   "metadata": {},
   "outputs": [],
   "source": []
  },
  {
   "cell_type": "code",
   "execution_count": null,
   "metadata": {},
   "outputs": [],
   "source": []
  },
  {
   "cell_type": "code",
   "execution_count": null,
   "metadata": {},
   "outputs": [],
   "source": []
  },
  {
   "cell_type": "code",
   "execution_count": null,
   "metadata": {},
   "outputs": [],
   "source": []
  },
  {
   "cell_type": "code",
   "execution_count": null,
   "metadata": {},
   "outputs": [],
   "source": [
    "cfg"
   ]
  },
  {
   "cell_type": "code",
   "execution_count": null,
   "metadata": {},
   "outputs": [],
   "source": []
  },
  {
   "cell_type": "code",
   "execution_count": null,
   "metadata": {},
   "outputs": [],
   "source": [
    "with initialize(version_base=None, config_path=\"configs/base.yaml\"):\n",
    "    cfg = compose()\n",
    "    print(cfg)"
   ]
  },
  {
   "cell_type": "code",
   "execution_count": null,
   "metadata": {},
   "outputs": [],
   "source": []
  }
 ],
 "metadata": {
  "kernelspec": {
   "display_name": "fm",
   "language": "python",
   "name": "python3"
  },
  "language_info": {
   "codemirror_mode": {
    "name": "ipython",
    "version": 3
   },
   "file_extension": ".py",
   "mimetype": "text/x-python",
   "name": "python",
   "nbconvert_exporter": "python",
   "pygments_lexer": "ipython3",
   "version": "3.10.12"
  },
  "orig_nbformat": 4
 },
 "nbformat": 4,
 "nbformat_minor": 2
}
