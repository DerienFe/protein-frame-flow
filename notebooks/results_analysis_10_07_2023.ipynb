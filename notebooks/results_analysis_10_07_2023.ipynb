{
 "cells": [
  {
   "cell_type": "code",
   "execution_count": 1,
   "metadata": {},
   "outputs": [],
   "source": [
    "%load_ext autoreload\n",
    "%autoreload 2"
   ]
  },
  {
   "cell_type": "code",
   "execution_count": 49,
   "metadata": {},
   "outputs": [],
   "source": [
    "import os\n",
    "from omegaconf import OmegaConf\n",
    "from models.flow_module import FlowModule\n",
    "import torch\n",
    "from data.pdb_dataloader import PdbDataModule\n",
    "import glob\n",
    "import GPUtil\n",
    "from data import utils as du\n",
    "import numpy as np\n",
    "import tree\n",
    "from data import so3_utils\n",
    "from data import all_atom\n",
    "from analysis import utils as au\n",
    "from openfold.utils.superimposition import superimpose\n",
    "import matplotlib.pyplot as plt\n",
    "from tmtools import tm_align\n",
    "import pandas as pd\n",
    "import shutil\n",
    "from openfold.utils.superimposition import superimpose\n"
   ]
  },
  {
   "cell_type": "code",
   "execution_count": 8,
   "metadata": {},
   "outputs": [],
   "source": [
    "def calc_novelty(novelty_path):\n",
    "    foldseek_df = {\n",
    "        'sample': [],\n",
    "        'alntm': [],\n",
    "    }\n",
    "    with open(novelty_path) as file:\n",
    "        for item in file:\n",
    "            file, _, _, tm_score = item.split('\\t')\n",
    "            tm_score = float(tm_score)\n",
    "            foldseek_df['sample'].append(file)\n",
    "            foldseek_df['alntm'].append(tm_score)\n",
    "    foldseek_df = pd.DataFrame(foldseek_df)\n",
    "    novelty_summary = foldseek_df.groupby('sample').agg({'alntm': 'max'}).reset_index()\n",
    "    return novelty_summary\n"
   ]
  },
  {
   "cell_type": "code",
   "execution_count": 9,
   "metadata": {},
   "outputs": [],
   "source": [
    "# FrameDiff results analysis\n",
    "def read_samples(results_dir):\n",
    "    all_csvs = []\n",
    "    print(f'Reading samples from {results_dir}')\n",
    "    for sample_length in os.listdir(results_dir):\n",
    "        if '.' in sample_length:\n",
    "            continue\n",
    "        length_dir = os.path.join(results_dir, sample_length)\n",
    "        length = int(sample_length.split('_')[1])\n",
    "        for i,sample_name in enumerate(os.listdir(length_dir)):\n",
    "            if '.' in sample_name:\n",
    "                continue\n",
    "            csv_path = os.path.join(length_dir, sample_name, 'self_consistency', 'sc_results.csv')\n",
    "            if os.path.exists(csv_path):\n",
    "                design_csv = pd.read_csv(csv_path, index_col=0)\n",
    "                design_csv['length'] = length\n",
    "                design_csv['sample_id'] = i\n",
    "                all_csvs.append(design_csv)\n",
    "    results_df = pd.concat(all_csvs)\n",
    "    return results_df\n",
    "\n",
    "\n",
    "def sc_filter(raw_df, metric):\n",
    "    # Pick best self-consistency sample\n",
    "    if metric == 'tm_score':\n",
    "        df = raw_df.sort_values('tm_score', ascending=False)\n",
    "        df['designable'] = df.tm_score.map(lambda x: x > 0.5)\n",
    "    elif metric == 'rmsd':\n",
    "        df = raw_df.sort_values('rmsd', ascending=True)\n",
    "        df['designable'] = df.rmsd.map(lambda x: x < 2.0)\n",
    "    else:\n",
    "        raise ValueError(f'Unknown metric {metric}')\n",
    "    df = df.groupby(['length', 'sample_id']).first().reset_index()\n",
    "    percent_designable = df['designable'].mean()\n",
    "    print(f'Percent designable: {percent_designable}')\n",
    "    return df"
   ]
  },
  {
   "cell_type": "code",
   "execution_count": 10,
   "metadata": {},
   "outputs": [],
   "source": [
    "# FrameFlow results analysis\n",
    "def read_frameflow_samples(dir_path):\n",
    "    all_csvs = glob.glob(os.path.join(results_dir, '*/top_samples.csv'))\n",
    "    all_results_csv = []\n",
    "    for csv in all_csvs:\n",
    "        csv_df = pd.read_csv(csv)\n",
    "        all_results_csv.append(csv_df)\n",
    "    results_df = pd.concat(all_results_csv)\n",
    "    designable_df = results_df[results_df.rmsd < 2.0]\n",
    "    designable_percent = (results_df.rmsd < 2.0).mean()\n",
    "    print(f'Designable percent: {designable_percent:.2f}. Designable number: {designable_df.shape[0]}')\n",
    "    return results_df, designable_df\n",
    "\n",
    "def write_designable_samples(designable_df, write_dir):\n",
    "    os.makedirs(write_dir, exist_ok=True)\n",
    "    pdb_list_path = os.path.join(write_dir, 'filename.txt')\n",
    "    with open(pdb_list_path, 'w') as f:\n",
    "        for (_, row) in designable_df.iterrows():\n",
    "            pdb_path = row.esmf_pdb_path.replace('./', '../')\n",
    "            length = row.length\n",
    "            sample_id = row.sample_id\n",
    "            write_path = os.path.join(write_dir, f'len_{length}_id_{sample_id}.pdb')\n",
    "            f.write(write_path + '\\n')\n",
    "            shutil.copy(pdb_path, write_path)\n",
    "    print('Done')"
   ]
  },
  {
   "cell_type": "markdown",
   "metadata": {},
   "source": [
    "# FrameFlow analysis"
   ]
  },
  {
   "cell_type": "code",
   "execution_count": 11,
   "metadata": {},
   "outputs": [],
   "source": [
    "results_base_dir = '/data/rsg/chemistry/jyim/projects/flow-matching/inference_outputs/baseline_2023-10-06_01-14-03_last'"
   ]
  },
  {
   "cell_type": "markdown",
   "metadata": {},
   "source": [
    "## 500 timesteps"
   ]
  },
  {
   "cell_type": "code",
   "execution_count": 19,
   "metadata": {},
   "outputs": [
    {
     "name": "stdout",
     "output_type": "stream",
     "text": [
      "Designable percent: 0.81. Designable number: 559\n",
      "Done\n",
      "/data/rsg/chemistry/jyim/third_party/maxcluster64bit -l \\ \n",
      "/data/rsg/chemistry/jyim/third_party/frameflow_samples/ts_500/filename.txt \\ \n",
      "/data/rsg/chemistry/jyim/third_party/frameflow_samples/ts_500/all_by_all_lite \\ \n",
      "/data/rsg/chemistry/jyim/third_party/frameflow_samples/ts_500/maxcluster_results.txt\n"
     ]
    }
   ],
   "source": [
    "# 500 timestep\n",
    "results_dir = os.path.join(results_base_dir, 'ts_500', 'frame_mpnn', 'reverse_time', 'ode')\n",
    "write_base_dir = '/data/rsg/chemistry/jyim/third_party/frameflow_samples/ts_500'\n",
    "results_df, designable_df = read_frameflow_samples(results_dir)\n",
    "write_designable_samples(designable_df, write_base_dir)\n",
    "print(\n",
    "    '/data/rsg/chemistry/jyim/third_party/maxcluster64bit -l \\\\ \\n' +\n",
    "    f'{write_base_dir}/filename.txt \\\\ \\n' + \n",
    "    f'{write_base_dir}/all_by_all_lite \\\\ \\n' + \n",
    "    f'{write_base_dir}/maxcluster_results.txt'\n",
    ")"
   ]
  },
  {
   "cell_type": "markdown",
   "metadata": {},
   "source": [
    "./maxcluster64bit -l \\\n",
    "/data/rsg/chemistry/jyim/third_party/frameflow_samples/ts_500/filename.txt \\\n",
    "-C 2 -in -Rl /data/rsg/chemistry/jyim/third_party/frameflow_samples/ts_500/all_by_all_lite \\\n",
    "-TM -Tm 0.5 > /data/rsg/chemistry/jyim/third_party/frameflow_samples/ts_500/maxcluster_results.txt\n",
    "\n",
    "foldseek easy-search /data/rsg/chemistry/jyim/third_party/frameflow_samples/ts_500 \\\n",
    "/Mounts/rbg-storage1/users/jyim/programs/foldseek/pdb aln_noise_01_seqs_500_esmf.m8 tmpFolder \\\n",
    "--alignment-type 1 --format-output 'query,target,alntmscore,lddt' --tmscore-threshold 0.0 --exhaustive-search --max-seqs 10000000000"
   ]
  },
  {
   "cell_type": "code",
   "execution_count": 53,
   "metadata": {},
   "outputs": [
    {
     "data": {
      "text/plain": [
       "0.6936939068100358"
      ]
     },
     "execution_count": 53,
     "metadata": {},
     "output_type": "execute_result"
    }
   ],
   "source": [
    "foldseek_results_path = '/data/rsg/chemistry/jyim/third_party/frameflow_samples/ts_500/aln_noise_01_seqs_500_esmf.m8'\n",
    "novelty_df = calc_novelty(foldseek_results_path)\n",
    "novelty_df.alntm.mean()"
   ]
  },
  {
   "cell_type": "code",
   "execution_count": 21,
   "metadata": {},
   "outputs": [
    {
     "data": {
      "text/plain": [
       "0.22003577817531306"
      ]
     },
     "execution_count": 21,
     "metadata": {},
     "output_type": "execute_result"
    }
   ],
   "source": [
    "123 / 559"
   ]
  },
  {
   "cell_type": "code",
   "execution_count": null,
   "metadata": {},
   "outputs": [],
   "source": []
  },
  {
   "cell_type": "markdown",
   "metadata": {},
   "source": [
    "## 100 timesteps"
   ]
  },
  {
   "cell_type": "code",
   "execution_count": 13,
   "metadata": {},
   "outputs": [
    {
     "name": "stdout",
     "output_type": "stream",
     "text": [
      "Designable percent: 0.77. Designable number: 530\n",
      "Done\n"
     ]
    }
   ],
   "source": [
    "# 100 timestep\n",
    "results_dir = os.path.join(results_base_dir, 'ts_100', 'frame_mpnn', 'reverse_time', 'ode')\n",
    "write_base_dir = '/data/rsg/chemistry/jyim/third_party/frameflow_samples/ts_100'\n",
    "results_df, designable_df = read_frameflow_samples(results_dir)\n",
    "write_designable_samples(designable_df, write_base_dir)\n",
    "print(\n",
    "    '/data/rsg/chemistry/jyim/third_party/maxcluster64bit -l \\\\ \\n' +\n",
    "    f'{write_base_dir}/filename.txt \\\\ \\n' + \n",
    "    f'{write_base_dir}/all_by_all_lite \\\\ \\n' + \n",
    "    f'{write_base_dir}/maxcluster_results.txt'\n",
    ")"
   ]
  },
  {
   "cell_type": "markdown",
   "metadata": {},
   "source": [
    "./maxcluster64bit -l \\\n",
    "/data/rsg/chemistry/jyim/third_party/frameflow_samples/ts_100/filename.txt \\\n",
    "-C 2 -in -Rl /data/rsg/chemistry/jyim/third_party/frameflow_samples/ts_100/all_by_all_lite \\\n",
    "-TM -Tm 0.5 > /data/rsg/chemistry/jyim/third_party/frameflow_samples/ts_100/maxcluster_results.txt\n",
    "\n",
    "foldseek easy-search /data/rsg/chemistry/jyim/third_party/frameflow_samples/ts_100 \\\n",
    "/Mounts/rbg-storage1/users/jyim/programs/foldseek/pdb aln_noise_01_seqs_100_esmf.m8 tmpFolder \\\n",
    "--alignment-type 1 --format-output 'query,target,alntmscore,lddt' --tmscore-threshold 0.0 --exhaustive-search --max-seqs 10000000000"
   ]
  },
  {
   "cell_type": "code",
   "execution_count": null,
   "metadata": {},
   "outputs": [],
   "source": [
    "147 / 530"
   ]
  },
  {
   "cell_type": "code",
   "execution_count": 43,
   "metadata": {},
   "outputs": [
    {
     "ename": "FileNotFoundError",
     "evalue": "[Errno 2] No such file or directory: '/data/rsg/chemistry/jyim/third_party/frameflow_samples/ts_100/aln_noise_01_seqs_500_esmf.m8'",
     "output_type": "error",
     "traceback": [
      "\u001b[0;31m---------------------------------------------------------------------------\u001b[0m",
      "\u001b[0;31mFileNotFoundError\u001b[0m                         Traceback (most recent call last)",
      "Cell \u001b[0;32mIn[43], line 2\u001b[0m\n\u001b[1;32m      1\u001b[0m foldseek_results_path \u001b[38;5;241m=\u001b[39m \u001b[38;5;124m'\u001b[39m\u001b[38;5;124m/data/rsg/chemistry/jyim/third_party/frameflow_samples/ts_100/aln_noise_01_seqs_500_esmf.m8\u001b[39m\u001b[38;5;124m'\u001b[39m\n\u001b[0;32m----> 2\u001b[0m novelty_df \u001b[38;5;241m=\u001b[39m \u001b[43mcalc_novelty\u001b[49m\u001b[43m(\u001b[49m\u001b[43mfoldseek_results_path\u001b[49m\u001b[43m)\u001b[49m\n\u001b[1;32m      3\u001b[0m novelty_df\u001b[38;5;241m.\u001b[39malntm\u001b[38;5;241m.\u001b[39mmean()\n",
      "Cell \u001b[0;32mIn[8], line 6\u001b[0m, in \u001b[0;36mcalc_novelty\u001b[0;34m(novelty_path)\u001b[0m\n\u001b[1;32m      1\u001b[0m \u001b[38;5;28;01mdef\u001b[39;00m \u001b[38;5;21mcalc_novelty\u001b[39m(novelty_path):\n\u001b[1;32m      2\u001b[0m     foldseek_df \u001b[38;5;241m=\u001b[39m {\n\u001b[1;32m      3\u001b[0m         \u001b[38;5;124m'\u001b[39m\u001b[38;5;124msample\u001b[39m\u001b[38;5;124m'\u001b[39m: [],\n\u001b[1;32m      4\u001b[0m         \u001b[38;5;124m'\u001b[39m\u001b[38;5;124malntm\u001b[39m\u001b[38;5;124m'\u001b[39m: [],\n\u001b[1;32m      5\u001b[0m     }\n\u001b[0;32m----> 6\u001b[0m     \u001b[38;5;28;01mwith\u001b[39;00m \u001b[38;5;28;43mopen\u001b[39;49m\u001b[43m(\u001b[49m\u001b[43mnovelty_path\u001b[49m\u001b[43m)\u001b[49m \u001b[38;5;28;01mas\u001b[39;00m file:\n\u001b[1;32m      7\u001b[0m         \u001b[38;5;28;01mfor\u001b[39;00m item \u001b[38;5;129;01min\u001b[39;00m file:\n\u001b[1;32m      8\u001b[0m             file, _, _, tm_score \u001b[38;5;241m=\u001b[39m item\u001b[38;5;241m.\u001b[39msplit(\u001b[38;5;124m'\u001b[39m\u001b[38;5;130;01m\\t\u001b[39;00m\u001b[38;5;124m'\u001b[39m)\n",
      "File \u001b[0;32m/data/rsg/chemistry/jyim/mambaforge/envs/fm/lib/python3.10/site-packages/IPython/core/interactiveshell.py:284\u001b[0m, in \u001b[0;36m_modified_open\u001b[0;34m(file, *args, **kwargs)\u001b[0m\n\u001b[1;32m    277\u001b[0m \u001b[38;5;28;01mif\u001b[39;00m file \u001b[38;5;129;01min\u001b[39;00m {\u001b[38;5;241m0\u001b[39m, \u001b[38;5;241m1\u001b[39m, \u001b[38;5;241m2\u001b[39m}:\n\u001b[1;32m    278\u001b[0m     \u001b[38;5;28;01mraise\u001b[39;00m \u001b[38;5;167;01mValueError\u001b[39;00m(\n\u001b[1;32m    279\u001b[0m         \u001b[38;5;124mf\u001b[39m\u001b[38;5;124m\"\u001b[39m\u001b[38;5;124mIPython won\u001b[39m\u001b[38;5;124m'\u001b[39m\u001b[38;5;124mt let you open fd=\u001b[39m\u001b[38;5;132;01m{\u001b[39;00mfile\u001b[38;5;132;01m}\u001b[39;00m\u001b[38;5;124m by default \u001b[39m\u001b[38;5;124m\"\u001b[39m\n\u001b[1;32m    280\u001b[0m         \u001b[38;5;124m\"\u001b[39m\u001b[38;5;124mas it is likely to crash IPython. If you know what you are doing, \u001b[39m\u001b[38;5;124m\"\u001b[39m\n\u001b[1;32m    281\u001b[0m         \u001b[38;5;124m\"\u001b[39m\u001b[38;5;124myou can use builtins\u001b[39m\u001b[38;5;124m'\u001b[39m\u001b[38;5;124m open.\u001b[39m\u001b[38;5;124m\"\u001b[39m\n\u001b[1;32m    282\u001b[0m     )\n\u001b[0;32m--> 284\u001b[0m \u001b[38;5;28;01mreturn\u001b[39;00m \u001b[43mio_open\u001b[49m\u001b[43m(\u001b[49m\u001b[43mfile\u001b[49m\u001b[43m,\u001b[49m\u001b[43m \u001b[49m\u001b[38;5;241;43m*\u001b[39;49m\u001b[43margs\u001b[49m\u001b[43m,\u001b[49m\u001b[43m \u001b[49m\u001b[38;5;241;43m*\u001b[39;49m\u001b[38;5;241;43m*\u001b[39;49m\u001b[43mkwargs\u001b[49m\u001b[43m)\u001b[49m\n",
      "\u001b[0;31mFileNotFoundError\u001b[0m: [Errno 2] No such file or directory: '/data/rsg/chemistry/jyim/third_party/frameflow_samples/ts_100/aln_noise_01_seqs_500_esmf.m8'"
     ]
    }
   ],
   "source": [
    "foldseek_results_path = '/data/rsg/chemistry/jyim/third_party/frameflow_samples/ts_100/aln_noise_01_seqs_500_esmf.m8'\n",
    "novelty_df = calc_novelty(foldseek_results_path)\n",
    "novelty_df.alntm.mean()"
   ]
  },
  {
   "cell_type": "code",
   "execution_count": null,
   "metadata": {},
   "outputs": [],
   "source": []
  },
  {
   "cell_type": "markdown",
   "metadata": {},
   "source": [
    "## 10 timesteps"
   ]
  },
  {
   "cell_type": "code",
   "execution_count": 20,
   "metadata": {},
   "outputs": [
    {
     "name": "stdout",
     "output_type": "stream",
     "text": [
      "Designable percent: 0.33. Designable number: 228\n",
      "Done\n",
      "/data/rsg/chemistry/jyim/third_party/maxcluster64bit -l \\ \n",
      "/data/rsg/chemistry/jyim/third_party/frameflow_samples/ts_10/filename.txt \\ \n",
      "/data/rsg/chemistry/jyim/third_party/frameflow_samples/ts_10/all_by_all_lite \\ \n",
      "/data/rsg/chemistry/jyim/third_party/frameflow_samples/ts_10/maxcluster_results.txt\n"
     ]
    }
   ],
   "source": [
    "# 10 timestep\n",
    "results_dir = os.path.join(results_base_dir, 'ts_10', 'frame_mpnn', 'reverse_time', 'ode')\n",
    "write_base_dir = '/data/rsg/chemistry/jyim/third_party/frameflow_samples/ts_10'\n",
    "results_df, designable_df = read_frameflow_samples(results_dir)\n",
    "write_designable_samples(designable_df, write_base_dir)\n",
    "print(\n",
    "    '/data/rsg/chemistry/jyim/third_party/maxcluster64bit -l \\\\ \\n' +\n",
    "    f'{write_base_dir}/filename.txt \\\\ \\n' + \n",
    "    f'{write_base_dir}/all_by_all_lite \\\\ \\n' + \n",
    "    f'{write_base_dir}/maxcluster_results.txt'\n",
    ")"
   ]
  },
  {
   "cell_type": "markdown",
   "metadata": {},
   "source": [
    "./maxcluster64bit -l \\\n",
    "/data/rsg/chemistry/jyim/third_party/frameflow_samples/ts_10/filename.txt \\\n",
    "-C 2 -in -Rl /data/rsg/chemistry/jyim/third_party/frameflow_samples/ts_10/all_by_all_lite \\\n",
    "-TM -Tm 0.5 > /data/rsg/chemistry/jyim/third_party/frameflow_samples/ts_10/maxcluster_results.txt\n",
    "\n",
    "foldseek easy-search /data/rsg/chemistry/jyim/third_party/frameflow_samples/ts_10 \\\n",
    "/Mounts/rbg-storage1/users/jyim/programs/foldseek/pdb aln_noise_01_seqs_500_esmf.m8 tmpFolder \\\n",
    "--alignment-type 1 --format-output 'query,target,alntmscore,lddt' --tmscore-threshold 0.0 --exhaustive-search --max-seqs 10000000000"
   ]
  },
  {
   "cell_type": "code",
   "execution_count": 28,
   "metadata": {},
   "outputs": [
    {
     "data": {
      "text/plain": [
       "0.543859649122807"
      ]
     },
     "execution_count": 28,
     "metadata": {},
     "output_type": "execute_result"
    }
   ],
   "source": [
    "124 / 228"
   ]
  },
  {
   "cell_type": "code",
   "execution_count": 41,
   "metadata": {},
   "outputs": [
    {
     "data": {
      "text/plain": [
       "0.6302884444444445"
      ]
     },
     "execution_count": 41,
     "metadata": {},
     "output_type": "execute_result"
    }
   ],
   "source": [
    "foldseek_results_path = '/data/rsg/chemistry/jyim/third_party/frameflow_samples/ts_10/aln_noise_01_seqs_500_esmf.m8'\n",
    "novelty_df = calc_novelty(foldseek_results_path)\n",
    "novelty_df.alntm.mean()"
   ]
  },
  {
   "cell_type": "code",
   "execution_count": null,
   "metadata": {},
   "outputs": [],
   "source": []
  },
  {
   "cell_type": "code",
   "execution_count": null,
   "metadata": {},
   "outputs": [],
   "source": []
  },
  {
   "cell_type": "markdown",
   "metadata": {},
   "source": [
    "# FrameDiff analysis"
   ]
  },
  {
   "cell_type": "code",
   "execution_count": 23,
   "metadata": {},
   "outputs": [],
   "source": [
    "base_dir = '/data/rsg/chemistry/jyim/projects/flow-matching/se3_diffusion/inference_outputs'"
   ]
  },
  {
   "cell_type": "markdown",
   "metadata": {
    "jp-MarkdownHeadingCollapsed": true
   },
   "source": [
    "## 500 timesteps"
   ]
  },
  {
   "cell_type": "code",
   "execution_count": 89,
   "metadata": {},
   "outputs": [
    {
     "name": "stdout",
     "output_type": "stream",
     "text": [
      "Reading samples from /Mounts/rbg-storage1/users/jyim/se3_diffusion_scope_results/scope_noise_scale_10\n",
      "Percent designable: 0.4221014492753623\n"
     ]
    }
   ],
   "source": [
    "# 500 timesteps\n",
    "results_dir = os.path.join(base_dir, 'scope_noise_scale_500')\n",
    "samples_df = read_samples(results_dir)\n",
    "samples_df = samples_df[samples_df.sample_id < 8] # Ensure we only consider 8 sequences per backbone.\n",
    "\n",
    "scrmsd_results = sc_filter(samples_df, 'rmsd')\n",
    "designable_scrmsd = scrmsd_results[scrmsd_results.designable]\n",
    "\n",
    "# Write samples to a directory for diversity calculation.\n",
    "write_dir = '/data/rsg/chemistry/jyim/third_party/framediff_samples/ts_500'\n",
    "os.makedirs(write_dir, exist_ok=True)\n",
    "pdb_list_path = os.path.join(write_dir, 'filename.txt')\n",
    "with open(pdb_list_path, 'w') as f:\n",
    "    for (_, row) in designable_scrmsd.iterrows():\n",
    "        pdb_path = row.sample_path.replace('./inference_outputs/scope_noise_scale_10', '/Mounts/rbg-storage1/users/jyim/se3_diffusion_scope_results/scope_noise_scale_10')\n",
    "        length = row.length\n",
    "        sample_id = row.sample_id\n",
    "        write_path = os.path.join(write_dir, f'len_{length}_id_{sample_id}.pdb')\n",
    "        f.write(write_path + '\\n')\n",
    "        shutil.copy(pdb_path, write_path)\n"
   ]
  },
  {
   "cell_type": "markdown",
   "metadata": {},
   "source": [
    "./maxcluster64bit -l \\\n",
    "/data/rsg/chemistry/jyim/third_party/framediff_samples/ts_500/filename.txt \\\n",
    "-C 2 -in -Rl /data/rsg/chemistry/jyim/third_party/framediff_samples/ts_500//all_by_all_lite \\\n",
    "-TM -Tm 0.5 > /data/rsg/chemistry/jyim/third_party/framediff_samples/ts_500//maxcluster_results.txt"
   ]
  },
  {
   "cell_type": "code",
   "execution_count": 93,
   "metadata": {},
   "outputs": [
    {
     "data": {
      "text/plain": [
       "0.15217391304347827"
      ]
     },
     "execution_count": 93,
     "metadata": {},
     "output_type": "execute_result"
    }
   ],
   "source": [
    "84 / scrmsd_results.shape[0]"
   ]
  },
  {
   "cell_type": "markdown",
   "metadata": {},
   "source": [
    "foldseek easy-search /data/rsg/chemistry/jyim/third_party/framediff_samples/ts_500 \\\n",
    "/Mounts/rbg-storage1/users/jyim/programs/foldseek/pdb aln_noise_01_seqs_100_esmf.m8 tmpFolder \\\n",
    "--alignment-type 1 --format-output 'query,target,alntmscore,lddt' --tmscore-threshold 0.0 --exhaustive-search --max-seqs 10000000000"
   ]
  },
  {
   "cell_type": "code",
   "execution_count": 7,
   "metadata": {},
   "outputs": [
    {
     "data": {
      "text/plain": [
       "0.6625827893175075"
      ]
     },
     "execution_count": 7,
     "metadata": {},
     "output_type": "execute_result"
    }
   ],
   "source": [
    "foldseek_results_path = '/data/rsg/chemistry/jyim/third_party/framediff_samples/ts_500/aln_noise_01_seqs_100_esmf.m8'\n",
    "novelty_df = calc_novelty(foldseek_results_path)\n",
    "novelty_df.alntm.mean()"
   ]
  },
  {
   "cell_type": "code",
   "execution_count": null,
   "metadata": {},
   "outputs": [],
   "source": []
  },
  {
   "cell_type": "code",
   "execution_count": null,
   "metadata": {},
   "outputs": [],
   "source": []
  },
  {
   "cell_type": "markdown",
   "metadata": {},
   "source": [
    "## 100 timesteps"
   ]
  },
  {
   "cell_type": "code",
   "execution_count": 36,
   "metadata": {},
   "outputs": [
    {
     "name": "stdout",
     "output_type": "stream",
     "text": [
      "Reading samples from /data/rsg/chemistry/jyim/projects/flow-matching/se3_diffusion/inference_outputs/scope_ts_100_ode\n",
      "Percent designable: 0.33575317604355714\n",
      "Num designable: 185\n"
     ]
    }
   ],
   "source": [
    "# 100 timesteps\n",
    "results_dir = os.path.join(base_dir, 'scope_ts_100_ode')\n",
    "samples_df = read_samples(results_dir)\n",
    "samples_df = samples_df[samples_df.sample_id < 8] # Ensure we only consider 8 sequences per backbone.\n",
    "\n",
    "scrmsd_results = sc_filter(samples_df, 'rmsd')\n",
    "designable_scrmsd = scrmsd_results[scrmsd_results.designable]\n",
    "print(f'Num designable: {designable_scrmsd.shape[0]}')\n",
    "\n",
    "# Write samples to a directory for diversity calculation.\n",
    "write_dir = '/data/rsg/chemistry/jyim/third_party/framediff_samples/ts_100'\n",
    "os.makedirs(write_dir, exist_ok=True)\n",
    "pdb_list_path = os.path.join(write_dir, 'filename.txt')\n",
    "with open(pdb_list_path, 'w') as f:\n",
    "    for (_, row) in designable_scrmsd.iterrows():\n",
    "        pdb_path = row.sample_path.replace('./inference_outputs', base_dir)\n",
    "        length = row.length\n",
    "        sample_id = row.sample_id\n",
    "        write_path = os.path.join(write_dir, f'len_{length}_id_{sample_id}.pdb')\n",
    "        f.write(write_path + '\\n')\n",
    "        shutil.copy(pdb_path, write_path)\n"
   ]
  },
  {
   "cell_type": "code",
   "execution_count": 27,
   "metadata": {},
   "outputs": [],
   "source": [
    "# Write samples to a directory for diversity calculation.\n",
    "write_dir = '/data/rsg/chemistry/jyim/third_party/framediff_samples/ts_100'\n",
    "os.makedirs(write_dir, exist_ok=True)\n",
    "pdb_list_path = os.path.join(write_dir, 'filename.txt')\n",
    "with open(pdb_list_path, 'w') as f:\n",
    "    for (_, row) in designable_scrmsd.iterrows():\n",
    "        pdb_path = row.sample_path.replace('./inference_outputs', base_dir)\n",
    "        length = row.length\n",
    "        sample_id = row.sample_id\n",
    "        write_path = os.path.join(write_dir, f'len_{length}_id_{sample_id}.pdb')\n",
    "        f.write(write_path + '\\n')\n",
    "        shutil.copy(pdb_path, write_path)\n"
   ]
  },
  {
   "cell_type": "markdown",
   "metadata": {},
   "source": [
    "./maxcluster64bit -l \\\n",
    "/data/rsg/chemistry/jyim/third_party/framediff_samples/ts_100/filename.txt \\\n",
    "-C 2 -in -Rl /data/rsg/chemistry/jyim/third_party/framediff_samples/ts_100/all_by_all_lite \\\n",
    "-TM -Tm 0.5 > /data/rsg/chemistry/jyim/third_party/framediff_samples/ts_100/maxcluster_results.txt\n",
    "\n",
    "foldseek easy-search /data/rsg/chemistry/jyim/third_party/framediff_samples/ts_100 \\\n",
    "/Mounts/rbg-storage1/users/jyim/programs/foldseek/pdb aln_noise_01_seqs_500_esmf.m8 tmpFolder \\\n",
    "--alignment-type 1 --format-output 'query,target,alntmscore,lddt' --tmscore-threshold 0.0 --exhaustive-search --max-seqs 10000000000"
   ]
  },
  {
   "cell_type": "code",
   "execution_count": 37,
   "metadata": {},
   "outputs": [
    {
     "data": {
      "text/plain": [
       "0.43783783783783786"
      ]
     },
     "execution_count": 37,
     "metadata": {},
     "output_type": "execute_result"
    }
   ],
   "source": [
    "81 / 185"
   ]
  },
  {
   "cell_type": "code",
   "execution_count": 44,
   "metadata": {},
   "outputs": [
    {
     "data": {
      "text/plain": [
       "0.6330604519774011"
      ]
     },
     "execution_count": 44,
     "metadata": {},
     "output_type": "execute_result"
    }
   ],
   "source": [
    "foldseek_results_path = '/data/rsg/chemistry/jyim/third_party/framediff_samples/ts_100/aln_noise_01_seqs_500_esmf.m8'\n",
    "novelty_df = calc_novelty(foldseek_results_path)\n",
    "novelty_df.alntm.mean()"
   ]
  },
  {
   "cell_type": "code",
   "execution_count": null,
   "metadata": {},
   "outputs": [],
   "source": []
  },
  {
   "cell_type": "markdown",
   "metadata": {},
   "source": [
    "## 10 timesteps"
   ]
  },
  {
   "cell_type": "code",
   "execution_count": 38,
   "metadata": {},
   "outputs": [
    {
     "name": "stdout",
     "output_type": "stream",
     "text": [
      "Reading samples from /data/rsg/chemistry/jyim/projects/flow-matching/se3_diffusion/inference_outputs/scope_ts_10_ode\n",
      "Percent designable: 0.16485507246376813\n",
      "Num designable: 91\n"
     ]
    }
   ],
   "source": [
    "# 10 timesteps\n",
    "results_dir = os.path.join(base_dir, 'scope_ts_10_ode')\n",
    "samples_df = read_samples(results_dir)\n",
    "samples_df = samples_df[samples_df.sample_id < 8] # Ensure we only consider 8 sequences per backbone.\n",
    "\n",
    "scrmsd_results = sc_filter(samples_df, 'rmsd')\n",
    "designable_scrmsd = scrmsd_results[scrmsd_results.designable]\n",
    "print(f'Num designable: {designable_scrmsd.shape[0]}')\n",
    "\n",
    "# Write samples to a directory for diversity calculation.\n",
    "write_dir = '/data/rsg/chemistry/jyim/third_party/framediff_samples/ts_10'\n",
    "os.makedirs(write_dir, exist_ok=True)\n",
    "pdb_list_path = os.path.join(write_dir, 'filename.txt')\n",
    "with open(pdb_list_path, 'w') as f:\n",
    "    for (_, row) in designable_scrmsd.iterrows():\n",
    "        pdb_path = row.sample_path.replace('./inference_outputs', base_dir)\n",
    "        length = row.length\n",
    "        sample_id = row.sample_id\n",
    "        write_path = os.path.join(write_dir, f'len_{length}_id_{sample_id}.pdb')\n",
    "        f.write(write_path + '\\n')\n",
    "        shutil.copy(pdb_path, write_path)\n"
   ]
  },
  {
   "cell_type": "code",
   "execution_count": null,
   "metadata": {},
   "outputs": [],
   "source": [
    "./maxcluster64bit -l \\\n",
    "/data/rsg/chemistry/jyim/third_party/framediff_samples/ts_10/filename.txt \\\n",
    "-C 2 -in -Rl /data/rsg/chemistry/jyim/third_party/framediff_samples/ts_10/all_by_all_lite \\\n",
    "-TM -Tm 0.5 > /data/rsg/chemistry/jyim/third_party/framediff_samples/ts_10/maxcluster_results.txt\n",
    "\n",
    "foldseek easy-search /data/rsg/chemistry/jyim/third_party/framediff_samples/ts_10 \\\n",
    "/Mounts/rbg-storage1/users/jyim/programs/foldseek/pdb aln_noise_01_seqs_500_esmf.m8 tmpFolder \\\n",
    "--alignment-type 1 --format-output 'query,target,alntmscore,lddt' --tmscore-threshold 0.0 --exhaustive-search --max-seqs 10000000000"
   ]
  },
  {
   "cell_type": "code",
   "execution_count": 39,
   "metadata": {},
   "outputs": [
    {
     "data": {
      "text/plain": [
       "0.5274725274725275"
      ]
     },
     "execution_count": 39,
     "metadata": {},
     "output_type": "execute_result"
    }
   ],
   "source": [
    "48 / 91"
   ]
  },
  {
   "cell_type": "code",
   "execution_count": 42,
   "metadata": {},
   "outputs": [
    {
     "data": {
      "text/plain": [
       "0.620167032967033"
      ]
     },
     "execution_count": 42,
     "metadata": {},
     "output_type": "execute_result"
    }
   ],
   "source": [
    "foldseek_results_path = '/data/rsg/chemistry/jyim/third_party/framediff_samples/ts_10/aln_noise_01_seqs_500_esmf.m8'\n",
    "novelty_df = calc_novelty(foldseek_results_path)\n",
    "novelty_df.alntm.mean()"
   ]
  },
  {
   "cell_type": "code",
   "execution_count": null,
   "metadata": {},
   "outputs": [],
   "source": []
  },
  {
   "cell_type": "code",
   "execution_count": null,
   "metadata": {},
   "outputs": [],
   "source": []
  },
  {
   "cell_type": "code",
   "execution_count": null,
   "metadata": {},
   "outputs": [],
   "source": []
  },
  {
   "cell_type": "code",
   "execution_count": null,
   "metadata": {},
   "outputs": [],
   "source": []
  },
  {
   "cell_type": "code",
   "execution_count": 91,
   "metadata": {},
   "outputs": [
    {
     "name": "stdout",
     "output_type": "stream",
     "text": [
      "Reading samples from /Mounts/rbg-storage1/users/jyim/se3_diffusion_scope_results/scope_noise_scale_10_ts_100\n",
      "Percent designable: 0.3894927536231884\n"
     ]
    }
   ],
   "source": [
    "# 100 timesteps\n",
    "results_dir = '/Mounts/rbg-storage1/users/jyim/se3_diffusion_scope_results/scope_noise_scale_10_ts_100'\n",
    "samples_df = read_samples(results_dir)\n",
    "samples_df = samples_df[samples_df.sample_id < 8] # Ensure we only consider 8 sequences per backbone.\n",
    "\n",
    "scrmsd_results = sc_filter(samples_df, 'rmsd')\n",
    "designable_scrmsd = scrmsd_results[scrmsd_results.designable]\n",
    "\n",
    "# Write samples to a directory for diversity calculation.\n",
    "write_dir = '/data/rsg/chemistry/jyim/third_party/framediff_samples/ts_100'\n",
    "os.makedirs(write_dir, exist_ok=True)\n",
    "pdb_list_path = os.path.join(write_dir, 'filename.txt')\n",
    "with open(pdb_list_path, 'w') as f:\n",
    "    for (_, row) in designable_scrmsd.iterrows():\n",
    "        pdb_path = row.sample_path.replace('./inference_outputs/scope_noise_scale_10_ts_100', '/Mounts/rbg-storage1/users/jyim/se3_diffusion_scope_results/scope_noise_scale_10_ts_100')\n",
    "        length = row.length\n",
    "        sample_id = row.sample_id\n",
    "        write_path = os.path.join(write_dir, f'len_{length}_id_{sample_id}.pdb')\n",
    "        f.write(write_path + '\\n')\n",
    "        shutil.copy(pdb_path, write_path)\n"
   ]
  },
  {
   "cell_type": "markdown",
   "metadata": {},
   "source": [
    "./maxcluster64bit -l \\\n",
    "/data/rsg/chemistry/jyim/third_party/framediff_samples/ts_100/filename.txt \\\n",
    "-C 2 -in -Rl /data/rsg/chemistry/jyim/third_party/framediff_samples/ts_100//all_by_all_lite \\\n",
    "-TM -Tm 0.5 > /data/rsg/chemistry/jyim/third_party/framediff_samples/ts_100//maxcluster_results.txt"
   ]
  },
  {
   "cell_type": "code",
   "execution_count": 94,
   "metadata": {},
   "outputs": [
    {
     "data": {
      "text/plain": [
       "0.12318840579710146"
      ]
     },
     "execution_count": 94,
     "metadata": {},
     "output_type": "execute_result"
    }
   ],
   "source": [
    "68 / scrmsd_results.shape[0]"
   ]
  },
  {
   "cell_type": "markdown",
   "metadata": {},
   "source": [
    "foldseek easy-search /data/rsg/chemistry/jyim/third_party/framediff_samples/ts_100 \\\n",
    "/Mounts/rbg-storage1/users/jyim/programs/foldseek/pdb aln_noise_01_seqs_100_esmf.m8 tmpFolder \\\n",
    "--alignment-type 1 --format-output 'query,target,alntmscore,lddt' --tmscore-threshold 0.0 --exhaustive-search --max-seqs 10000000000"
   ]
  },
  {
   "cell_type": "code",
   "execution_count": 8,
   "metadata": {},
   "outputs": [
    {
     "data": {
      "text/plain": [
       "0.6652191588785048"
      ]
     },
     "execution_count": 8,
     "metadata": {},
     "output_type": "execute_result"
    }
   ],
   "source": [
    "foldseek_results_path = '/data/rsg/chemistry/jyim/third_party/framediff_samples/ts_100/aln_noise_01_seqs_100_esmf.m8'\n",
    "novelty_df = calc_novelty(foldseek_results_path)\n",
    "novelty_df.alntm.mean()"
   ]
  },
  {
   "cell_type": "code",
   "execution_count": null,
   "metadata": {},
   "outputs": [],
   "source": []
  },
  {
   "cell_type": "code",
   "execution_count": null,
   "metadata": {},
   "outputs": [],
   "source": []
  },
  {
   "cell_type": "markdown",
   "metadata": {},
   "source": [
    "# GENIE results"
   ]
  },
  {
   "cell_type": "code",
   "execution_count": 45,
   "metadata": {},
   "outputs": [],
   "source": [
    "def extract_ca(path):\n",
    "    pdb_feats = du.parse_pdb_feats('a', path)\n",
    "    return pdb_feats['bb_positions']"
   ]
  },
  {
   "cell_type": "code",
   "execution_count": 46,
   "metadata": {},
   "outputs": [],
   "source": [
    "genie_samples_dir = '/Mounts/rbg-storage1/users/jyim/genie_results/eval_results/eval_results/ts_1000'\n",
    "designs_dir = os.path.join(genie_samples_dir, 'pdbs/*')\n",
    "structures_dir = os.path.join(genie_samples_dir, 'structures')"
   ]
  },
  {
   "cell_type": "code",
   "execution_count": 51,
   "metadata": {},
   "outputs": [
    {
     "name": "stdout",
     "output_type": "stream",
     "text": [
      "On 0/790\n",
      "On 50/790\n",
      "On 100/790\n",
      "On 150/790\n",
      "On 200/790\n",
      "On 250/790\n",
      "On 300/790\n",
      "On 350/790\n",
      "On 400/790\n",
      "On 500/790\n",
      "On 550/790\n",
      "On 600/790\n",
      "On 700/790\n",
      "On 750/790\n",
      "scRMSD designability: 0.22318840579710145\n",
      "scTM designability: 0.14057971014492754\n"
     ]
    }
   ],
   "source": [
    "designs_to_score = {\n",
    "    'sample_id': [],\n",
    "    'length': [],\n",
    "    'min_rmsd': [],\n",
    "    'pdb_path': [],\n",
    "    'max_tm': [],\n",
    "}\n",
    "all_samples = glob.glob(designs_dir)\n",
    "\n",
    "for i,design_path in enumerate(all_samples):\n",
    "    design_fname = os.path.basename(design_path).replace('.pdb', '')\n",
    "    length, sample_id = [int(x) for x in design_fname.split('_')]\n",
    "    if length < 60:\n",
    "        continue\n",
    "    # path_basename = '/'.join(design_path.split('/')[-2:])\n",
    "    # design_path = os.path.join(genie_samples_dir, path_basename)\n",
    "    design_pdb = extract_ca(design_path)\n",
    "    res_mask = np.ones_like(design_pdb)[:, 0]\n",
    "    max_tm = 0\n",
    "    min_rmsd = 1000\n",
    "    if i % 50 == 0:\n",
    "        print(f'On {i}/{len(all_samples)}')\n",
    "    for i in range(8):\n",
    "        resample_path = os.path.join(structures_dir, f'{design_fname}-resample_{i}.pdb')\n",
    "        resample_pdb = extract_ca(resample_path)\n",
    "        _, rmsd = superimpose(\n",
    "            torch.tensor(resample_pdb[None]),\n",
    "            torch.tensor(design_pdb[None]),\n",
    "            torch.tensor(res_mask[None])\n",
    "        )\n",
    "        num_res = resample_pdb.shape[0]\n",
    "        seq = 'A'*num_res\n",
    "        tm_results = tm_align(design_pdb, resample_pdb, seq, seq)\n",
    "        tm_score = tm_results.tm_norm_chain1\n",
    "        if rmsd < min_rmsd:\n",
    "            min_rmsd = rmsd\n",
    "        if tm_score > max_tm:\n",
    "            max_tm = tm_score\n",
    "    designs_to_score['sample_id'].append(sample_id)\n",
    "    designs_to_score['length'].append(length)\n",
    "    designs_to_score['min_rmsd'].append(min_rmsd)\n",
    "    designs_to_score['max_tm'].append(max_tm)\n",
    "    designs_to_score['pdb_path'].append(design_path)\n",
    "    \n",
    "results_df = pd.DataFrame(designs_to_score)\n",
    "scrmsd_designability = (results_df.min_rmsd < 2.0).mean()\n",
    "sctm_designability = (results_df.max_tm > 0.5).mean()\n",
    "print(f'scRMSD designability: {scrmsd_designability}')\n",
    "print(f'scTM designability: {sctm_designability}')"
   ]
  },
  {
   "cell_type": "code",
   "execution_count": 52,
   "metadata": {},
   "outputs": [
    {
     "data": {
      "text/plain": [
       "0.8594202898550725"
      ]
     },
     "execution_count": 52,
     "metadata": {},
     "output_type": "execute_result"
    }
   ],
   "source": [
    "(results_df.max_tm > 0.5).mean()"
   ]
  },
  {
   "cell_type": "code",
   "execution_count": 116,
   "metadata": {},
   "outputs": [],
   "source": [
    "genie_samples_dir = '/Mounts/rbg-storage1/users/jyim/genie_results/eval_results/eval_results/ts_500'\n",
    "designs_dir = os.path.join(genie_samples_dir, 'pdbs/*')\n",
    "structures_dir = os.path.join(genie_samples_dir, 'structures')"
   ]
  },
  {
   "cell_type": "code",
   "execution_count": null,
   "metadata": {},
   "outputs": [],
   "source": []
  },
  {
   "cell_type": "code",
   "execution_count": null,
   "metadata": {},
   "outputs": [],
   "source": []
  },
  {
   "cell_type": "code",
   "execution_count": null,
   "metadata": {},
   "outputs": [],
   "source": []
  }
 ],
 "metadata": {
  "kernelspec": {
   "display_name": "Python 3 (ipykernel)",
   "language": "python",
   "name": "python3"
  },
  "language_info": {
   "codemirror_mode": {
    "name": "ipython",
    "version": 3
   },
   "file_extension": ".py",
   "mimetype": "text/x-python",
   "name": "python",
   "nbconvert_exporter": "python",
   "pygments_lexer": "ipython3",
   "version": "3.10.12"
  }
 },
 "nbformat": 4,
 "nbformat_minor": 4
}
