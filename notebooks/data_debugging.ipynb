{
 "cells": [
  {
   "cell_type": "code",
   "execution_count": 24,
   "metadata": {},
   "outputs": [
    {
     "name": "stdout",
     "output_type": "stream",
     "text": [
      "The autoreload extension is already loaded. To reload it, use:\n",
      "  %reload_ext autoreload\n"
     ]
    },
    {
     "name": "stderr",
     "output_type": "stream",
     "text": [
      "[autoreload of models.flow_module failed: Traceback (most recent call last):\n",
      "  File \"/data/rsg/chemistry/jyim/mambaforge/envs/fm/lib/python3.10/site-packages/IPython/extensions/autoreload.py\", line 276, in check\n",
      "    superreload(m, reload, self.old_objects)\n",
      "  File \"/data/rsg/chemistry/jyim/mambaforge/envs/fm/lib/python3.10/site-packages/IPython/extensions/autoreload.py\", line 500, in superreload\n",
      "    update_generic(old_obj, new_obj)\n",
      "  File \"/data/rsg/chemistry/jyim/mambaforge/envs/fm/lib/python3.10/site-packages/IPython/extensions/autoreload.py\", line 397, in update_generic\n",
      "    update(a, b)\n",
      "  File \"/data/rsg/chemistry/jyim/mambaforge/envs/fm/lib/python3.10/site-packages/IPython/extensions/autoreload.py\", line 349, in update_class\n",
      "    if update_generic(old_obj, new_obj):\n",
      "  File \"/data/rsg/chemistry/jyim/mambaforge/envs/fm/lib/python3.10/site-packages/IPython/extensions/autoreload.py\", line 397, in update_generic\n",
      "    update(a, b)\n",
      "  File \"/data/rsg/chemistry/jyim/mambaforge/envs/fm/lib/python3.10/site-packages/IPython/extensions/autoreload.py\", line 309, in update_function\n",
      "    setattr(old, name, getattr(new, name))\n",
      "ValueError: forward() requires a code object with 0 free vars, not 1\n",
      "]\n"
     ]
    }
   ],
   "source": [
    "%load_ext autoreload\n",
    "%autoreload 2\n"
   ]
  },
  {
   "cell_type": "code",
   "execution_count": 25,
   "metadata": {},
   "outputs": [],
   "source": [
    "import os\n",
    "from omegaconf import OmegaConf\n",
    "from models.flow_module import FlowModule\n",
    "import torch\n",
    "from data.pdb_dataloader import PdbDataModule\n",
    "import GPUtil\n",
    "from data import utils as du\n",
    "import numpy as np\n",
    "import tree\n",
    "from data import so3_utils\n",
    "from data import all_atom\n",
    "from analysis import utils as au\n",
    "from openfold.utils.superimposition import superimpose\n",
    "import matplotlib.pyplot as plt\n",
    "import copy\n"
   ]
  },
  {
   "cell_type": "code",
   "execution_count": 26,
   "metadata": {},
   "outputs": [
    {
     "name": "stdout",
     "output_type": "stream",
     "text": [
      "../ckpt/se3-fm/refactor_with_align/2023-10-15_18-12-18/last.ckpt\n"
     ]
    }
   ],
   "source": [
    "# Setup lightning module\n",
    "\n",
    "ckpt_dir = '../ckpt/se3-fm/refactor_with_align/2023-10-15_18-12-18/'\n",
    "ckpt_path = os.path.join(ckpt_dir, 'last.ckpt')\n",
    "\n",
    "print(ckpt_path)\n",
    "\n",
    "base_path = '../configs/base.yaml'\n",
    "base_cfg = OmegaConf.load(base_path)\n",
    "\n",
    "cfg_path = os.path.join(ckpt_dir, 'config.yaml')\n",
    "ckpt_cfg = OmegaConf.load(cfg_path)\n",
    "\n",
    "OmegaConf.set_struct(base_cfg, False)\n",
    "OmegaConf.set_struct(ckpt_cfg, False)\n",
    "cfg = OmegaConf.merge(base_cfg, ckpt_cfg)\n",
    "cfg.experiment.checkpointer.dirpath = './'\n",
    "cfg.experiment.rescale_time = False\n",
    "cfg.data.dataset.csv_path = '../preprocessed/metadata.csv'\n",
    "cfg.data.loader.num_workers = 0\n",
    "device = f'cpu'"
   ]
  },
  {
   "cell_type": "code",
   "execution_count": 27,
   "metadata": {},
   "outputs": [],
   "source": [
    "# Set up data module\n",
    "data_module = PdbDataModule(cfg.data)\n",
    "data_module.setup('fit')"
   ]
  },
  {
   "cell_type": "code",
   "execution_count": null,
   "metadata": {},
   "outputs": [],
   "source": []
  },
  {
   "cell_type": "markdown",
   "metadata": {
    "jp-MarkdownHeadingCollapsed": true
   },
   "source": [
    "# Test that each rank gets own set of indices"
   ]
  },
  {
   "cell_type": "code",
   "execution_count": 24,
   "metadata": {},
   "outputs": [],
   "source": [
    "def indices(rank):\n",
    "    train_dataloader = data_module.train_dataloader(\n",
    "        num_replicas=2,\n",
    "        rank=rank\n",
    "    )\n",
    "    data_iter = iter(train_dataloader)\n",
    "    all_csv_idx = []\n",
    "    for batch in data_iter:\n",
    "        all_csv_idx.append(batch['csv_idx'])\n",
    "    all_csv_idx = torch.concatenate(all_csv_idx).squeeze()\n",
    "    return sorted(all_csv_idx.unique().tolist())"
   ]
  },
  {
   "cell_type": "code",
   "execution_count": 25,
   "metadata": {},
   "outputs": [],
   "source": [
    "rank_0_indices = indices(0)\n",
    "rank_1_indices = indices(1)"
   ]
  },
  {
   "cell_type": "code",
   "execution_count": 28,
   "metadata": {},
   "outputs": [],
   "source": [
    "intersection_indices = set(rank_1_indices) & set(rank_0_indices)"
   ]
  },
  {
   "cell_type": "code",
   "execution_count": 34,
   "metadata": {},
   "outputs": [],
   "source": [
    "train_dataloader = data_module.train_dataloader(\n",
    "    num_replicas=2,\n",
    "    rank=0\n",
    ")\n",
    "raw_csv = train_dataloader.dataset.csv"
   ]
  },
  {
   "cell_type": "code",
   "execution_count": 38,
   "metadata": {},
   "outputs": [],
   "source": [
    "all_indices = raw_csv.index.tolist()"
   ]
  },
  {
   "cell_type": "code",
   "execution_count": 39,
   "metadata": {},
   "outputs": [
    {
     "data": {
      "text/plain": [
       "3938"
      ]
     },
     "execution_count": 39,
     "metadata": {},
     "output_type": "execute_result"
    }
   ],
   "source": [
    "len(all_indices)"
   ]
  },
  {
   "cell_type": "code",
   "execution_count": 40,
   "metadata": {},
   "outputs": [
    {
     "data": {
      "text/plain": [
       "3938"
      ]
     },
     "execution_count": 40,
     "metadata": {},
     "output_type": "execute_result"
    }
   ],
   "source": [
    "len(set(rank_0_indices) | set(rank_1_indices))"
   ]
  },
  {
   "cell_type": "code",
   "execution_count": null,
   "metadata": {},
   "outputs": [],
   "source": []
  },
  {
   "cell_type": "markdown",
   "metadata": {
    "jp-MarkdownHeadingCollapsed": true
   },
   "source": [
    "# Test that each epoch changes the batch order"
   ]
  },
  {
   "cell_type": "code",
   "execution_count": 5,
   "metadata": {},
   "outputs": [],
   "source": [
    "train_dataloader = data_module.train_dataloader(\n",
    "    num_replicas=2,\n",
    "    rank=0,\n",
    ")\n",
    "data_iter_1 = iter(train_dataloader)\n",
    "# print(train_dataloader.batch_sampler.epoch)\n",
    "data_iter_2 = iter(train_dataloader)\n",
    "# print(train_dataloader.batch_sampler.epoch)"
   ]
  },
  {
   "cell_type": "code",
   "execution_count": 9,
   "metadata": {},
   "outputs": [],
   "source": [
    "batch_1 = next(data_iter_1)\n",
    "idx_1 = batch_1['csv_idx']\n",
    "res_1 = batch_1['res_mask'].shape[1]\n",
    "\n",
    "batch_2 = next(data_iter_2)\n",
    "idx_2 = batch_2['csv_idx']\n",
    "res_2 = batch_2['res_mask'].shape[1]\n",
    "while res_2 != res_1:\n",
    "    batch_2 = next(data_iter_2)\n",
    "    idx_2 = batch_2['csv_idx']\n",
    "    res_2 = batch_2['res_mask'].shape[1]    "
   ]
  },
  {
   "cell_type": "code",
   "execution_count": 18,
   "metadata": {},
   "outputs": [
    {
     "data": {
      "text/plain": [
       "17"
      ]
     },
     "execution_count": 18,
     "metadata": {},
     "output_type": "execute_result"
    }
   ],
   "source": [
    "len(set(idx_1.squeeze().numpy()) & set(idx_2.squeeze().numpy()))"
   ]
  },
  {
   "cell_type": "code",
   "execution_count": 17,
   "metadata": {},
   "outputs": [
    {
     "data": {
      "text/plain": [
       "27"
      ]
     },
     "execution_count": 17,
     "metadata": {},
     "output_type": "execute_result"
    }
   ],
   "source": [
    "len(idx_1)"
   ]
  },
  {
   "cell_type": "code",
   "execution_count": null,
   "metadata": {},
   "outputs": [],
   "source": []
  },
  {
   "cell_type": "markdown",
   "metadata": {},
   "source": [
    "# Test BatchOT"
   ]
  },
  {
   "cell_type": "code",
   "execution_count": 28,
   "metadata": {},
   "outputs": [],
   "source": [
    "train_dataloader = data_module.train_dataloader(\n",
    "    num_replicas=2,\n",
    "    rank=0\n",
    ")\n",
    "data_iter = iter(train_dataloader)"
   ]
  },
  {
   "cell_type": "code",
   "execution_count": 29,
   "metadata": {},
   "outputs": [],
   "source": [
    "batch = next(data_iter)"
   ]
  },
  {
   "cell_type": "code",
   "execution_count": 38,
   "metadata": {},
   "outputs": [],
   "source": [
    "from scipy.optimize import linear_sum_assignment"
   ]
  },
  {
   "cell_type": "code",
   "execution_count": 40,
   "metadata": {},
   "outputs": [],
   "source": [
    "trans_1 = batch['trans_1']\n",
    "res_mask = batch['res_mask']\n",
    "trans_0 = torch.randn(trans_1.shape) * 10.0\n",
    "num_batch, num_res = res_mask.shape\n",
    "\n",
    "noise_idx, gt_idx = torch.where(\n",
    "    torch.ones(num_batch, num_batch))\n",
    "batch_nm_0 = trans_0[noise_idx]\n",
    "batch_nm_1 = trans_1[gt_idx]\n",
    "batch_mask = res_mask[gt_idx]\n",
    "aligned_nm_0, aligned_nm_1, _ = du.batch_align_structures(\n",
    "    batch_nm_0, batch_nm_1, mask=batch_mask\n",
    ") \n",
    "\n",
    "aligned_nm_0 = aligned_nm_0.reshape(num_batch, num_batch, num_res, 3)\n",
    "aligned_nm_1 = aligned_nm_1.reshape(num_batch, num_batch, num_res, 3)\n",
    "\n",
    "# Compute cost matrix of aligned noise to ground truth\n",
    "batch_mask = batch_mask.reshape(num_batch, num_batch, num_res)\n",
    "cost_matrix = torch.sum(\n",
    "    torch.linalg.norm(aligned_nm_0 - aligned_nm_1, dim=-1), dim=-1\n",
    ") / torch.sum(batch_mask, dim=-1)\n",
    "noise_perm, gt_perm = linear_sum_assignment(du.to_numpy(cost_matrix))\n",
    "aligned_trans_0 = aligned_nm_0[(tuple(gt_perm), tuple(noise_perm))]"
   ]
  },
  {
   "cell_type": "code",
   "execution_count": 42,
   "metadata": {},
   "outputs": [],
   "source": [
    "trans_dist = torch.mean(torch.linalg.norm(trans_0 - trans_1, dim=-1), -1)"
   ]
  },
  {
   "cell_type": "code",
   "execution_count": 43,
   "metadata": {},
   "outputs": [],
   "source": [
    "aligned_dist = torch.mean(torch.linalg.norm(aligned_trans_0 - trans_1, dim=-1), -1)"
   ]
  },
  {
   "cell_type": "code",
   "execution_count": 46,
   "metadata": {},
   "outputs": [
    {
     "data": {
      "text/plain": [
       "tensor(19.7388)"
      ]
     },
     "execution_count": 46,
     "metadata": {},
     "output_type": "execute_result"
    }
   ],
   "source": [
    "torch.mean(trans_dist)"
   ]
  },
  {
   "cell_type": "code",
   "execution_count": 47,
   "metadata": {},
   "outputs": [
    {
     "data": {
      "text/plain": [
       "tensor(18.3862)"
      ]
     },
     "execution_count": 47,
     "metadata": {},
     "output_type": "execute_result"
    }
   ],
   "source": [
    "torch.mean(aligned_dist)"
   ]
  },
  {
   "cell_type": "code",
   "execution_count": null,
   "metadata": {},
   "outputs": [],
   "source": [
    "num_batch, num_res = trans_0.shape[:2]\n",
    "noise_idx, gt_idx = torch.where(\n",
    "    torch.ones(num_batch, num_batch))\n",
    "batch_nm_0 = trans_0[noise_idx]\n",
    "batch_nm_1 = trans_1[gt_idx]\n",
    "batch_mask = res_mask[gt_idx]\n",
    "aligned_nm_0, aligned_nm_1, _ = du.batch_align_structures(\n",
    "    batch_nm_0, batch_nm_1, mask=batch_mask\n",
    ") \n",
    "aligned_nm_0 = aligned_nm_0.reshape(num_batch, num_batch, num_res, 3)\n",
    "aligned_nm_1 = aligned_nm_1.reshape(num_batch, num_batch, num_res, 3)\n",
    "\n",
    "# Compute cost matrix of aligned noise to ground truth\n",
    "batch_mask = batch_mask.reshape(num_batch, num_batch, num_res)\n",
    "cost_matrix = torch.sum(\n",
    "    torch.linalg.norm(aligned_nm_0 - aligned_nm_1, dim=-1), dim=-1\n",
    ") / torch.sum(batch_mask, dim=-1)\n",
    "noise_perm, gt_perm = linear_sum_assignment(du.to_numpy(cost_matrix))\n",
    "return aligned_nm_0[(tuple(gt_perm), tuple(noise_perm))]"
   ]
  },
  {
   "cell_type": "code",
   "execution_count": null,
   "metadata": {},
   "outputs": [],
   "source": [
    "    def _batch_ot(self, trans_0, trans_1, res_mask):\n",
    "        num_batch, num_res = trans_0.shape[:2]\n",
    "        noise_idx, gt_idx = torch.where(\n",
    "            torch.ones(num_batch, num_batch))\n",
    "        batch_nm_0 = trans_0[noise_idx]\n",
    "        batch_nm_1 = trans_1[gt_idx]\n",
    "        batch_mask = res_mask[gt_idx]\n",
    "        aligned_nm_0, aligned_nm_1, _ = du.batch_align_structures(\n",
    "            batch_nm_0, batch_nm_1, mask=batch_mask\n",
    "        ) \n",
    "        aligned_nm_0 = aligned_nm_0.reshape(num_batch, num_batch, num_res, 3)\n",
    "        aligned_nm_1 = aligned_nm_1.reshape(num_batch, num_batch, num_res, 3)\n",
    "        \n",
    "        # Compute cost matrix of aligned noise to ground truth\n",
    "        batch_mask = batch_mask.reshape(num_batch, num_batch, num_res)\n",
    "        cost_matrix = torch.sum(\n",
    "            torch.linalg.norm(aligned_nm_0 - aligned_nm_1, dim=-1), dim=-1\n",
    "        ) / torch.sum(batch_mask, dim=-1)\n",
    "        noise_perm, gt_perm = linear_sum_assignment(du.to_numpy(cost_matrix))\n",
    "        return aligned_nm_0[(tuple(gt_perm), tuple(noise_perm))]"
   ]
  },
  {
   "cell_type": "code",
   "execution_count": null,
   "metadata": {},
   "outputs": [],
   "source": []
  },
  {
   "cell_type": "code",
   "execution_count": null,
   "metadata": {},
   "outputs": [],
   "source": []
  },
  {
   "cell_type": "code",
   "execution_count": null,
   "metadata": {},
   "outputs": [],
   "source": []
  }
 ],
 "metadata": {
  "kernelspec": {
   "display_name": "Python 3 (ipykernel)",
   "language": "python",
   "name": "python3"
  },
  "language_info": {
   "codemirror_mode": {
    "name": "ipython",
    "version": 3
   },
   "file_extension": ".py",
   "mimetype": "text/x-python",
   "name": "python",
   "nbconvert_exporter": "python",
   "pygments_lexer": "ipython3",
   "version": "3.10.12"
  }
 },
 "nbformat": 4,
 "nbformat_minor": 4
}
