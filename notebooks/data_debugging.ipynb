{
 "cells": [
  {
   "cell_type": "code",
   "execution_count": 1,
   "metadata": {},
   "outputs": [],
   "source": [
    "%load_ext autoreload\n",
    "%autoreload 2\n"
   ]
  },
  {
   "cell_type": "code",
   "execution_count": 24,
   "metadata": {},
   "outputs": [],
   "source": [
    "import os\n",
    "from omegaconf import OmegaConf\n",
    "from models.flow_module import FlowModule\n",
    "import torch\n",
    "from data.pdb_dataloader import PdbDataModule\n",
    "import GPUtil\n",
    "from data import utils as du\n",
    "import numpy as np\n",
    "import tree\n",
    "from data import so3_utils\n",
    "from data import all_atom\n",
    "from analysis import utils as au\n",
    "from openfold.utils.superimposition import superimpose\n",
    "import matplotlib.pyplot as plt\n",
    "import copy\n",
    "import pandas as pd\n",
    "import math\n"
   ]
  },
  {
   "cell_type": "code",
   "execution_count": 3,
   "metadata": {},
   "outputs": [],
   "source": [
    "# Setup lightning module\n",
    "\n",
    "cfg_path = '../ckpt/se3-fm/scope_256/2023-10-19_10-54-29/config.yaml'\n",
    "base_path = '../configs/base.yaml'\n",
    "base_cfg = OmegaConf.load(base_path)\n",
    "ckpt_cfg = OmegaConf.load(cfg_path)\n",
    "\n",
    "OmegaConf.set_struct(base_cfg, False)\n",
    "OmegaConf.set_struct(ckpt_cfg, False)\n",
    "cfg = OmegaConf.merge(base_cfg, ckpt_cfg)\n",
    "cfg.experiment.checkpointer.dirpath = './'\n",
    "cfg.experiment.rescale_time = False\n",
    "cfg.data.dataset.max_num_res = 256\n",
    "cfg.data.dataset.min_num_res = 200\n",
    "cfg.data.dataset.csv_path = '../swiss_prot/swiss_prot_pkls/metadata.csv'\n",
    "# cfg.data.dataset.csv_path = '../preprocessed/metadata.csv'\n",
    "cfg.data.loader.num_workers = 0\n",
    "device = f'cpu'"
   ]
  },
  {
   "cell_type": "code",
   "execution_count": 4,
   "metadata": {},
   "outputs": [],
   "source": [
    "# Set up data module\n",
    "data_module = PdbDataModule(cfg.data)\n",
    "data_module.setup('fit')"
   ]
  },
  {
   "cell_type": "code",
   "execution_count": 5,
   "metadata": {},
   "outputs": [],
   "source": [
    "train_dataloader = data_module.train_dataloader(\n",
    "    num_replicas=2,\n",
    "    rank=0\n",
    ")\n",
    "data_iter = iter(train_dataloader)"
   ]
  },
  {
   "cell_type": "code",
   "execution_count": 6,
   "metadata": {},
   "outputs": [],
   "source": [
    "batch = next(data_iter)"
   ]
  },
  {
   "cell_type": "code",
   "execution_count": 7,
   "metadata": {},
   "outputs": [
    {
     "data": {
      "text/plain": [
       "dict_keys(['res_plddt', 'aatype', 'res_idx', 'rotmats_1', 'trans_1', 'res_mask', 'csv_idx'])"
      ]
     },
     "execution_count": 7,
     "metadata": {},
     "output_type": "execute_result"
    }
   ],
   "source": [
    "batch.keys()"
   ]
  },
  {
   "cell_type": "code",
   "execution_count": null,
   "metadata": {},
   "outputs": [],
   "source": [
    "rng = np.random.default_rng()"
   ]
  },
  {
   "cell_type": "code",
   "execution_count": 17,
   "metadata": {},
   "outputs": [],
   "source": [
    "trans_1 = batch['trans_1'][0]"
   ]
  },
  {
   "cell_type": "code",
   "execution_count": 48,
   "metadata": {},
   "outputs": [],
   "source": [
    "dist2d = torch.linalg.norm(trans_1[:, None, :] - trans_1[None, :, :], dim=-1)\n",
    "diff_mask = torch.zeros_like(trans_1)\n",
    "crop_seed = rng.integers(dist2d.shape[0])\n",
    "seed_dists = dist2d[crop_seed]\n",
    "max_scaffold_size = math.floor(seed_dists.shape[0] * 0.9)\n",
    "min_scaffold_size = 10\n",
    "scaffold_size = rng.integers(\n",
    "    low=min_scaffold_size,\n",
    "    high=max_scaffold_size\n",
    ")\n",
    "dist_cutoff = np.sort(seed_dists)[scaffold_size]\n",
    "diff_mask = (seed_dists > dist_cutoff).int()"
   ]
  },
  {
   "cell_type": "code",
   "execution_count": 49,
   "metadata": {},
   "outputs": [
    {
     "data": {
      "text/plain": [
       "54"
      ]
     },
     "execution_count": 49,
     "metadata": {},
     "output_type": "execute_result"
    }
   ],
   "source": [
    "scaffold_size"
   ]
  },
  {
   "cell_type": "code",
   "execution_count": 50,
   "metadata": {},
   "outputs": [
    {
     "data": {
      "text/plain": [
       "tensor([1, 1, 1, 1, 1, 0, 0, 0, 1, 1, 1, 1, 0, 0, 0, 0, 0, 0, 0, 0, 0, 0, 0, 0,\n",
       "        0, 0, 0, 0, 0, 1, 1, 1, 1, 1, 1, 1, 1, 1, 1, 1, 1, 0, 0, 0, 0, 0, 0, 0,\n",
       "        0, 0, 0, 0, 0, 0, 1, 1, 1, 1, 1, 1, 1, 1, 1, 1, 1, 1, 1, 1, 1, 1, 1, 1,\n",
       "        1, 0, 0, 0, 0, 0, 0, 0, 0, 0, 1, 1, 1, 1, 1, 1, 1, 1, 1, 1, 1, 1, 1, 1,\n",
       "        1, 1, 1, 1, 1, 1, 1, 1, 1, 1, 1, 1, 1, 1, 1, 1, 1, 1, 1, 1, 1, 1, 1, 1,\n",
       "        0, 1, 1, 1, 1, 1, 1, 1, 1, 1, 1, 1, 1, 1, 1, 1, 1, 1, 1, 0, 1, 1, 0, 0,\n",
       "        1, 0, 0, 0, 0, 0, 0, 0, 0, 0, 1, 1, 1, 1, 1, 1, 1, 1, 1, 1, 1, 1, 1, 1,\n",
       "        1, 1, 1, 1, 1, 1, 1, 1, 1, 1, 1, 1, 1, 1, 1, 1, 1, 1, 1, 1, 1, 1, 1, 1,\n",
       "        1, 1, 1, 1, 1, 1, 1, 1, 1, 1, 1, 1, 1, 1, 1, 1, 1, 1, 1, 1, 1, 1, 1, 1,\n",
       "        1, 1, 1, 1, 1, 1, 1, 1, 1, 1, 1, 1, 1, 1, 1, 1, 1, 1, 1, 1, 1, 1, 1, 1,\n",
       "        1, 1, 1, 1, 1, 1, 1, 1, 1], dtype=torch.int32)"
      ]
     },
     "execution_count": 50,
     "metadata": {},
     "output_type": "execute_result"
    }
   ],
   "source": [
    "diff_mask"
   ]
  },
  {
   "cell_type": "code",
   "execution_count": 51,
   "metadata": {},
   "outputs": [
    {
     "data": {
      "text/plain": [
       "17.060059"
      ]
     },
     "execution_count": 51,
     "metadata": {},
     "output_type": "execute_result"
    }
   ],
   "source": [
    "dist_cutoff"
   ]
  },
  {
   "cell_type": "code",
   "execution_count": null,
   "metadata": {},
   "outputs": [],
   "source": []
  },
  {
   "cell_type": "code",
   "execution_count": null,
   "metadata": {},
   "outputs": [],
   "source": [
    "        dist2d = np.linalg.norm(bb_pos[:, None, :] - bb_pos[None, :, :], axis=-1)\n",
    "\n",
    "        # Randomly select residue then sample a distance cutoff\n",
    "        # TODO: Use a more robust diffuse mask sampling method.\n",
    "        diff_mask = np.zeros_like(bb_pos)\n",
    "        attempts = 0\n",
    "        while np.sum(diff_mask) < 1:\n",
    "            crop_seed = rng.integers(dist2d.shape[0])\n",
    "            seed_dists = dist2d[crop_seed]\n",
    "            max_scaffold_size = min(\n",
    "                self._data_conf.scaffold_size_max,\n",
    "                seed_dists.shape[0] - self._data_conf.motif_size_min\n",
    "            )\n",
    "            scaffold_size = rng.integers(\n",
    "                low=self._data_conf.scaffold_size_min,\n",
    "                high=max_scaffold_size\n",
    "            )\n",
    "            dist_cutoff = np.sort(seed_dists)[scaffold_size]\n",
    "            diff_mask = (seed_dists < dist_cutoff).astype(float)\n",
    "            attempts += 1\n",
    "            if attempts > 100:\n",
    "                raise ValueError(\n",
    "                    f'Unable to generate diffusion mask for {row}')"
   ]
  },
  {
   "cell_type": "code",
   "execution_count": null,
   "metadata": {},
   "outputs": [],
   "source": []
  },
  {
   "cell_type": "code",
   "execution_count": 24,
   "metadata": {},
   "outputs": [],
   "source": [
    "all_batch_size = []\n",
    "for _ in range(10):\n",
    "    batch = next(data_iter)\n",
    "    all_batch_size.append(batch['res_mask'].shape)"
   ]
  },
  {
   "cell_type": "code",
   "execution_count": 65,
   "metadata": {},
   "outputs": [],
   "source": []
  },
  {
   "cell_type": "code",
   "execution_count": 29,
   "metadata": {},
   "outputs": [],
   "source": [
    "swiss_prot_csv = pd.read_csv('../swiss_prot/swiss_prot_pkls/metadata.csv')\n",
    "scope_csv = pd.read_csv('../preprocessed/metadata.csv')"
   ]
  },
  {
   "cell_type": "code",
   "execution_count": null,
   "metadata": {},
   "outputs": [],
   "source": [
    "swiss_prot_csv.head()"
   ]
  },
  {
   "cell_type": "code",
   "execution_count": null,
   "metadata": {},
   "outputs": [],
   "source": [
    "swiss_prot_csv.seq_len"
   ]
  },
  {
   "cell_type": "code",
   "execution_count": null,
   "metadata": {},
   "outputs": [],
   "source": []
  },
  {
   "cell_type": "code",
   "execution_count": null,
   "metadata": {},
   "outputs": [],
   "source": []
  },
  {
   "cell_type": "code",
   "execution_count": null,
   "metadata": {},
   "outputs": [],
   "source": []
  },
  {
   "cell_type": "code",
   "execution_count": null,
   "metadata": {},
   "outputs": [],
   "source": []
  },
  {
   "cell_type": "code",
   "execution_count": 82,
   "metadata": {},
   "outputs": [],
   "source": [
    "swiss_prot_row = swiss_prot_csv[swiss_prot_csv['seq_len'] == 499]\n",
    "scope_row = scope_csv[scope_csv['seq_len'] == 499]"
   ]
  },
  {
   "cell_type": "code",
   "execution_count": 83,
   "metadata": {},
   "outputs": [],
   "source": [
    "swiss_prot_path = swiss_prot_row.iloc[0].processed_path\n",
    "scope_path = scope_row.iloc[0].processed_path"
   ]
  },
  {
   "cell_type": "code",
   "execution_count": 86,
   "metadata": {},
   "outputs": [
    {
     "name": "stdout",
     "output_type": "stream",
     "text": [
      "9.85 ms ± 50.5 µs per loop (mean ± std. dev. of 7 runs, 100 loops each)\n"
     ]
    }
   ],
   "source": [
    "%%timeit\n",
    "for _ in range(10):\n",
    "    processed_feats = du.read_pkl(swiss_prot_path)"
   ]
  },
  {
   "cell_type": "code",
   "execution_count": 87,
   "metadata": {},
   "outputs": [
    {
     "name": "stdout",
     "output_type": "stream",
     "text": [
      "9.68 ms ± 98.5 µs per loop (mean ± std. dev. of 7 runs, 100 loops each)\n"
     ]
    }
   ],
   "source": [
    "%%timeit\n",
    "for _ in range(10):\n",
    "    processed_feats = du.read_pkl(scope_path)"
   ]
  },
  {
   "cell_type": "code",
   "execution_count": null,
   "metadata": {},
   "outputs": [],
   "source": []
  },
  {
   "cell_type": "code",
   "execution_count": null,
   "metadata": {},
   "outputs": [],
   "source": []
  },
  {
   "cell_type": "code",
   "execution_count": null,
   "metadata": {},
   "outputs": [],
   "source": []
  },
  {
   "cell_type": "markdown",
   "metadata": {
    "jp-MarkdownHeadingCollapsed": true
   },
   "source": [
    "# Test that each rank gets own set of indices"
   ]
  },
  {
   "cell_type": "code",
   "execution_count": 24,
   "metadata": {},
   "outputs": [],
   "source": [
    "def indices(rank):\n",
    "    train_dataloader = data_module.train_dataloader(\n",
    "        num_replicas=2,\n",
    "        rank=rank\n",
    "    )\n",
    "    data_iter = iter(train_dataloader)\n",
    "    all_csv_idx = []\n",
    "    for batch in data_iter:\n",
    "        all_csv_idx.append(batch['csv_idx'])\n",
    "    all_csv_idx = torch.concatenate(all_csv_idx).squeeze()\n",
    "    return sorted(all_csv_idx.unique().tolist())"
   ]
  },
  {
   "cell_type": "code",
   "execution_count": 25,
   "metadata": {},
   "outputs": [],
   "source": [
    "rank_0_indices = indices(0)\n",
    "rank_1_indices = indices(1)"
   ]
  },
  {
   "cell_type": "code",
   "execution_count": 28,
   "metadata": {},
   "outputs": [],
   "source": [
    "intersection_indices = set(rank_1_indices) & set(rank_0_indices)"
   ]
  },
  {
   "cell_type": "code",
   "execution_count": 34,
   "metadata": {},
   "outputs": [],
   "source": [
    "train_dataloader = data_module.train_dataloader(\n",
    "    num_replicas=2,\n",
    "    rank=0\n",
    ")\n",
    "raw_csv = train_dataloader.dataset.csv"
   ]
  },
  {
   "cell_type": "code",
   "execution_count": 38,
   "metadata": {},
   "outputs": [],
   "source": [
    "all_indices = raw_csv.index.tolist()"
   ]
  },
  {
   "cell_type": "code",
   "execution_count": 39,
   "metadata": {},
   "outputs": [
    {
     "data": {
      "text/plain": [
       "3938"
      ]
     },
     "execution_count": 39,
     "metadata": {},
     "output_type": "execute_result"
    }
   ],
   "source": [
    "len(all_indices)"
   ]
  },
  {
   "cell_type": "code",
   "execution_count": 40,
   "metadata": {},
   "outputs": [
    {
     "data": {
      "text/plain": [
       "3938"
      ]
     },
     "execution_count": 40,
     "metadata": {},
     "output_type": "execute_result"
    }
   ],
   "source": [
    "len(set(rank_0_indices) | set(rank_1_indices))"
   ]
  },
  {
   "cell_type": "code",
   "execution_count": null,
   "metadata": {},
   "outputs": [],
   "source": []
  },
  {
   "cell_type": "markdown",
   "metadata": {
    "jp-MarkdownHeadingCollapsed": true
   },
   "source": [
    "# Test that each epoch changes the batch order"
   ]
  },
  {
   "cell_type": "code",
   "execution_count": 5,
   "metadata": {},
   "outputs": [],
   "source": [
    "train_dataloader = data_module.train_dataloader(\n",
    "    num_replicas=2,\n",
    "    rank=0,\n",
    ")\n",
    "data_iter_1 = iter(train_dataloader)\n",
    "# print(train_dataloader.batch_sampler.epoch)\n",
    "data_iter_2 = iter(train_dataloader)\n",
    "# print(train_dataloader.batch_sampler.epoch)"
   ]
  },
  {
   "cell_type": "code",
   "execution_count": 9,
   "metadata": {},
   "outputs": [],
   "source": [
    "batch_1 = next(data_iter_1)\n",
    "idx_1 = batch_1['csv_idx']\n",
    "res_1 = batch_1['res_mask'].shape[1]\n",
    "\n",
    "batch_2 = next(data_iter_2)\n",
    "idx_2 = batch_2['csv_idx']\n",
    "res_2 = batch_2['res_mask'].shape[1]\n",
    "while res_2 != res_1:\n",
    "    batch_2 = next(data_iter_2)\n",
    "    idx_2 = batch_2['csv_idx']\n",
    "    res_2 = batch_2['res_mask'].shape[1]    "
   ]
  },
  {
   "cell_type": "code",
   "execution_count": 18,
   "metadata": {},
   "outputs": [
    {
     "data": {
      "text/plain": [
       "17"
      ]
     },
     "execution_count": 18,
     "metadata": {},
     "output_type": "execute_result"
    }
   ],
   "source": [
    "len(set(idx_1.squeeze().numpy()) & set(idx_2.squeeze().numpy()))"
   ]
  },
  {
   "cell_type": "code",
   "execution_count": 17,
   "metadata": {},
   "outputs": [
    {
     "data": {
      "text/plain": [
       "27"
      ]
     },
     "execution_count": 17,
     "metadata": {},
     "output_type": "execute_result"
    }
   ],
   "source": [
    "len(idx_1)"
   ]
  },
  {
   "cell_type": "code",
   "execution_count": null,
   "metadata": {},
   "outputs": [],
   "source": []
  },
  {
   "cell_type": "markdown",
   "metadata": {},
   "source": [
    "# Test BatchOT"
   ]
  },
  {
   "cell_type": "code",
   "execution_count": 28,
   "metadata": {},
   "outputs": [],
   "source": [
    "train_dataloader = data_module.train_dataloader(\n",
    "    num_replicas=2,\n",
    "    rank=0\n",
    ")\n",
    "data_iter = iter(train_dataloader)"
   ]
  },
  {
   "cell_type": "code",
   "execution_count": 29,
   "metadata": {},
   "outputs": [],
   "source": [
    "batch = next(data_iter)"
   ]
  },
  {
   "cell_type": "code",
   "execution_count": 38,
   "metadata": {},
   "outputs": [],
   "source": [
    "from scipy.optimize import linear_sum_assignment"
   ]
  },
  {
   "cell_type": "code",
   "execution_count": 40,
   "metadata": {},
   "outputs": [],
   "source": [
    "trans_1 = batch['trans_1']\n",
    "res_mask = batch['res_mask']\n",
    "trans_0 = torch.randn(trans_1.shape) * 10.0\n",
    "num_batch, num_res = res_mask.shape\n",
    "\n",
    "noise_idx, gt_idx = torch.where(\n",
    "    torch.ones(num_batch, num_batch))\n",
    "batch_nm_0 = trans_0[noise_idx]\n",
    "batch_nm_1 = trans_1[gt_idx]\n",
    "batch_mask = res_mask[gt_idx]\n",
    "aligned_nm_0, aligned_nm_1, _ = du.batch_align_structures(\n",
    "    batch_nm_0, batch_nm_1, mask=batch_mask\n",
    ") \n",
    "\n",
    "aligned_nm_0 = aligned_nm_0.reshape(num_batch, num_batch, num_res, 3)\n",
    "aligned_nm_1 = aligned_nm_1.reshape(num_batch, num_batch, num_res, 3)\n",
    "\n",
    "# Compute cost matrix of aligned noise to ground truth\n",
    "batch_mask = batch_mask.reshape(num_batch, num_batch, num_res)\n",
    "cost_matrix = torch.sum(\n",
    "    torch.linalg.norm(aligned_nm_0 - aligned_nm_1, dim=-1), dim=-1\n",
    ") / torch.sum(batch_mask, dim=-1)\n",
    "noise_perm, gt_perm = linear_sum_assignment(du.to_numpy(cost_matrix))\n",
    "aligned_trans_0 = aligned_nm_0[(tuple(gt_perm), tuple(noise_perm))]"
   ]
  },
  {
   "cell_type": "code",
   "execution_count": 42,
   "metadata": {},
   "outputs": [],
   "source": [
    "trans_dist = torch.mean(torch.linalg.norm(trans_0 - trans_1, dim=-1), -1)"
   ]
  },
  {
   "cell_type": "code",
   "execution_count": 43,
   "metadata": {},
   "outputs": [],
   "source": [
    "aligned_dist = torch.mean(torch.linalg.norm(aligned_trans_0 - trans_1, dim=-1), -1)"
   ]
  },
  {
   "cell_type": "code",
   "execution_count": 46,
   "metadata": {},
   "outputs": [
    {
     "data": {
      "text/plain": [
       "tensor(19.7388)"
      ]
     },
     "execution_count": 46,
     "metadata": {},
     "output_type": "execute_result"
    }
   ],
   "source": [
    "torch.mean(trans_dist)"
   ]
  },
  {
   "cell_type": "code",
   "execution_count": 47,
   "metadata": {},
   "outputs": [
    {
     "data": {
      "text/plain": [
       "tensor(18.3862)"
      ]
     },
     "execution_count": 47,
     "metadata": {},
     "output_type": "execute_result"
    }
   ],
   "source": [
    "torch.mean(aligned_dist)"
   ]
  },
  {
   "cell_type": "code",
   "execution_count": null,
   "metadata": {},
   "outputs": [],
   "source": [
    "num_batch, num_res = trans_0.shape[:2]\n",
    "noise_idx, gt_idx = torch.where(\n",
    "    torch.ones(num_batch, num_batch))\n",
    "batch_nm_0 = trans_0[noise_idx]\n",
    "batch_nm_1 = trans_1[gt_idx]\n",
    "batch_mask = res_mask[gt_idx]\n",
    "aligned_nm_0, aligned_nm_1, _ = du.batch_align_structures(\n",
    "    batch_nm_0, batch_nm_1, mask=batch_mask\n",
    ") \n",
    "aligned_nm_0 = aligned_nm_0.reshape(num_batch, num_batch, num_res, 3)\n",
    "aligned_nm_1 = aligned_nm_1.reshape(num_batch, num_batch, num_res, 3)\n",
    "\n",
    "# Compute cost matrix of aligned noise to ground truth\n",
    "batch_mask = batch_mask.reshape(num_batch, num_batch, num_res)\n",
    "cost_matrix = torch.sum(\n",
    "    torch.linalg.norm(aligned_nm_0 - aligned_nm_1, dim=-1), dim=-1\n",
    ") / torch.sum(batch_mask, dim=-1)\n",
    "noise_perm, gt_perm = linear_sum_assignment(du.to_numpy(cost_matrix))\n",
    "return aligned_nm_0[(tuple(gt_perm), tuple(noise_perm))]"
   ]
  },
  {
   "cell_type": "code",
   "execution_count": null,
   "metadata": {},
   "outputs": [],
   "source": [
    "    def _batch_ot(self, trans_0, trans_1, res_mask):\n",
    "        num_batch, num_res = trans_0.shape[:2]\n",
    "        noise_idx, gt_idx = torch.where(\n",
    "            torch.ones(num_batch, num_batch))\n",
    "        batch_nm_0 = trans_0[noise_idx]\n",
    "        batch_nm_1 = trans_1[gt_idx]\n",
    "        batch_mask = res_mask[gt_idx]\n",
    "        aligned_nm_0, aligned_nm_1, _ = du.batch_align_structures(\n",
    "            batch_nm_0, batch_nm_1, mask=batch_mask\n",
    "        ) \n",
    "        aligned_nm_0 = aligned_nm_0.reshape(num_batch, num_batch, num_res, 3)\n",
    "        aligned_nm_1 = aligned_nm_1.reshape(num_batch, num_batch, num_res, 3)\n",
    "        \n",
    "        # Compute cost matrix of aligned noise to ground truth\n",
    "        batch_mask = batch_mask.reshape(num_batch, num_batch, num_res)\n",
    "        cost_matrix = torch.sum(\n",
    "            torch.linalg.norm(aligned_nm_0 - aligned_nm_1, dim=-1), dim=-1\n",
    "        ) / torch.sum(batch_mask, dim=-1)\n",
    "        noise_perm, gt_perm = linear_sum_assignment(du.to_numpy(cost_matrix))\n",
    "        return aligned_nm_0[(tuple(gt_perm), tuple(noise_perm))]"
   ]
  },
  {
   "cell_type": "code",
   "execution_count": null,
   "metadata": {},
   "outputs": [],
   "source": []
  },
  {
   "cell_type": "code",
   "execution_count": null,
   "metadata": {},
   "outputs": [],
   "source": []
  },
  {
   "cell_type": "code",
   "execution_count": null,
   "metadata": {},
   "outputs": [],
   "source": []
  }
 ],
 "metadata": {
  "kernelspec": {
   "display_name": "Python 3 (ipykernel)",
   "language": "python",
   "name": "python3"
  },
  "language_info": {
   "codemirror_mode": {
    "name": "ipython",
    "version": 3
   },
   "file_extension": ".py",
   "mimetype": "text/x-python",
   "name": "python",
   "nbconvert_exporter": "python",
   "pygments_lexer": "ipython3",
   "version": "3.10.12"
  }
 },
 "nbformat": 4,
 "nbformat_minor": 4
}
