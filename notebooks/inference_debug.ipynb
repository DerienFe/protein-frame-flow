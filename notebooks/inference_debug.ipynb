{
 "cells": [
  {
   "cell_type": "code",
   "execution_count": null,
   "metadata": {},
   "outputs": [],
   "source": [
    "%load_ext autoreload\n",
    "%autoreload 2"
   ]
  },
  {
   "cell_type": "code",
   "execution_count": null,
   "metadata": {},
   "outputs": [],
   "source": [
    "import os\n",
    "from omegaconf import OmegaConf\n",
    "from models.flow_module import FlowModule\n",
    "import torch\n",
    "from data.pdb_dataloader import PdbDataModule\n",
    "import glob\n",
    "import GPUtil\n",
    "from data import utils as du\n",
    "import numpy as np\n",
    "import tree\n",
    "from data import so3_utils\n",
    "from data import all_atom\n",
    "from analysis import utils as au\n",
    "from openfold.utils.superimposition import superimpose\n",
    "import matplotlib.pyplot as plt\n",
    "\n",
    "def atom37_from_trans_rot(trans, rots, res_mask):\n",
    "        rigids = du.create_rigid(rots, trans)\n",
    "        atom37 = all_atom.compute_backbone(\n",
    "            rigids,\n",
    "            torch.zeros(\n",
    "                trans.shape[0],\n",
    "                trans.shape[1],\n",
    "                2,\n",
    "                device=trans.device\n",
    "            )\n",
    "        )[0]\n",
    "        atom37 = atom37.detach().cpu()\n",
    "        batch_atom37 = []\n",
    "        num_batch = res_mask.shape[0]\n",
    "        for i in range(num_batch):\n",
    "            batch_atom37.append(\n",
    "                du.adjust_oxygen_pos(atom37[i], res_mask[i])\n",
    "            )\n",
    "        return torch.stack(batch_atom37)\n",
    "\n",
    "def process_trans_rot_traj(trans_traj, rots_traj, res_mask):\n",
    "    res_mask = res_mask.detach().cpu()\n",
    "    atom37_traj = [\n",
    "         atom37_from_trans_rot(trans, rots, res_mask)\n",
    "         for trans, rots in zip(trans_traj, rots_traj) \n",
    "    ]\n",
    "    atom37_traj = torch.stack(atom37_traj).swapaxes(0, 1)\n",
    "    return atom37_traj "
   ]
  },
  {
   "cell_type": "code",
   "execution_count": null,
   "metadata": {},
   "outputs": [],
   "source": [
    "save_dir = 'notebook_samples/'\n",
    "num_timesteps = 100\n",
    "os.makedirs(save_dir, exist_ok=True)"
   ]
  },
  {
   "cell_type": "code",
   "execution_count": null,
   "metadata": {},
   "outputs": [],
   "source": [
    "# Setup lightning module\n",
    "\n",
    "ckpt_dir = 'ckpt/se3-fm/baseline_fixed/2023-09-13_08-12-53'\n",
    "# ckpt_dir = 'ckpt/se3-fm/warm_start_dist_loss/2023-09-15_00-51-09'\n",
    "\n",
    "ckpt_path = sorted(glob.glob(os.path.join(ckpt_dir, '*.ckpt')))[-1]\n",
    "print(ckpt_path)\n",
    "\n",
    "cfg_path = os.path.join(ckpt_dir, 'config.yaml')\n",
    "ckpt_cfg = OmegaConf.load(cfg_path)\n",
    "base_path = 'configs/base.yaml'\n",
    "base_cfg = OmegaConf.load(base_path)\n",
    "\n",
    "OmegaConf.set_struct(base_cfg, False)\n",
    "OmegaConf.set_struct(ckpt_cfg, False)\n",
    "cfg = OmegaConf.merge(base_cfg, ckpt_cfg)\n",
    "cfg.experiment.checkpointer.dirpath = './'\n",
    "\n",
    "flow = FlowModule.load_from_checkpoint(\n",
    "    checkpoint_path=ckpt_path,\n",
    "    model_cfg=cfg.model,\n",
    "    experiment_cfg=cfg.experiment\n",
    ") \n",
    "_ = flow.eval()"
   ]
  },
  {
   "cell_type": "code",
   "execution_count": null,
   "metadata": {},
   "outputs": [],
   "source": [
    "# Set up data module\n",
    "data_module = PdbDataModule(cfg.data)\n",
    "data_module.setup('fit')\n",
    "train_dataloader = data_module.train_dataloader(\n",
    "    num_replicas=1,\n",
    "    rank=1\n",
    ")\n",
    "data_iter = iter(train_dataloader)\n"
   ]
  },
  {
   "cell_type": "code",
   "execution_count": null,
   "metadata": {},
   "outputs": [],
   "source": [
    "# Search for a reasonable batch\n",
    "stop_search = False\n",
    "while not stop_search: \n",
    "    batch = next(data_iter)\n",
    "    num_batch, num_res, _ = batch['trans_1'].shape\n",
    "    if num_res > 100:\n",
    "        stop_search = True\n",
    "\n",
    "print(f'Found batch with {num_res} residues, {num_batch} batch size')\n",
    "\n",
    "# Set up device and cuda\n",
    "num_batch, num_res, _ = batch['trans_1'].shape\n",
    "cuda_id = GPUtil.getAvailable(order='memory', limit = 8)[0]\n",
    "device = f'cuda:{cuda_id}'\n",
    "# device = 'cpu'\n",
    "print(f'Using device {device}')\n",
    "flow.model = flow.model.to(device)\n",
    "batch = tree.map_structure(lambda x: x.to(device), batch)\n",
    "num_batch = batch['res_mask'].shape[0]"
   ]
  },
  {
   "cell_type": "code",
   "execution_count": null,
   "metadata": {},
   "outputs": [],
   "source": []
  },
  {
   "cell_type": "markdown",
   "metadata": {},
   "source": [
    "# Model prediction at different timesteps"
   ]
  },
  {
   "cell_type": "code",
   "execution_count": null,
   "metadata": {},
   "outputs": [],
   "source": [
    "gt_ca_pos = batch['trans_1']\n",
    "device = gt_ca_pos.device\n",
    "num_batch = gt_ca_pos.shape[0]\n",
    "ts = np.linspace(1e-3, 1.0, num_timesteps)\n",
    "all_pred_transrot = []\n",
    "all_gt_atom37 = []\n",
    "for i,t in enumerate(ts):\n",
    "    if i % 100 == 0:\n",
    "        print(f'On t={t:.2f}')\n",
    "    batch_t = torch.ones(num_batch, 1, 1, device=device) * t\n",
    "    noisy_batch = flow._corrupt_batch(batch, t=batch_t)\n",
    "    noisy_batch['t']\n",
    "    with torch.no_grad():\n",
    "        model_out = flow.forward(noisy_batch)\n",
    "    all_pred_transrot.append((model_out['pred_trans'], model_out['pred_rotmats']))\n",
    "    gt_trans_t = noisy_batch['trans_t']\n",
    "    gt_rotmats_t = noisy_batch['rotmats_t']\n",
    "\n",
    "    noisy_gt_atom37 = atom37_from_trans_rot(\n",
    "        gt_trans_t.detach().cpu(),\n",
    "        gt_rotmats_t.detach().cpu(),\n",
    "        noisy_batch['res_mask'].detach().cpu()\n",
    "    )\n",
    "    noisy_gt_atom37 = du.to_numpy(noisy_gt_atom37)\n",
    "    all_gt_atom37.append(noisy_gt_atom37)\n",
    "\n"
   ]
  },
  {
   "cell_type": "code",
   "execution_count": null,
   "metadata": {},
   "outputs": [],
   "source": [
    "all_pred_rotvecs = du.to_numpy(so3_utils.rotmat_to_rotvec(torch.stack([x[1] for x in all_pred_transrot])))\n",
    "gt_rotvec = du.to_numpy(so3_utils.rotmat_to_rotvec(batch['rotmats_1']))\n",
    "pred_rot_error = np.mean(np.linalg.norm(all_pred_rotvecs - gt_rotvec[None], axis=-1), axis=-1)\n",
    "mean_rot_error = np.mean(pred_rot_error, axis=-1)"
   ]
  },
  {
   "cell_type": "code",
   "execution_count": null,
   "metadata": {},
   "outputs": [],
   "source": [
    "for i in range(pred_rot_error.shape[1]):\n",
    "    plt.plot(ts, pred_rot_error[:, i])\n",
    "plt.xlabel('t')\n",
    "plt.ylabel('RMSD')\n",
    "plt.suptitle('RMSD between model\\'s r_0 output and ground truth')"
   ]
  },
  {
   "cell_type": "code",
   "execution_count": null,
   "metadata": {},
   "outputs": [],
   "source": [
    "plt.plot(ts, mean_rot_error)\n",
    "plt.xlabel('t')\n",
    "plt.ylabel('RMSD to ground truth')"
   ]
  },
  {
   "cell_type": "code",
   "execution_count": null,
   "metadata": {},
   "outputs": [],
   "source": []
  },
  {
   "cell_type": "code",
   "execution_count": null,
   "metadata": {},
   "outputs": [],
   "source": [
    "# Save samples\n",
    "all_pred_ca = np.stack(all_pred_ca)\n",
    "all_pred_atom37 = np.stack(all_atom.transrot_to_atom37(\n",
    "    all_pred_transrot,\n",
    "    noisy_batch['res_mask']\n",
    "))\n",
    "\n",
    "os.makedirs(save_dir, exist_ok=True)\n",
    "num_timesteps, num_batch, num_res, _, _ = all_pred_atom37.shape\n",
    "\n",
    "for i in list(np.linspace(0, num_timesteps-1, 10).astype(int)):\n",
    "    t = ts[i]\n",
    "    atom37_t = all_pred_atom37[i]\n",
    "    _ = au.write_prot_to_pdb(\n",
    "        atom37_t,\n",
    "        os.path.join(\n",
    "            save_dir,\n",
    "            f'model_out_len_{num_res}_t_{t:.2f}.pdb'),\n",
    "        no_indexing=True\n",
    "    )\n",
    "    _ = au.write_prot_to_pdb(\n",
    "        all_gt_atom37[i],\n",
    "        os.path.join(\n",
    "            save_dir,\n",
    "            f'gt_len_{num_res}_t_{t:.2f}.pdb'),\n",
    "        no_indexing=True)\n",
    "    \n",
    "    print(f'Done with sample {i}, t={t:.2f}')"
   ]
  },
  {
   "cell_type": "code",
   "execution_count": null,
   "metadata": {},
   "outputs": [],
   "source": [
    "res_mask = batch['res_mask']\n",
    "aligned_sample_ca, aligned_rmsd = superimpose(\n",
    "    torch.tensor(gt_ca_pos)[None].repeat(num_timesteps, 1, 1, 1),\n",
    "    torch.tensor(all_pred_ca).to(gt_ca_pos.device),\n",
    "    res_mask[None].repeat(num_timesteps, 1, 1)\n",
    ")\n",
    "# torch.mean(aligned_rmsd)\n",
    "ts_rmsd = du.to_numpy(torch.mean(aligned_rmsd, dim=-1))\n",
    "\n",
    "plt.plot(ts, ts_rmsd)\n",
    "plt.xlabel('t')\n",
    "plt.ylabel('RMSD to ground truth')\n",
    "# plt.plot(ts, noisy_rmsds)"
   ]
  },
  {
   "cell_type": "code",
   "execution_count": null,
   "metadata": {},
   "outputs": [],
   "source": [
    "np_rmsd = du.to_numpy(aligned_rmsd)\n",
    "for i in range(np_rmsd.shape[1]):\n",
    "    plt.plot(ts, np_rmsd[:, i])\n",
    "plt.xlabel('t')\n",
    "plt.ylabel('RMSD')\n",
    "plt.suptitle('RMSD between model\\'s x_0 output and ground truth')"
   ]
  },
  {
   "cell_type": "code",
   "execution_count": null,
   "metadata": {},
   "outputs": [],
   "source": []
  },
  {
   "cell_type": "markdown",
   "metadata": {},
   "source": [
    "# Full sampling"
   ]
  },
  {
   "cell_type": "code",
   "execution_count": null,
   "metadata": {},
   "outputs": [],
   "source": [
    "min_t = 1e-3\n",
    "t = torch.ones(num_batch, 1, 1, device=device) * min_t\n",
    "res_mask = batch['res_mask']\n",
    "noisy_batch = flow._corrupt_batch(batch, t=t)\n",
    "noisy_batch['t'] = t\n",
    "do_sde = False\n",
    "debug_trans = False\n",
    "debug_rots = False\n",
    "\n",
    "gt_trans_1 = batch['trans_1']\n",
    "gt_rotmats_1 = batch['rotmats_1']\n",
    "\n",
    "gt_atom37 = atom37_from_trans_rot(\n",
    "    gt_trans_1.detach().cpu(),\n",
    "    gt_rotmats_1.detach().cpu(),\n",
    "    res_mask.detach().cpu()\n",
    ")\n",
    "gt_atom37 = du.to_numpy(gt_atom37)"
   ]
  },
  {
   "cell_type": "markdown",
   "metadata": {},
   "source": [
    "## Sampling with class"
   ]
  },
  {
   "cell_type": "code",
   "execution_count": null,
   "metadata": {},
   "outputs": [],
   "source": [
    "atom37_traj, model_traj = flow.run_sampling(\n",
    "    (noisy_batch, None),\n",
    "    return_traj=True,\n",
    "    return_model_outputs=True,\n",
    "    num_timesteps=num_timesteps,\n",
    "    do_sde=do_sde,\n",
    "    debug_trans=debug_trans,\n",
    "    debug_rots=debug_rots,\n",
    ")\n",
    "atom37_traj = np.stack(atom37_traj).swapaxes(0, 1)\n",
    "model_traj = np.stack(model_traj).swapaxes(0, 1)"
   ]
  },
  {
   "cell_type": "code",
   "execution_count": null,
   "metadata": {},
   "outputs": [],
   "source": []
  },
  {
   "cell_type": "markdown",
   "metadata": {},
   "source": [
    "## Manual sampling"
   ]
  },
  {
   "cell_type": "code",
   "execution_count": null,
   "metadata": {},
   "outputs": [],
   "source": [
    "# Run sampling\n",
    "trans_traj = [noisy_batch['trans_t']]\n",
    "rots_traj = [noisy_batch['rotmats_t']]\n",
    "ts = np.linspace(min_t, 1.0, num_timesteps)\n",
    "t_1 = ts[0]\n",
    "all_pred_transrot = []\n",
    "trans_vf_traj = []\n",
    "for i,t_2 in enumerate(ts[1:]):\n",
    "    if (i+1) % 100 == 0:\n",
    "        print(f\"Step {i+1} / {len(ts)}\")\n",
    "    d_t = t_2 - t_1\n",
    "    trans_t_1 = trans_traj[-1]\n",
    "    rots_t_1 = rots_traj[-1]\n",
    "    with torch.no_grad():\n",
    "        noisy_batch['trans_t'] = trans_t_1\n",
    "        noisy_batch['rotmats_t'] = rots_t_1\n",
    "        noisy_batch['t'] = torch.ones((num_batch, 1)).to(device) * t_1\n",
    "        model_out = flow.forward(noisy_batch)\n",
    "\n",
    "    pred_trans_1 = model_out['pred_trans']\n",
    "    # pred_trans_1 = batch['trans_1']\n",
    "    pred_rots_1 = model_out['pred_rotmats']\n",
    "    # pred_rots_1 = batch['rotmats_1']\n",
    "    pred_rots_vf = model_out['pred_rots_vf']\n",
    "    all_pred_transrot.append((pred_trans_1, pred_rots_1))\n",
    "\n",
    "    trans_vf = (pred_trans_1 - trans_t_1) / (1 - t_1)\n",
    "    trans_t_2 = trans_t_1 + trans_vf * d_t\n",
    "    rots_t_2 = so3_utils.geodesic_t(\n",
    "        d_t / (1 - t_1), pred_rots_1, rots_t_1)\n",
    "    t_1 = t_2\n",
    "    trans_traj.append(trans_t_2)\n",
    "    rots_traj.append(rots_t_2)\n",
    "\n",
    "res_mask = noisy_batch['res_mask']\n",
    "all_pred_atom37 = np.stack(all_atom.transrot_to_atom37(\n",
    "    all_pred_transrot,\n",
    "    res_mask\n",
    "))\n",
    "atom37_traj = process_trans_rot_traj(trans_traj, rots_traj, res_mask)\n",
    "final_ca_pos = atom37_traj[:, -1, :, 1]\n",
    "gt_ca_pos = noisy_batch['trans_1']\n",
    "atom37_traj = du.to_numpy(atom37_traj)\n"
   ]
  },
  {
   "cell_type": "code",
   "execution_count": null,
   "metadata": {},
   "outputs": [],
   "source": [
    "all_pred_trans = du.to_numpy(torch.stack([x[0] for x in all_pred_transrot]))\n",
    "all_pred_rotmats = torch.stack([x[1] for x in all_pred_transrot])\n",
    "all_pred_rotvecs = du.to_numpy(so3_utils.rotmat_to_rotvec(all_pred_rotmats))\n"
   ]
  },
  {
   "cell_type": "code",
   "execution_count": null,
   "metadata": {},
   "outputs": [],
   "source": [
    "single_pred_rotvecs = all_pred_rotvecs[:, 0]\n",
    "single_pred_trans = all_pred_trans[:, 0]\n",
    "single_gt_rotvec = du.to_numpy(so3_utils.rotmat_to_rotvec(gt_rotmats_1[0]))\n",
    "single_gt_trans = du.to_numpy(gt_trans_1[0])\n",
    "\n",
    "rot_error = np.mean(np.linalg.norm(single_pred_rotvecs - single_gt_rotvec[None], axis=-1), axis=-1)\n",
    "trans_error = np.mean(np.linalg.norm(single_pred_trans - single_gt_trans[None], axis=-1), axis=-1)"
   ]
  },
  {
   "cell_type": "code",
   "execution_count": null,
   "metadata": {},
   "outputs": [],
   "source": [
    "final_pred_trans = single_pred_trans[-1]\n",
    "trans_linearity_dev = np.mean(np.linalg.norm(single_pred_trans - final_pred_trans[None], axis=-1), axis=-1)"
   ]
  },
  {
   "cell_type": "code",
   "execution_count": null,
   "metadata": {},
   "outputs": [],
   "source": [
    "plt.figure(figsize=(10, 10))\n",
    "plt.plot(ts[1:], trans_linearity_dev)\n",
    "plt.xlabel('t')\n",
    "plt.ylabel('RMSD')\n",
    "plt.title('Linear deviation')"
   ]
  },
  {
   "cell_type": "code",
   "execution_count": null,
   "metadata": {},
   "outputs": [],
   "source": [
    "trans_linearity_dev.shape"
   ]
  },
  {
   "cell_type": "code",
   "execution_count": null,
   "metadata": {},
   "outputs": [],
   "source": []
  },
  {
   "cell_type": "code",
   "execution_count": null,
   "metadata": {},
   "outputs": [],
   "source": [
    "plt.figure(figsize=(10, 10))\n",
    "plt.plot(ts[1:], trans_error)\n",
    "plt.xlabel('t')\n",
    "plt.ylabel('RMSD')\n",
    "plt.title(r'RMSD between $x_t$, $x_1$')"
   ]
  },
  {
   "cell_type": "code",
   "execution_count": null,
   "metadata": {},
   "outputs": [],
   "source": [
    "plt.figure(figsize=(10, 10))\n",
    "plt.plot(ts[1:], rot_error)\n",
    "plt.xlabel('t')\n",
    "plt.ylabel('RMSD')\n",
    "plt.title(r'RMSD between $r_t$, $r_1$')"
   ]
  },
  {
   "cell_type": "code",
   "execution_count": null,
   "metadata": {},
   "outputs": [],
   "source": []
  },
  {
   "cell_type": "code",
   "execution_count": null,
   "metadata": {},
   "outputs": [],
   "source": [
    "single_atom37_traj = atom37_traj[0, :, :, :3]\n",
    "single_gt_atom_traj = gt_atom37[0, :, :3]"
   ]
  },
  {
   "cell_type": "code",
   "execution_count": null,
   "metadata": {},
   "outputs": [],
   "source": [
    "pred_bb_atom_traj = single_atom37_traj.reshape(num_timesteps, num_res*3, 3)\n",
    "pred_dist_mat_traj = np.linalg.norm(\n",
    "    pred_bb_atom_traj[:, None, :, :] - pred_bb_atom_traj[:, :, None, :], axis=-1)\n",
    "\n",
    "gt_bb_atom_traj = single_gt_atom_traj.reshape(num_res*3, 3)\n",
    "gt_dist_mat_traj = np.linalg.norm(\n",
    "    gt_bb_atom_traj[None, :, :] - gt_bb_atom_traj[:, None, :], axis=-1)\n",
    "\n",
    "# pred_dist_mat = "
   ]
  },
  {
   "cell_type": "code",
   "execution_count": null,
   "metadata": {},
   "outputs": [],
   "source": [
    "dist_mat_error = np.mean(np.abs(pred_dist_mat_traj - gt_dist_mat_traj[None]), axis=(-1, -2))"
   ]
  },
  {
   "cell_type": "code",
   "execution_count": null,
   "metadata": {},
   "outputs": [],
   "source": [
    "plt.figure(figsize=(10, 10))\n",
    "plt.plot(ts, dist_mat_error)\n",
    "plt.xlabel('t')\n",
    "plt.ylabel('Distance matrix RMSD')\n",
    "# plt.title(r'RMSD between $r_t$, $r_1$')"
   ]
  },
  {
   "cell_type": "code",
   "execution_count": null,
   "metadata": {},
   "outputs": [],
   "source": [
    "single_atom37_traj.shape"
   ]
  },
  {
   "cell_type": "code",
   "execution_count": null,
   "metadata": {},
   "outputs": [],
   "source": [
    "pred_ca_traj = single_atom37_traj[:, :, 1]\n",
    "pred_dist_mat_traj = np.linalg.norm(\n",
    "    pred_ca_traj[:, None, :, :] - pred_ca_traj[:, :, None, :], axis=-1)\n",
    "\n",
    "gt_ca_traj = single_gt_atom_traj[:, 1]\n",
    "gt_dist_mat_traj = np.linalg.norm(\n",
    "    gt_ca_traj[None, :, :] - gt_ca_traj[:, None, :], axis=-1)\n"
   ]
  },
  {
   "cell_type": "code",
   "execution_count": null,
   "metadata": {},
   "outputs": [],
   "source": [
    "ca_dist_mat_error = np.mean(np.abs(pred_dist_mat_traj - gt_dist_mat_traj[None]), axis=(-1, -2))"
   ]
  },
  {
   "cell_type": "code",
   "execution_count": null,
   "metadata": {},
   "outputs": [],
   "source": [
    "plt.figure(figsize=(10, 10))\n",
    "plt.plot(ts, ca_dist_mat_error)\n",
    "plt.xlabel('t')\n",
    "plt.ylabel('C-alpha distance matrix RMSD')\n",
    "# plt.title(r'RMSD between $r_t$, $r_1$')"
   ]
  },
  {
   "cell_type": "code",
   "execution_count": null,
   "metadata": {},
   "outputs": [],
   "source": []
  },
  {
   "cell_type": "code",
   "execution_count": null,
   "metadata": {},
   "outputs": [],
   "source": [
    "gt_rotvec = so3_utils.rotmat_to_rotvec(gt_rotmats_1)[0]\n",
    "\n",
    "all_rotmats_t = torch.stack(rots_traj)[:, 0]\n",
    "all_rotvecs_t = so3_utils.rotmat_to_rotvec(all_rotmats_t)\n",
    "\n",
    "all_rot_dist_t = du.to_numpy(torch.linalg.norm(all_rotvecs_t - gt_rotvec[None], dim=-1))\n",
    "\n",
    "mean_rot_dist_t = np.mean(all_rot_dist_t, axis=-1)"
   ]
  },
  {
   "cell_type": "code",
   "execution_count": null,
   "metadata": {},
   "outputs": [],
   "source": [
    "all_rot_dist_t.shape"
   ]
  },
  {
   "cell_type": "code",
   "execution_count": null,
   "metadata": {},
   "outputs": [],
   "source": [
    "all_t = np.ones_like(all_rot_dist_t) * ts[:, None]"
   ]
  },
  {
   "cell_type": "code",
   "execution_count": null,
   "metadata": {},
   "outputs": [],
   "source": [
    "plt.figure(figsize=(10, 10))\n",
    "plt.plot(mean_rot_dist_t)\n",
    "plt.xlabel('t')\n",
    "plt.ylabel('RMSD')\n",
    "plt.title(r'RMSD between $r_t$, $r_1$')"
   ]
  },
  {
   "cell_type": "code",
   "execution_count": null,
   "metadata": {},
   "outputs": [],
   "source": [
    "plt.figure(figsize=(10, 10))\n",
    "plt.scatter(all_t.flatten(), all_rot_dist_t.flatten())\n",
    "plt.xlabel('t')\n",
    "plt.ylabel('RMSD')\n",
    "plt.title(r'RMSD between $r_t$, $r_1$')"
   ]
  },
  {
   "cell_type": "code",
   "execution_count": null,
   "metadata": {},
   "outputs": [],
   "source": [
    "mean_rot_dist_t.shape"
   ]
  },
  {
   "cell_type": "code",
   "execution_count": null,
   "metadata": {},
   "outputs": [],
   "source": [
    "plt.figure(figsize=(10, 10))\n",
    "plt.scatter(ts, mean_rot_dist_t)\n",
    "plt.xlabel('t')\n",
    "plt.ylabel('RMSD')\n",
    "plt.title(r'RMSD between $r_t$, $r_1$')"
   ]
  },
  {
   "cell_type": "code",
   "execution_count": null,
   "metadata": {},
   "outputs": [],
   "source": []
  },
  {
   "cell_type": "markdown",
   "metadata": {},
   "source": [
    "## Save samples"
   ]
  },
  {
   "cell_type": "code",
   "execution_count": null,
   "metadata": {},
   "outputs": [],
   "source": [
    "# Save samples\n",
    "os.makedirs(save_dir, exist_ok=True)\n",
    "num_batch, num_timesteps, num_res, _, _ = atom37_traj.shape\n",
    "max_save = 5\n",
    "for i, sample_traj in enumerate(atom37_traj):\n",
    "    if i >= max_save:\n",
    "        break\n",
    "    traj_path = au.write_prot_to_pdb(\n",
    "        sample_traj,\n",
    "        os.path.join(\n",
    "            save_dir,\n",
    "            f'traj_{i}_len_{num_res}_t_{num_timesteps}.pdb'),\n",
    "        no_indexing=True\n",
    "    )\n",
    "    sample_path = au.write_prot_to_pdb(\n",
    "        sample_traj[-1],\n",
    "        os.path.join(\n",
    "            save_dir,\n",
    "            f'sample_{i}_len_{num_res}_ts_{num_timesteps}.pdb'),\n",
    "        no_indexing=True\n",
    "    )\n",
    "    _ = au.write_prot_to_pdb(\n",
    "        all_pred_atom37[-1, i],\n",
    "        os.path.join(\n",
    "            save_dir,\n",
    "            f'final_model_out_{i}_len_{num_res}_ts_{num_timesteps}.pdb'),\n",
    "        no_indexing=True\n",
    "    )\n",
    "    _ = au.write_prot_to_pdb(\n",
    "        all_pred_atom37[:, i],\n",
    "        os.path.join(\n",
    "            save_dir,\n",
    "            f'pred_traj_{i}_len_{num_res}_ts_{num_timesteps}.pdb'),\n",
    "        no_indexing=True\n",
    "    )  \n",
    "    _ = au.write_prot_to_pdb(\n",
    "        gt_atom37[i],\n",
    "        os.path.join(\n",
    "            save_dir,\n",
    "            f'gt_{i}_len_{num_res}_ts_{num_timesteps}.pdb',\n",
    "        ),\n",
    "        no_indexing=True\n",
    "    )\n",
    "    print(f'Done with sample {i}')\n",
    "final_samples = atom37_traj[:, -1]\n",
    "_ = au.write_prot_to_pdb(\n",
    "    final_samples,\n",
    "    os.path.join(\n",
    "        save_dir,\n",
    "        'all_samples.pdb'),\n",
    "    no_indexing=True\n",
    ")\n"
   ]
  },
  {
   "cell_type": "code",
   "execution_count": null,
   "metadata": {},
   "outputs": [],
   "source": [
    "all_pred_atom37.shape"
   ]
  },
  {
   "cell_type": "code",
   "execution_count": null,
   "metadata": {},
   "outputs": [],
   "source": [
    "# Save samples\n",
    "os.makedirs(save_dir, exist_ok=True)\n",
    "num_batch, num_timesteps, num_res, _, _ = atom37_traj.shape\n",
    "max_save = 5\n",
    "for i, sample_traj in enumerate(atom37_traj):\n",
    "    if i >= max_save:\n",
    "        break\n",
    "    for j in list(np.linspace(0, num_timesteps-2, 10).astype(int)):\n",
    "        t = f'{ts[j]:.2f}'.replace('.', '')\n",
    "        _ = au.write_prot_to_pdb(\n",
    "            all_pred_atom37[j, i],\n",
    "            os.path.join(\n",
    "                save_dir,\n",
    "                f'model_out_{i}_t_{t}_len_{num_res}_ts_{num_timesteps}.pdb'),\n",
    "            no_indexing=True\n",
    "        )\n"
   ]
  },
  {
   "cell_type": "code",
   "execution_count": null,
   "metadata": {},
   "outputs": [],
   "source": []
  }
 ],
 "metadata": {
  "kernelspec": {
   "display_name": "fm",
   "language": "python",
   "name": "python3"
  },
  "language_info": {
   "codemirror_mode": {
    "name": "ipython",
    "version": 3
   },
   "file_extension": ".py",
   "mimetype": "text/x-python",
   "name": "python",
   "nbconvert_exporter": "python",
   "pygments_lexer": "ipython3",
   "version": "3.10.12"
  },
  "orig_nbformat": 4
 },
 "nbformat": 4,
 "nbformat_minor": 2
}
