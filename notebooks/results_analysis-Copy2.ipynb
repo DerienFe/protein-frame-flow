{
 "cells": [
  {
   "cell_type": "code",
   "execution_count": 1,
   "metadata": {},
   "outputs": [],
   "source": [
    "%load_ext autoreload\n",
    "%autoreload 2"
   ]
  },
  {
   "cell_type": "code",
   "execution_count": 2,
   "metadata": {},
   "outputs": [],
   "source": [
    "import os\n",
    "from omegaconf import OmegaConf\n",
    "from models.flow_module import FlowModule\n",
    "import torch\n",
    "from data.pdb_dataloader import PdbDataModule\n",
    "import glob\n",
    "import GPUtil\n",
    "from data import utils as du\n",
    "import numpy as np\n",
    "import tree\n",
    "from data import so3_utils\n",
    "from data import all_atom\n",
    "from analysis import utils as au\n",
    "from openfold.utils.superimposition import superimpose\n",
    "import matplotlib.pyplot as plt\n",
    "import pandas as pd\n",
    "import shutil\n",
    "from openfold.utils.superimposition import superimpose\n"
   ]
  },
  {
   "cell_type": "code",
   "execution_count": 3,
   "metadata": {},
   "outputs": [],
   "source": [
    "def calc_novelty(novelty_path):\n",
    "    foldseek_df = {\n",
    "        'sample': [],\n",
    "        'alntm': [],\n",
    "    }\n",
    "    with open(novelty_path) as file:\n",
    "        for item in file:\n",
    "            file, _, _, tm_score = item.split('\\t')\n",
    "            tm_score = float(tm_score)\n",
    "            foldseek_df['sample'].append(file)\n",
    "            foldseek_df['alntm'].append(tm_score)\n",
    "    foldseek_df = pd.DataFrame(foldseek_df)\n",
    "    novelty_summary = foldseek_df.groupby('sample').agg({'alntm': 'max'}).reset_index()\n",
    "    return novelty_summary\n"
   ]
  },
  {
   "cell_type": "markdown",
   "metadata": {
    "jp-MarkdownHeadingCollapsed": true
   },
   "source": [
    "# FrameFlow analysis"
   ]
  },
  {
   "cell_type": "code",
   "execution_count": 81,
   "metadata": {},
   "outputs": [
    {
     "name": "stdout",
     "output_type": "stream",
     "text": [
      "Designable percent: 0.42. Designable number: 288\n"
     ]
    }
   ],
   "source": [
    "# 100 timestep\n",
    "results_dir = '/data/rsg/chemistry/jyim/projects/flow-matching/inference_outputs/large_model_2023-09-30_15-47-47_epoch=244-step=241325/ts_100/frame_mpnn/ode'\n",
    "all_csvs = glob.glob(os.path.join(results_dir, '*/top_samples.csv'))\n",
    "all_results_csv = []\n",
    "for csv in all_csvs:\n",
    "    csv_df = pd.read_csv(csv)\n",
    "    all_results_csv.append(csv_df)\n",
    "results_df = pd.concat(all_results_csv)\n",
    "designable_df = results_df[results_df.rmsd < 2.0]\n",
    "designable_percent = (results_df.rmsd < 2.0).mean()\n",
    "print(f'Designable percent: {designable_percent:.2f}. Designable number: {designable_df.shape[0]}')\n",
    "\n",
    "# Write samples to a directory for diversity calculation.\n",
    "write_dir = '/data/rsg/chemistry/jyim/third_party/frameflow_samples/ts_100'\n",
    "os.makedirs(write_dir, exist_ok=True)\n",
    "pdb_list_path = os.path.join(write_dir, 'filename.txt')\n",
    "with open(pdb_list_path, 'w') as f:\n",
    "    for (_, row) in designable_df.iterrows():\n",
    "        pdb_path = row.esmf_pdb_path.replace('./', '../')\n",
    "        length = row.length\n",
    "        sample_id = row.sample_id\n",
    "        write_path = os.path.join(write_dir, f'len_{length}_id_{sample_id}.pdb')\n",
    "        f.write(write_path + '\\n')\n",
    "        shutil.copy(pdb_path, write_path)"
   ]
  },
  {
   "cell_type": "markdown",
   "metadata": {},
   "source": [
    "./maxcluster64bit -l \\\n",
    "/data/rsg/chemistry/jyim/third_party/frameflow_samples/ts_100/filename.txt \\\n",
    "-C 2 -in -Rl /data/rsg/chemistry/jyim/third_party/frameflow_samples/ts_100/all_by_all_lite \\\n",
    "-TM -Tm 0.5 > /data/rsg/chemistry/jyim/third_party/frameflow_samples/ts_100//maxcluster_results.txt"
   ]
  },
  {
   "cell_type": "code",
   "execution_count": 85,
   "metadata": {},
   "outputs": [
    {
     "data": {
      "text/plain": [
       "0.19130434782608696"
      ]
     },
     "execution_count": 85,
     "metadata": {},
     "output_type": "execute_result"
    }
   ],
   "source": [
    "132 / 690"
   ]
  },
  {
   "cell_type": "code",
   "execution_count": null,
   "metadata": {},
   "outputs": [],
   "source": [
    "foldseek easy-search /data/rsg/chemistry/jyim/third_party/frameflow_samples/ts_100 \\\n",
    "/Mounts/rbg-storage1/users/jyim/programs/foldseek/pdb aln_noise_01_seqs_100_esmf.m8 tmpFolder \\\n",
    "--alignment-type 1 --format-output 'query,target,alntmscore,lddt' --tmscore-threshold 0.0 --exhaustive-search --max-seqs 10000000000"
   ]
  },
  {
   "cell_type": "code",
   "execution_count": 5,
   "metadata": {},
   "outputs": [
    {
     "data": {
      "text/plain": [
       "0.6541659649122806"
      ]
     },
     "execution_count": 5,
     "metadata": {},
     "output_type": "execute_result"
    }
   ],
   "source": [
    "foldseek_results_path = '/data/rsg/chemistry/jyim/third_party/frameflow_samples/ts_100/aln_noise_01_seqs_100_esmf.m8'\n",
    "novelty_df = calc_novelty(foldseek_results_path)\n",
    "novelty_df.alntm.mean()"
   ]
  },
  {
   "cell_type": "code",
   "execution_count": null,
   "metadata": {},
   "outputs": [],
   "source": []
  },
  {
   "cell_type": "code",
   "execution_count": 76,
   "metadata": {},
   "outputs": [
    {
     "name": "stdout",
     "output_type": "stream",
     "text": [
      "Designable percent: 0.49. Designable number: 338\n"
     ]
    }
   ],
   "source": [
    "# 500 timestep\n",
    "results_dir = '/data/rsg/chemistry/jyim/projects/flow-matching/inference_outputs/large_model_2023-09-30_15-47-47_epoch=244-step=241325/ts_500/frame_mpnn/ode'\n",
    "all_csvs = glob.glob(os.path.join(results_dir, '*/top_samples.csv'))\n",
    "all_results_csv = []\n",
    "for csv in all_csvs:\n",
    "    csv_df = pd.read_csv(csv)\n",
    "    all_results_csv.append(csv_df)\n",
    "results_df = pd.concat(all_results_csv)\n",
    "designable_percent = (results_df.rmsd < 2.0).mean()\n",
    "designable_df = results_df[results_df.rmsd < 2.0]\n",
    "print(f'Designable percent: {designable_percent:.2f}. Designable number: {designable_df.shape[0]}')\n",
    "\n",
    "# Write samples to a directory for diversity calculation.\n",
    "write_dir = '/data/rsg/chemistry/jyim/third_party/frameflow_samples/ts_500'\n",
    "os.makedirs(write_dir, exist_ok=True)\n",
    "pdb_list_path = os.path.join(write_dir, 'filename.txt')\n",
    "with open(pdb_list_path, 'w') as f:\n",
    "    for (_, row) in designable_df.iterrows():\n",
    "        pdb_path = row.esmf_pdb_path.replace('./', '../')\n",
    "        length = row.length\n",
    "        sample_id = row.sample_id\n",
    "        write_path = os.path.join(write_dir, f'len_{length}_id_{sample_id}.pdb')\n",
    "        f.write(write_path + '\\n')\n",
    "        shutil.copy(pdb_path, write_path)"
   ]
  },
  {
   "cell_type": "markdown",
   "metadata": {},
   "source": [
    "./maxcluster64bit -l \\\n",
    "/data/rsg/chemistry/jyim/third_party/frameflow_samples/ts_500/filename.txt \\\n",
    "-C 2 -in -Rl /data/rsg/chemistry/jyim/third_party/frameflow_samples/ts_500//all_by_all_lite \\\n",
    "-TM -Tm 0.5 > /data/rsg/chemistry/jyim/third_party/frameflow_samples/ts_500//maxcluster_results.txt"
   ]
  },
  {
   "cell_type": "code",
   "execution_count": 86,
   "metadata": {},
   "outputs": [
    {
     "data": {
      "text/plain": [
       "0.1927536231884058"
      ]
     },
     "execution_count": 86,
     "metadata": {},
     "output_type": "execute_result"
    }
   ],
   "source": [
    "133 / 690"
   ]
  },
  {
   "cell_type": "markdown",
   "metadata": {},
   "source": [
    "foldseek easy-search /data/rsg/chemistry/jyim/third_party/frameflow_samples/ts_500 \\\n",
    "/Mounts/rbg-storage1/users/jyim/programs/foldseek/pdb aln_noise_01_seqs_100_esmf.m8 tmpFolder \\\n",
    "--alignment-type 1 --format-output 'query,target,alntmscore,lddt' --tmscore-threshold 0.0 --exhaustive-search --max-seqs 10000000000"
   ]
  },
  {
   "cell_type": "code",
   "execution_count": 6,
   "metadata": {},
   "outputs": [
    {
     "data": {
      "text/plain": [
       "0.6541659649122806"
      ]
     },
     "execution_count": 6,
     "metadata": {},
     "output_type": "execute_result"
    }
   ],
   "source": [
    "foldseek_results_path = '/data/rsg/chemistry/jyim/third_party/frameflow_samples/ts_500/aln_noise_01_seqs_100_esmf.m8'\n",
    "novelty_df = calc_novelty(foldseek_results_path)\n",
    "novelty_df.alntm.mean()"
   ]
  },
  {
   "cell_type": "code",
   "execution_count": 109,
   "metadata": {},
   "outputs": [],
   "source": []
  },
  {
   "cell_type": "markdown",
   "metadata": {
    "jp-MarkdownHeadingCollapsed": true
   },
   "source": [
    "# FrameDiff analysis"
   ]
  },
  {
   "cell_type": "code",
   "execution_count": 87,
   "metadata": {},
   "outputs": [],
   "source": [
    "def read_samples(results_dir):\n",
    "    all_csvs = []\n",
    "    print(f'Reading samples from {results_dir}')\n",
    "    for sample_length in os.listdir(results_dir):\n",
    "        if '.' in sample_length:\n",
    "            continue\n",
    "        length_dir = os.path.join(results_dir, sample_length)\n",
    "        length = int(sample_length.split('_')[1])\n",
    "        for i,sample_name in enumerate(os.listdir(length_dir)):\n",
    "            if '.' in sample_name:\n",
    "                continue\n",
    "            csv_path = os.path.join(length_dir, sample_name, 'self_consistency', 'sc_results.csv')\n",
    "            if os.path.exists(csv_path):\n",
    "                design_csv = pd.read_csv(csv_path, index_col=0)\n",
    "                design_csv['length'] = length\n",
    "                design_csv['sample_id'] = i\n",
    "                all_csvs.append(design_csv)\n",
    "    results_df = pd.concat(all_csvs)\n",
    "    return results_df\n",
    "\n",
    "\n",
    "def sc_filter(raw_df, metric):\n",
    "    # Pick best self-consistency sample\n",
    "    if metric == 'tm_score':\n",
    "        df = raw_df.sort_values('tm_score', ascending=False)\n",
    "        df['designable'] = df.tm_score.map(lambda x: x > 0.5)\n",
    "    elif metric == 'rmsd':\n",
    "        df = raw_df.sort_values('rmsd', ascending=True)\n",
    "        df['designable'] = df.rmsd.map(lambda x: x < 2.0)\n",
    "    else:\n",
    "        raise ValueError(f'Unknown metric {metric}')\n",
    "    df = df.groupby(['length', 'sample_id']).first().reset_index()\n",
    "    percent_designable = df['designable'].mean()\n",
    "    print(f'Percent designable: {percent_designable}')\n",
    "    return df"
   ]
  },
  {
   "cell_type": "code",
   "execution_count": 89,
   "metadata": {},
   "outputs": [
    {
     "name": "stdout",
     "output_type": "stream",
     "text": [
      "Reading samples from /Mounts/rbg-storage1/users/jyim/se3_diffusion_scope_results/scope_noise_scale_10\n",
      "Percent designable: 0.4221014492753623\n"
     ]
    }
   ],
   "source": [
    "# 500 timesteps\n",
    "results_dir = '/Mounts/rbg-storage1/users/jyim/se3_diffusion_scope_results/scope_noise_scale_10'\n",
    "samples_df = read_samples(results_dir)\n",
    "samples_df = samples_df[samples_df.sample_id < 8] # Ensure we only consider 8 sequences per backbone.\n",
    "\n",
    "scrmsd_results = sc_filter(samples_df, 'rmsd')\n",
    "designable_scrmsd = scrmsd_results[scrmsd_results.designable]\n",
    "\n",
    "# Write samples to a directory for diversity calculation.\n",
    "write_dir = '/data/rsg/chemistry/jyim/third_party/framediff_samples/ts_500'\n",
    "os.makedirs(write_dir, exist_ok=True)\n",
    "pdb_list_path = os.path.join(write_dir, 'filename.txt')\n",
    "with open(pdb_list_path, 'w') as f:\n",
    "    for (_, row) in designable_scrmsd.iterrows():\n",
    "        pdb_path = row.sample_path.replace('./inference_outputs/scope_noise_scale_10', '/Mounts/rbg-storage1/users/jyim/se3_diffusion_scope_results/scope_noise_scale_10')\n",
    "        length = row.length\n",
    "        sample_id = row.sample_id\n",
    "        write_path = os.path.join(write_dir, f'len_{length}_id_{sample_id}.pdb')\n",
    "        f.write(write_path + '\\n')\n",
    "        shutil.copy(pdb_path, write_path)\n"
   ]
  },
  {
   "cell_type": "markdown",
   "metadata": {},
   "source": [
    "./maxcluster64bit -l \\\n",
    "/data/rsg/chemistry/jyim/third_party/framediff_samples/ts_500/filename.txt \\\n",
    "-C 2 -in -Rl /data/rsg/chemistry/jyim/third_party/framediff_samples/ts_500//all_by_all_lite \\\n",
    "-TM -Tm 0.5 > /data/rsg/chemistry/jyim/third_party/framediff_samples/ts_500//maxcluster_results.txt"
   ]
  },
  {
   "cell_type": "code",
   "execution_count": 93,
   "metadata": {},
   "outputs": [
    {
     "data": {
      "text/plain": [
       "0.15217391304347827"
      ]
     },
     "execution_count": 93,
     "metadata": {},
     "output_type": "execute_result"
    }
   ],
   "source": [
    "84 / scrmsd_results.shape[0]"
   ]
  },
  {
   "cell_type": "markdown",
   "metadata": {},
   "source": [
    "foldseek easy-search /data/rsg/chemistry/jyim/third_party/framediff_samples/ts_500 \\\n",
    "/Mounts/rbg-storage1/users/jyim/programs/foldseek/pdb aln_noise_01_seqs_100_esmf.m8 tmpFolder \\\n",
    "--alignment-type 1 --format-output 'query,target,alntmscore,lddt' --tmscore-threshold 0.0 --exhaustive-search --max-seqs 10000000000"
   ]
  },
  {
   "cell_type": "code",
   "execution_count": 7,
   "metadata": {},
   "outputs": [
    {
     "data": {
      "text/plain": [
       "0.6625827893175075"
      ]
     },
     "execution_count": 7,
     "metadata": {},
     "output_type": "execute_result"
    }
   ],
   "source": [
    "foldseek_results_path = '/data/rsg/chemistry/jyim/third_party/framediff_samples/ts_500/aln_noise_01_seqs_100_esmf.m8'\n",
    "novelty_df = calc_novelty(foldseek_results_path)\n",
    "novelty_df.alntm.mean()"
   ]
  },
  {
   "cell_type": "code",
   "execution_count": null,
   "metadata": {},
   "outputs": [],
   "source": []
  },
  {
   "cell_type": "code",
   "execution_count": null,
   "metadata": {},
   "outputs": [],
   "source": []
  },
  {
   "cell_type": "code",
   "execution_count": 91,
   "metadata": {},
   "outputs": [
    {
     "name": "stdout",
     "output_type": "stream",
     "text": [
      "Reading samples from /Mounts/rbg-storage1/users/jyim/se3_diffusion_scope_results/scope_noise_scale_10_ts_100\n",
      "Percent designable: 0.3894927536231884\n"
     ]
    }
   ],
   "source": [
    "# 100 timesteps\n",
    "results_dir = '/Mounts/rbg-storage1/users/jyim/se3_diffusion_scope_results/scope_noise_scale_10_ts_100'\n",
    "samples_df = read_samples(results_dir)\n",
    "samples_df = samples_df[samples_df.sample_id < 8] # Ensure we only consider 8 sequences per backbone.\n",
    "\n",
    "scrmsd_results = sc_filter(samples_df, 'rmsd')\n",
    "designable_scrmsd = scrmsd_results[scrmsd_results.designable]\n",
    "\n",
    "# Write samples to a directory for diversity calculation.\n",
    "write_dir = '/data/rsg/chemistry/jyim/third_party/framediff_samples/ts_100'\n",
    "os.makedirs(write_dir, exist_ok=True)\n",
    "pdb_list_path = os.path.join(write_dir, 'filename.txt')\n",
    "with open(pdb_list_path, 'w') as f:\n",
    "    for (_, row) in designable_scrmsd.iterrows():\n",
    "        pdb_path = row.sample_path.replace('./inference_outputs/scope_noise_scale_10_ts_100', '/Mounts/rbg-storage1/users/jyim/se3_diffusion_scope_results/scope_noise_scale_10_ts_100')\n",
    "        length = row.length\n",
    "        sample_id = row.sample_id\n",
    "        write_path = os.path.join(write_dir, f'len_{length}_id_{sample_id}.pdb')\n",
    "        f.write(write_path + '\\n')\n",
    "        shutil.copy(pdb_path, write_path)\n"
   ]
  },
  {
   "cell_type": "markdown",
   "metadata": {},
   "source": [
    "./maxcluster64bit -l \\\n",
    "/data/rsg/chemistry/jyim/third_party/framediff_samples/ts_100/filename.txt \\\n",
    "-C 2 -in -Rl /data/rsg/chemistry/jyim/third_party/framediff_samples/ts_100//all_by_all_lite \\\n",
    "-TM -Tm 0.5 > /data/rsg/chemistry/jyim/third_party/framediff_samples/ts_100//maxcluster_results.txt"
   ]
  },
  {
   "cell_type": "code",
   "execution_count": 94,
   "metadata": {},
   "outputs": [
    {
     "data": {
      "text/plain": [
       "0.12318840579710146"
      ]
     },
     "execution_count": 94,
     "metadata": {},
     "output_type": "execute_result"
    }
   ],
   "source": [
    "68 / scrmsd_results.shape[0]"
   ]
  },
  {
   "cell_type": "markdown",
   "metadata": {},
   "source": [
    "foldseek easy-search /data/rsg/chemistry/jyim/third_party/framediff_samples/ts_100 \\\n",
    "/Mounts/rbg-storage1/users/jyim/programs/foldseek/pdb aln_noise_01_seqs_100_esmf.m8 tmpFolder \\\n",
    "--alignment-type 1 --format-output 'query,target,alntmscore,lddt' --tmscore-threshold 0.0 --exhaustive-search --max-seqs 10000000000"
   ]
  },
  {
   "cell_type": "code",
   "execution_count": 8,
   "metadata": {},
   "outputs": [
    {
     "data": {
      "text/plain": [
       "0.6652191588785048"
      ]
     },
     "execution_count": 8,
     "metadata": {},
     "output_type": "execute_result"
    }
   ],
   "source": [
    "foldseek_results_path = '/data/rsg/chemistry/jyim/third_party/framediff_samples/ts_100/aln_noise_01_seqs_100_esmf.m8'\n",
    "novelty_df = calc_novelty(foldseek_results_path)\n",
    "novelty_df.alntm.mean()"
   ]
  },
  {
   "cell_type": "code",
   "execution_count": null,
   "metadata": {},
   "outputs": [],
   "source": []
  },
  {
   "cell_type": "code",
   "execution_count": null,
   "metadata": {},
   "outputs": [],
   "source": []
  },
  {
   "cell_type": "markdown",
   "metadata": {},
   "source": [
    "# GENIE results"
   ]
  },
  {
   "cell_type": "code",
   "execution_count": 4,
   "metadata": {},
   "outputs": [],
   "source": [
    "def extract_ca(path):\n",
    "    pdb_feats = du.parse_pdb_feats('a', path)\n",
    "    return pdb_feats['bb_positions']"
   ]
  },
  {
   "cell_type": "code",
   "execution_count": 5,
   "metadata": {},
   "outputs": [],
   "source": [
    "genie_samples_dir = '/Mounts/rbg-storage1/users/jyim/genie_results/eval_results/eval_results/ts_750'\n",
    "designs_dir = os.path.join(genie_samples_dir, 'pdbs/*')\n",
    "structures_dir = os.path.join(genie_samples_dir, 'structures')"
   ]
  },
  {
   "cell_type": "code",
   "execution_count": 6,
   "metadata": {},
   "outputs": [
    {
     "name": "stdout",
     "output_type": "stream",
     "text": [
      "On 0/790\n",
      "On 50/790\n",
      "On 100/790\n",
      "On 150/790\n",
      "On 200/790\n",
      "On 250/790\n",
      "On 300/790\n",
      "On 350/790\n",
      "On 400/790\n",
      "On 450/790\n",
      "On 500/790\n",
      "On 550/790\n",
      "On 600/790\n",
      "On 650/790\n",
      "On 700/790\n",
      "Designability: 0.11014492753623188\n"
     ]
    }
   ],
   "source": [
    "designs_to_score = {\n",
    "    'sample_id': [],\n",
    "    'length': [],\n",
    "    'min_rmsd': [],\n",
    "    'pdb_path': []\n",
    "}\n",
    "all_samples = glob.glob(designs_dir)\n",
    "\n",
    "for i,design_path in enumerate(all_samples):\n",
    "    design_fname = os.path.basename(design_path).replace('.pdb', '')\n",
    "    length, sample_id = [int(x) for x in design_fname.split('_')]\n",
    "    if length < 60:\n",
    "        continue\n",
    "    # path_basename = '/'.join(design_path.split('/')[-2:])\n",
    "    # design_path = os.path.join(genie_samples_dir, path_basename)\n",
    "    design_pdb = extract_ca(design_path)\n",
    "    res_mask = np.ones_like(design_pdb)[:, 0]\n",
    "    max_tm = 0\n",
    "    min_rmsd = 1000\n",
    "    if i % 50 == 0:\n",
    "        print(f'On {i}/{len(all_samples)}')\n",
    "    for i in range(8):\n",
    "        resample_path = os.path.join(structures_dir, f'{design_fname}-resample_{i}.pdb')\n",
    "        resample_pdb = extract_ca(resample_path)\n",
    "        _, rmsd = superimpose(\n",
    "            torch.tensor(resample_pdb[None]),\n",
    "            torch.tensor(design_pdb[None]),\n",
    "            torch.tensor(res_mask[None])\n",
    "        )\n",
    "        if rmsd < min_rmsd:\n",
    "            min_rmsd = rmsd\n",
    "    designs_to_score['sample_id'].append(sample_id)\n",
    "    designs_to_score['length'].append(length)\n",
    "    designs_to_score['min_rmsd'].append(min_rmsd)\n",
    "    designs_to_score['pdb_path'].append(design_path)\n",
    "    \n",
    "results_df = pd.DataFrame(designs_to_score)\n",
    "designability = (results_df.min_rmsd < 2.0).mean()\n",
    "print(f'Designability: {designability}')"
   ]
  },
  {
   "cell_type": "code",
   "execution_count": 8,
   "metadata": {},
   "outputs": [],
   "source": [
    "genie_save_dir = '/data/rsg/chemistry/jyim/third_party/genie_samples/ts_750'\n",
    "os.makedirs(genie_save_dir, exist_ok=True)\n",
    "pdb_list_path = os.path.join(genie_save_dir, 'filename.txt')\n",
    "designable_df = results_df[results_df.min_rmsd < 2.0]\n",
    "with open(pdb_list_path, 'w') as f:\n",
    "    for path in designable_df.pdb_path:\n",
    "        fname = os.path.basename(path)\n",
    "        write_path = os.path.join(genie_save_dir, fname)\n",
    "        shutil.copy(path, write_path)\n",
    "        f.write(write_path + '\\n')"
   ]
  },
  {
   "cell_type": "markdown",
   "metadata": {},
   "source": [
    "foldseek easy-search /data/rsg/chemistry/jyim/third_party/genie_samples/ts_750 \\\n",
    "/Mounts/rbg-storage1/users/jyim/programs/foldseek/pdb aln_noise_01_seqs_100_esmf.m8 tmpFolder \\\n",
    "--alignment-type 1 --format-output 'query,target,alntmscore,lddt' --tmscore-threshold 0.0 --exhaustive-search --max-seqs 10000000000"
   ]
  },
  {
   "cell_type": "code",
   "execution_count": 14,
   "metadata": {},
   "outputs": [],
   "source": [
    "num_designable = (results_df.min_rmsd < 2.0).sum()"
   ]
  },
  {
   "cell_type": "code",
   "execution_count": 15,
   "metadata": {},
   "outputs": [
    {
     "data": {
      "text/plain": [
       "0.7894736842105263"
      ]
     },
     "execution_count": 15,
     "metadata": {},
     "output_type": "execute_result"
    }
   ],
   "source": [
    "60 / num_designable"
   ]
  },
  {
   "cell_type": "code",
   "execution_count": null,
   "metadata": {},
   "outputs": [],
   "source": [
    "./maxcluster64bit -l \\\n",
    "/data/rsg/chemistry/jyim/third_party/genie_samples/ts_750/filename.txt \\\n",
    "-C 2 -in -Rl /data/rsg/chemistry/jyim/third_party/genie_samples/ts_750/all_by_all_lite \\\n",
    "-TM -Tm 0.5 > /data/rsg/chemistry/jyim/third_party/genie_samples/ts_750/maxcluster_results.txt"
   ]
  },
  {
   "cell_type": "code",
   "execution_count": 10,
   "metadata": {},
   "outputs": [
    {
     "data": {
      "text/plain": [
       "0.5147700000000001"
      ]
     },
     "execution_count": 10,
     "metadata": {},
     "output_type": "execute_result"
    }
   ],
   "source": [
    "foldseek_results_path = '/data/rsg/chemistry/jyim/third_party/genie_samples/ts_750/aln_noise_01_seqs_100_esmf.m8'\n",
    "novelty_df = calc_novelty(foldseek_results_path)\n",
    "novelty_df.alntm.mean()"
   ]
  },
  {
   "cell_type": "code",
   "execution_count": null,
   "metadata": {},
   "outputs": [],
   "source": []
  },
  {
   "cell_type": "code",
   "execution_count": null,
   "metadata": {},
   "outputs": [],
   "source": []
  },
  {
   "cell_type": "code",
   "execution_count": null,
   "metadata": {},
   "outputs": [],
   "source": []
  }
 ],
 "metadata": {
  "kernelspec": {
   "display_name": "Python 3 (ipykernel)",
   "language": "python",
   "name": "python3"
  },
  "language_info": {
   "codemirror_mode": {
    "name": "ipython",
    "version": 3
   },
   "file_extension": ".py",
   "mimetype": "text/x-python",
   "name": "python",
   "nbconvert_exporter": "python",
   "pygments_lexer": "ipython3",
   "version": "3.10.12"
  }
 },
 "nbformat": 4,
 "nbformat_minor": 4
}
