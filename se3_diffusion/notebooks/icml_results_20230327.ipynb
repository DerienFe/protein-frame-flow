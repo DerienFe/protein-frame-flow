{
 "cells": [
  {
   "cell_type": "code",
   "execution_count": null,
   "metadata": {
    "tags": []
   },
   "outputs": [],
   "source": [
    "import torch\n",
    "import os\n",
    "import numpy as np\n",
    "import shutil\n",
    "import matplotlib.pyplot as plt\n",
    "import plotnine as gg\n",
    "from collections import defaultdict\n",
    "from analysis import utils as au\n",
    "from analysis import plotting\n",
    "from data import utils as du\n",
    "import seaborn as sns\n",
    "import tree\n",
    "from data import rosetta_data_loader\n",
    "\n",
    "import sys\n",
    "import argparse\n",
    "import re\n",
    "import logging\n",
    "\n",
    "import pandas as pd\n",
    "pd.set_option('display.max_colwidth', None)\n",
    "\n",
    "from omegaconf import DictConfig, OmegaConf\n",
    "import importlib\n",
    "\n",
    "# Enable logging\n",
    "import logging\n",
    "import sys\n",
    "date_strftime_format = \"%Y-%m-%y %H:%M:%S\"\n",
    "logging.basicConfig(stream=sys.stdout, level=logging.INFO, format=\"%(asctime)s %(message)s\", datefmt=date_strftime_format)\n",
    "\n",
    "torch.hub.set_dir('/data/rsg/chemistry/jyim/.cache/torch')\n",
    "plt.rcParams.update({'font.size': 14})"
   ]
  },
  {
   "cell_type": "code",
   "execution_count": null,
   "metadata": {},
   "outputs": [],
   "source": [
    "all_csvs = []\n",
    "results_dir = '/data/rsg/chemistry/jyim/projects/protein_diffusion/samples/unconditional_512_0/27D_11M_2022Y_09h_58m_16s/unconditional/saved_run_2'\n",
    "print(f'Reading samples from {results_dir}')\n",
    "for sample_length in os.listdir(results_dir):\n",
    "    if '.' in sample_length:\n",
    "        continue\n",
    "    length_dir = os.path.join(results_dir, sample_length)\n",
    "    for i,sample_name in enumerate(os.listdir(length_dir)):\n",
    "        if '.' in sample_name:\n",
    "            continue\n",
    "        csv_path = os.path.join(length_dir, sample_name, 'mpnn', 'sc_results.csv')\n",
    "        if os.path.exists(csv_path):\n",
    "            design_csv = pd.read_csv(csv_path, index_col=0)\n",
    "            design_csv['length'] = int(sample_length.split('_')[1])\n",
    "            design_csv['sample_id'] = i\n",
    "            all_csvs.append(design_csv)\n",
    "self_conditioned_df = pd.concat(all_csvs)\n"
   ]
  },
  {
   "cell_type": "code",
   "execution_count": null,
   "metadata": {},
   "outputs": [],
   "source": []
  },
  {
   "cell_type": "markdown",
   "metadata": {},
   "source": [
    "# Process results"
   ]
  },
  {
   "cell_type": "code",
   "execution_count": null,
   "metadata": {},
   "outputs": [],
   "source": [
    "def pick_path(x):\n",
    "    if x.sample_path is None or x.sample_path == '':\n",
    "        return x.of_path\n",
    "    return x.sample_path\n",
    "\n",
    "length_categories = [\n",
    "    '60-100', '100-200', '200-300', '300-400', '400-500'\n",
    "][::-1]\n",
    "buckets = np.arange(0, 501, 100)\n",
    "\n",
    "def df_process(raw_df):\n",
    "    # Process sample path\n",
    "    df = raw_df.copy()\n",
    "    df['sample_path'] = df['sample_path'].fillna('')\n",
    "    df['sample_path'] = df.apply(pick_path, axis=1)\n",
    "    df['sequence_id'] = df['sample_path'].apply(lambda x: int(os.path.basename(x).replace('.pdb', '').split('_')[1]))\n",
    "    \n",
    "    # Separate based on whether MPNNed\n",
    "    df['header'] = df['header'].fillna('')\n",
    "    df = df[df['header'].map(lambda x: 'sde_1' not in x)]\n",
    "    return df\n",
    "\n",
    "def sc_filter(raw_df, metric):\n",
    "    # Pick best self-consistency sample\n",
    "    if metric == 'rmsd':\n",
    "        df = raw_df.sort_values('rmsd', ascending=True)\n",
    "    elif metric == 'tm':\n",
    "        df = raw_df.sort_values('tm_score', ascending=False)\n",
    "    else:\n",
    "        raise ValueError(f'Unrecognized metric: {metric}')\n",
    "    df = df.groupby(['length', 'sample_id']).first().reset_index()\n",
    "\n",
    "    # Separate into different length groups\n",
    "    df['length_group'] = df.length.map(lambda x: length_categories[np.sum(x <= buckets).item()-1])\n",
    "    df['length_group'] = pd.Categorical(df['length_group'], ordered=True, categories=length_categories[::-1])\n",
    "\n",
    "    # Calculate how designable\n",
    "    cutoff = 0.5\n",
    "    df['designable'] = df.tm_score.map(lambda x: x > cutoff)\n",
    "    designable_df = pd.pivot_table(df, values='designable', index='length_group', aggfunc=np.mean).reset_index()\n",
    "    percent_designable = df['designable'].mean()\n",
    "    print(f'Percent designable: {percent_designable}')\n",
    "    return df, designable_df\n",
    "\n",
    "\n",
    "def process_pipeline(raw_df, metric):\n",
    "    processed_df = df_process(raw_df)\n",
    "    seq_8_df = processed_df[processed_df.sequence_id < 8]\n",
    "    \n",
    "    df, designable = sc_filter(processed_df, metric=metric)\n",
    "    designable['Sequences'] = 100\n",
    "    df['Sequences'] = 100\n",
    "    df_8, designable_8 = sc_filter(seq_8_df, metric=metric)\n",
    "    df_8['Sequences'] = 8\n",
    "    designable_8['Sequences'] = 8\n",
    "    samples_df = pd.concat([df, df_8], axis=0)\n",
    "    designable_df = pd.concat([designable, designable_8], axis=0)\n",
    "    return samples_df, designable_df\n"
   ]
  },
  {
   "cell_type": "code",
   "execution_count": null,
   "metadata": {},
   "outputs": [],
   "source": [
    "plt.rcParams.update({'font.size': 14})\n",
    "\n",
    "def plot_sc_rmsd(df, save_path=None):\n",
    "    rmsd_samples, _ = process_pipeline(df, metric='rmsd')\n",
    "    \n",
    "    p = sns.boxplot(\n",
    "        data=rmsd_samples,\n",
    "        x='length_group',\n",
    "        y='rmsd',\n",
    "        hue='Sequences',\n",
    "        showfliers = False\n",
    "    )\n",
    "\n",
    "    plt.xlabel('Length group')\n",
    "    plt.ylabel('scRMSD')\n",
    "    legend = plt.legend(bbox_to_anchor=(1.03, 1), loc='upper left', borderaxespad=0)\n",
    "    p.legend_.set_title('ProteinMPNN \\nsequences')\n",
    "    plt.ylim(0.0, 25)\n",
    "    if save_path is None:\n",
    "        plt.show()\n",
    "    else:\n",
    "        # fig_path = os.path.join(figure_dir, 'unconditional_scrmsd_plt.png')\n",
    "        plt.savefig(save_path, dpi=300)\n",
    "        \n",
    "def plot_sc_tm(df, save_path=None):\n",
    "    tm_samples, tm_designable = process_pipeline(df, metric='tm')\n",
    "\n",
    "    p = sns.boxplot(\n",
    "        data=tm_samples,\n",
    "        x='length_group',\n",
    "        y='tm_score',\n",
    "        hue='Sequences',\n",
    "        showfliers = False\n",
    "    )\n",
    "\n",
    "    designable_numbers = tm_designable[tm_designable.Sequences == 8].designable.tolist()\n",
    "    for i,xtick in enumerate(p.get_xticks()):\n",
    "        p.text(\n",
    "            xtick,\n",
    "            1.0,\n",
    "            f\"{designable_numbers[i]*100:2.1f}%\\n\",\n",
    "            horizontalalignment='center',\n",
    "            size='small',\n",
    "            color='blue',\n",
    "            weight='semibold'\n",
    "        )\n",
    "\n",
    "    designable_numbers = tm_designable[tm_designable.Sequences == 100].designable.tolist()\n",
    "    for i,xtick in enumerate(p.get_xticks()):\n",
    "        p.text(\n",
    "            xtick,\n",
    "            0.95,\n",
    "            f\"{designable_numbers[i]*100:2.1f}%\\n\",\n",
    "            horizontalalignment='center',\n",
    "            size='small',\n",
    "            color='orange',\n",
    "            weight='semibold'\n",
    "        )\n",
    "\n",
    "    plt.axhline(y = 0.5, color = 'r', linestyle = '--', linewidth=2, alpha=0.5)\n",
    "    plt.ylim(0.0, 1.1)\n",
    "    plt.xlabel('Length group')\n",
    "    plt.ylabel('scTM')\n",
    "\n",
    "    legend = plt.legend(bbox_to_anchor=(1.03, 1), loc='upper left', borderaxespad=0)\n",
    "    p.legend_.set_title('ProteinMPNN \\nsequences')\n",
    "\n",
    "    if save_path is None:\n",
    "        plt.show()\n",
    "    else:\n",
    "        # fig_path = os.path.join(figure_dir, 'unconditional_scrmsd_plt.png')\n",
    "        plt.savefig(save_path, dpi=300)\n"
   ]
  },
  {
   "cell_type": "markdown",
   "metadata": {
    "tags": []
   },
   "source": [
    "# Plot designable results"
   ]
  },
  {
   "cell_type": "code",
   "execution_count": null,
   "metadata": {},
   "outputs": [],
   "source": [
    "plot_sc_rmsd(self_conditioned_df, save_path='scrmsd_plot.png')"
   ]
  },
  {
   "cell_type": "code",
   "execution_count": null,
   "metadata": {},
   "outputs": [],
   "source": [
    "plot_sc_tm(self_conditioned_df, save_path='sctm_plot.png')"
   ]
  },
  {
   "cell_type": "code",
   "execution_count": null,
   "metadata": {},
   "outputs": [],
   "source": []
  },
  {
   "cell_type": "code",
   "execution_count": null,
   "metadata": {},
   "outputs": [],
   "source": []
  },
  {
   "cell_type": "code",
   "execution_count": null,
   "metadata": {},
   "outputs": [],
   "source": []
  },
  {
   "cell_type": "code",
   "execution_count": null,
   "metadata": {},
   "outputs": [],
   "source": [
    "rmsd_samples, _ = process_pipeline(self_conditioned_df, metric='rmsd')"
   ]
  },
  {
   "cell_type": "code",
   "execution_count": null,
   "metadata": {},
   "outputs": [],
   "source": [
    "# Plot\n",
    "p = (\n",
    "    gg.ggplot(\n",
    "        rmsd_samples,\n",
    "        gg.aes('rmsd', color='length_group')\n",
    "    )\n",
    "    + gg.stats.stat_ecdf()\n",
    "    # + gg.scales.scale_x_reverse()\n",
    "    # + gg.geoms.geom_vline(\n",
    "    #     xintercept=cutoff,\n",
    "    #     size=1.0,\n",
    "    #     linetype='dashed',\n",
    "    #     color='red',\n",
    "    # )\n",
    "    + gg.labels.xlab('scRMSD')\n",
    "    + gg.labels.ylab('Percentage of designs')\n",
    ")\n",
    "\n",
    "print(p)"
   ]
  },
  {
   "cell_type": "code",
   "execution_count": null,
   "metadata": {},
   "outputs": [],
   "source": []
  },
  {
   "cell_type": "code",
   "execution_count": null,
   "metadata": {},
   "outputs": [],
   "source": []
  },
  {
   "cell_type": "code",
   "execution_count": null,
   "metadata": {},
   "outputs": [],
   "source": []
  },
  {
   "cell_type": "code",
   "execution_count": null,
   "metadata": {},
   "outputs": [],
   "source": []
  },
  {
   "cell_type": "markdown",
   "metadata": {},
   "source": [
    "# Compare with RFdiffusion"
   ]
  },
  {
   "cell_type": "code",
   "execution_count": null,
   "metadata": {},
   "outputs": [],
   "source": [
    "all_csvs = []\n",
    "results_dir = '/data/rsg/chemistry/jyim/projects/protein_diffusion/samples/unconditional_512_0/27D_11M_2022Y_09h_58m_16s/unconditional/saved_rfdiff_benchmark'\n",
    "print(f'Reading samples from {results_dir}')\n",
    "for sample_length in os.listdir(results_dir):\n",
    "    if '.' in sample_length:\n",
    "        continue\n",
    "    length_dir = os.path.join(results_dir, sample_length)\n",
    "    for i,sample_name in enumerate(os.listdir(length_dir)):\n",
    "        if '.' in sample_name:\n",
    "            continue\n",
    "        csv_path = os.path.join(length_dir, sample_name, 'mpnn', 'sc_results.csv')\n",
    "        if os.path.exists(csv_path):\n",
    "            design_csv = pd.read_csv(csv_path, index_col=0)\n",
    "            design_csv['length'] = int(sample_length.split('_')[1])\n",
    "            design_csv['sample_id'] = i\n",
    "            all_csvs.append(design_csv)\n",
    "benchmark_df = pd.concat(all_csvs)\n"
   ]
  },
  {
   "cell_type": "code",
   "execution_count": null,
   "metadata": {},
   "outputs": [],
   "source": [
    "# Format RF diffusion samples\n",
    "s2f_df = pd.read_csv('S2F_data.csv')\n",
    "s2f_df['Unconditional'] = s2f_df.problem.apply(lambda x: 'uncond' in x)\n",
    "rfdiff_samples_df = s2f_df[s2f_df['Unconditional']]\n",
    "metric = 'rmsd_af2_des'\n",
    "df_temp = rfdiff_samples_df.sort_values(metric)\n",
    "df_temp = df_temp.drop_duplicates('name')\n",
    "\n",
    "cols = [\n",
    "    'rmsd_af2_des',\n",
    "    'problem',\n",
    "    'random',\n",
    "]\n",
    "formatted_rf_diff = {\n",
    "    'length': rfdiff_samples_df.problem.apply(lambda x: int(x.split('_')[1])),\n",
    "    'rmsd': rfdiff_samples_df.rmsd_af2_des,\n",
    "    'model': rfdiff_samples_df.random.map({\n",
    "        'Outputs without Pre-Training': 'RFDiffusion w/o pretraining',\n",
    "        'Outputs with Pre-Training': 'RFDiffusion',\n",
    "    }),\n",
    "}\n",
    "formatted_rf_diff = pd.DataFrame(formatted_rf_diff)\n"
   ]
  },
  {
   "cell_type": "code",
   "execution_count": null,
   "metadata": {},
   "outputs": [],
   "source": [
    "# Format FrameDiff samples\n",
    "# rmsd_samples, _ = process_pipeline(refolded_df, metric='rmsd')\n",
    "rmsd_samples, _ = process_pipeline(benchmark_df, metric='rmsd')\n",
    "rmsd_seq_8_samples = rmsd_samples[rmsd_samples.Sequences == 100]\n",
    "formatted_framediff = rmsd_seq_8_samples[['length', 'rmsd']]\n",
    "formatted_framediff = formatted_framediff[formatted_framediff.length.isin([70, 100, 200, 300])]\n",
    "formatted_framediff['model'] = 'FrameDiff'"
   ]
  },
  {
   "cell_type": "code",
   "execution_count": null,
   "metadata": {},
   "outputs": [],
   "source": [
    "formatted_framediff.length.value_counts()"
   ]
  },
  {
   "cell_type": "code",
   "execution_count": null,
   "metadata": {},
   "outputs": [],
   "source": [
    "formatted_df = pd.concat([formatted_rf_diff, formatted_framediff], axis=0)"
   ]
  },
  {
   "cell_type": "code",
   "execution_count": null,
   "metadata": {},
   "outputs": [],
   "source": [
    "order = ['RFDiffusion w/o pretraining', 'FrameDiff', 'RFDiffusion']\n",
    "ax = sns.boxplot(\n",
    "    x = 'length',\n",
    "    y = 'rmsd',\n",
    "    data = formatted_df,\n",
    "    hue = 'model',\n",
    "    hue_order=order,\n",
    "    showfliers = False\n",
    ")\n",
    "\n",
    "# plt.ylim(0.0, 1.1)\n",
    "plt.xlabel('Length')\n",
    "plt.ylabel('scRMSD')\n",
    "legend = plt.legend(bbox_to_anchor=(1.03, 1), loc='upper left', borderaxespad=0)\n",
    "ax.legend_.set_title('Method')"
   ]
  },
  {
   "cell_type": "code",
   "execution_count": null,
   "metadata": {},
   "outputs": [],
   "source": [
    "zoomed_df = formatted_df[formatted_df.model.isin(['FrameDiff', 'RFDiffusion'])]\n",
    "order = ['FrameDiff', 'RFDiffusion']\n",
    "ax = sns.boxplot(\n",
    "    x = 'length',\n",
    "    y = 'rmsd',\n",
    "    data = zoomed_df,\n",
    "    hue = 'model',\n",
    "    hue_order=order,\n",
    "    showfliers = False,\n",
    "    palette = ['#ff7f0e', '#2ca02c']\n",
    ")\n",
    "ax.set(xlabel=None)\n",
    "ax.set(ylabel=None)\n",
    "plt.ylim(0.0, 10)\n",
    "legend = plt.legend(bbox_to_anchor=(1.03, 1), loc='upper left', borderaxespad=0)\n",
    "legend.remove()"
   ]
  },
  {
   "cell_type": "code",
   "execution_count": null,
   "metadata": {},
   "outputs": [],
   "source": []
  },
  {
   "cell_type": "code",
   "execution_count": null,
   "metadata": {},
   "outputs": [],
   "source": []
  }
 ],
 "metadata": {
  "kernelspec": {
   "display_name": "Python 3 (ipykernel)",
   "language": "python",
   "name": "python3"
  },
  "language_info": {
   "codemirror_mode": {
    "name": "ipython",
    "version": 3
   },
   "file_extension": ".py",
   "mimetype": "text/x-python",
   "name": "python",
   "nbconvert_exporter": "python",
   "pygments_lexer": "ipython3",
   "version": "3.9.16"
  }
 },
 "nbformat": 4,
 "nbformat_minor": 4
}
