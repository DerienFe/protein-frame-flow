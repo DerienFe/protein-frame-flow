{
 "cells": [
  {
   "cell_type": "code",
   "execution_count": 1,
   "metadata": {},
   "outputs": [],
   "source": [
    "import os\n",
    "import pandas as pd\n",
    "import numpy as np\n",
    "import plotnine as gg\n",
    "import esm"
   ]
  },
  {
   "cell_type": "code",
   "execution_count": null,
   "metadata": {},
   "outputs": [],
   "source": []
  },
  {
   "cell_type": "markdown",
   "metadata": {},
   "source": [
    "# Read inference results"
   ]
  },
  {
   "cell_type": "code",
   "execution_count": 2,
   "metadata": {},
   "outputs": [],
   "source": [
    "def read_samples(results_dir):\n",
    "    all_csvs = []\n",
    "    print(f'Reading samples from {results_dir}')\n",
    "    for sample_length in os.listdir(results_dir):\n",
    "        if '.' in sample_length:\n",
    "            continue\n",
    "        length_dir = os.path.join(results_dir, sample_length)\n",
    "        length = int(sample_length.split('_')[1])\n",
    "        for i,sample_name in enumerate(os.listdir(length_dir)):\n",
    "            if '.' in sample_name:\n",
    "                continue\n",
    "            csv_path = os.path.join(length_dir, sample_name, 'self_consistency', 'sc_results.csv')\n",
    "            if os.path.exists(csv_path):\n",
    "                design_csv = pd.read_csv(csv_path, index_col=0)\n",
    "                design_csv['length'] = length\n",
    "                design_csv['sample_id'] = i\n",
    "                all_csvs.append(design_csv)\n",
    "    results_df = pd.concat(all_csvs)\n",
    "    return results_df\n",
    "\n",
    "\n",
    "def sc_filter(raw_df, metric):\n",
    "    # Pick best self-consistency sample\n",
    "    if metric == 'tm_score':\n",
    "        df = raw_df.sort_values('tm_score', ascending=False)\n",
    "        df['designable'] = df.tm_score.map(lambda x: x > 0.5)\n",
    "    elif metric == 'rmsd':\n",
    "        df = raw_df.sort_values('rmsd', ascending=True)\n",
    "        df['designable'] = df.rmsd.map(lambda x: x < 2.0)\n",
    "    else:\n",
    "        raise ValueError(f'Unknown metric {metric}')\n",
    "    df = df.groupby(['length', 'sample_id']).first().reset_index()\n",
    "    percent_designable = df['designable'].mean()\n",
    "    print(f'Percent designable: {percent_designable}')\n",
    "    return df"
   ]
  },
  {
   "cell_type": "code",
   "execution_count": 3,
   "metadata": {},
   "outputs": [
    {
     "name": "stdout",
     "output_type": "stream",
     "text": [
      "Reading samples from /data/rsg/chemistry/jyim/projects/flow-matching/se3_diffusion/inference_outputs/scope_ts_10_ode\n",
      "Percent designable: 0.1709090909090909\n",
      "Percent designable: 0.6327272727272727\n"
     ]
    }
   ],
   "source": [
    "# results_dir = '/data/rsg/chemistry/jyim/projects/flow-matching/se3_diffusion/inference_outputs/scope_noise_scale_10_ts_100'\n",
    "# results_dir = '/data/rsg/chemistry/jyim/projects/flow-matching/se3_diffusion/inference_outputs/scope_noise_scale_10'\n",
    "# results_dir = '/data/rsg/chemistry/jyim/projects/flow-matching/se3_diffusion/inference_outputs/scope_noise_scale_10_ts_10'\n",
    "# results_dir = '/data/rsg/chemistry/jyim/projects/flow-matching/se3_diffusion/inference_outputs/scope_noise_scale_10_ts_10_ode'\n",
    "results_dir = '/data/rsg/chemistry/jyim/projects/flow-matching/se3_diffusion/inference_outputs/scope_ts_10_ode'\n",
    "samples_df = read_samples(results_dir)\n",
    "samples_df = samples_df[samples_df.sample_id < 8] # Ensure we only consider 8 sequences per backbone.\n",
    "\n",
    "scrmsd_results = sc_filter(samples_df, 'rmsd')\n",
    "sctm_results = sc_filter(samples_df, 'tm_score')"
   ]
  },
  {
   "cell_type": "code",
   "execution_count": null,
   "metadata": {},
   "outputs": [],
   "source": []
  },
  {
   "cell_type": "code",
   "execution_count": null,
   "metadata": {},
   "outputs": [],
   "source": []
  },
  {
   "cell_type": "markdown",
   "metadata": {},
   "source": [
    "# Re calculate pLDDT"
   ]
  },
  {
   "cell_type": "code",
   "execution_count": null,
   "metadata": {},
   "outputs": [],
   "source": [
    "folding_model = esm.pretrained.esmfold_v1().eval()\n",
    "folding_model = folding_model.to('cuda:4')"
   ]
  },
  {
   "cell_type": "code",
   "execution_count": 15,
   "metadata": {},
   "outputs": [],
   "source": [
    "designable_sctm_results = sctm_results[sctm_results.designable]"
   ]
  },
  {
   "cell_type": "code",
   "execution_count": 20,
   "metadata": {},
   "outputs": [
    {
     "data": {
      "text/plain": [
       "'AAARERAERLARIRALWEEARAENPNATLREIGERAGISPETVSRGIREVEEEERRAAGI'"
      ]
     },
     "execution_count": 20,
     "metadata": {},
     "output_type": "execute_result"
    }
   ],
   "source": [
    "all_sequences = designable_sctm_results.sequence.tolist()\n",
    "all_plddt = []\n",
    "for seq in all_sequences:\n",
    "    with torch.no_grad():\n",
    "        output = folding_model.infer(seq)\n",
    "    all_plddt.append(output['mean_plddt'])\n",
    "all_plddt = torch.stack(all_plddt).squeeze().cpu().numpy()\n",
    "designable_sctm_results['plddt'] = all_plddt"
   ]
  },
  {
   "cell_type": "code",
   "execution_count": 41,
   "metadata": {},
   "outputs": [],
   "source": [
    "confident_sctm_results = designable_sctm_results[designable_sctm_results.plddt > 70]\n",
    "confident_designable = len(confident_sctm_results) / len(designable_sctm_results)"
   ]
  },
  {
   "cell_type": "code",
   "execution_count": null,
   "metadata": {},
   "outputs": [],
   "source": []
  },
  {
   "cell_type": "code",
   "execution_count": 50,
   "metadata": {},
   "outputs": [],
   "source": [
    "import shutil"
   ]
  },
  {
   "cell_type": "code",
   "execution_count": 53,
   "metadata": {},
   "outputs": [],
   "source": [
    "confident_paths = confident_sctm_results.sample_path.map(\n",
    "    lambda x: '/data/rsg/chemistry/jyim/projects/flow-matching/se3_diffusion/' + '/'.join(x.split('/')[:-3]) + '/sample_1.pdb').tolist()"
   ]
  },
  {
   "cell_type": "code",
   "execution_count": 60,
   "metadata": {},
   "outputs": [],
   "source": [
    "write_dir = '/data/rsg/chemistry/jyim/projects/flow-matching/se3_diffusion/cluster_results/scope'\n",
    "pdb_text_path = '/data/rsg/chemistry/jyim/projects/flow-matching/se3_diffusion/cluster_results/scope/pdbs.txt'\n",
    "with open(pdb_text_path, 'w') as f:\n",
    "    for i,path in enumerate(confident_paths):\n",
    "        write_path = write_dir + f'/sample_{i}.pdb'\n",
    "        shutil.copy(path, write_path)\n",
    "        f.write(write_path+'\\n')"
   ]
  },
  {
   "cell_type": "code",
   "execution_count": 65,
   "metadata": {},
   "outputs": [
    {
     "data": {
      "text/plain": [
       "0.41336633663366334"
      ]
     },
     "execution_count": 65,
     "metadata": {},
     "output_type": "execute_result"
    }
   ],
   "source": [
    "167 / 404"
   ]
  },
  {
   "cell_type": "code",
   "execution_count": null,
   "metadata": {},
   "outputs": [],
   "source": []
  },
  {
   "cell_type": "code",
   "execution_count": 61,
   "metadata": {},
   "outputs": [],
   "source": [
    "cluster_results_path = '/data/rsg/chemistry/jyim/projects/flow-matching/se3_diffusion/cluster_results/scope/maxcluster_results.txt'\n",
    "with open(cluster_results_path) as f:\n",
    "    lines = f.readlines()"
   ]
  },
  {
   "cell_type": "code",
   "execution_count": null,
   "metadata": {},
   "outputs": [],
   "source": [
    "cluster_lines = []\n",
    "for x in lines:\n",
    "    if x"
   ]
  },
  {
   "cell_type": "code",
   "execution_count": null,
   "metadata": {},
   "outputs": [],
   "source": [
    "[x for x in lines if 'INFO  : Item     Cluster'"
   ]
  },
  {
   "cell_type": "code",
   "execution_count": null,
   "metadata": {},
   "outputs": [],
   "source": []
  }
 ],
 "metadata": {
  "kernelspec": {
   "display_name": "Python 3 (ipykernel)",
   "language": "python",
   "name": "python3"
  },
  "language_info": {
   "codemirror_mode": {
    "name": "ipython",
    "version": 3
   },
   "file_extension": ".py",
   "mimetype": "text/x-python",
   "name": "python",
   "nbconvert_exporter": "python",
   "pygments_lexer": "ipython3",
   "version": "3.10.12"
  }
 },
 "nbformat": 4,
 "nbformat_minor": 4
}
